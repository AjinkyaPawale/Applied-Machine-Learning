{
  "nbformat": 4,
  "nbformat_minor": 0,
  "metadata": {
    "kernelspec": {
      "display_name": "Python 3",
      "language": "python",
      "name": "python3"
    },
    "language_info": {
      "codemirror_mode": {
        "name": "ipython",
        "version": 3
      },
      "file_extension": ".py",
      "mimetype": "text/x-python",
      "name": "python",
      "nbconvert_exporter": "python",
      "pygments_lexer": "ipython3",
      "version": "3.8.5"
    },
    "colab": {
      "name": "Part2_baseline-dropout",
      "provenance": [],
      "collapsed_sections": [
        "1rpFda2-gSt9",
        "3t5pCP7xpCGt",
        "0NpSqZAMqJYO"
      ]
    },
    "accelerator": "GPU"
  },
  "cells": [
    {
      "cell_type": "code",
      "metadata": {
        "id": "YX2A0hSx0HIH",
        "colab": {
          "base_uri": "https://localhost:8080/"
        },
        "outputId": "a620d46f-9083-414f-b116-0c67fb5760be"
      },
      "source": [
        "!pip install torch"
      ],
      "execution_count": 1,
      "outputs": [
        {
          "output_type": "stream",
          "text": [
            "Requirement already satisfied: torch in /usr/local/lib/python3.7/dist-packages (1.8.1+cu101)\n",
            "Requirement already satisfied: typing-extensions in /usr/local/lib/python3.7/dist-packages (from torch) (3.7.4.3)\n",
            "Requirement already satisfied: numpy in /usr/local/lib/python3.7/dist-packages (from torch) (1.19.5)\n"
          ],
          "name": "stdout"
        }
      ]
    },
    {
      "cell_type": "code",
      "metadata": {
        "id": "mm64Y3mx0HIT"
      },
      "source": [
        "from sklearn.datasets import fetch_openml\n",
        "import numpy as np\n",
        "import pandas as pd\n",
        "import matplotlib as mpl\n",
        "import matplotlib.pyplot as plt\n",
        "from sklearn.model_selection import StratifiedShuffleSplit\n",
        "from sklearn.model_selection import train_test_split\n",
        "import collections\n",
        "import torch\n",
        "import torch.nn as nn\n",
        "import torch.nn.functional as F\n",
        "import torch.nn.functional as Func\n",
        "from torch.autograd import Variable\n",
        "import torch.optim as optim\n",
        "import torch.utils.data as data\n",
        "from torch.utils.data import DataLoader, TensorDataset\n",
        "import random\n",
        "from scipy.io import savemat\n",
        "import os\n",
        "from os import path\n",
        "from sklearn.preprocessing import normalize\n",
        "from torch.nn.utils import clip_grad_norm_\n",
        "import torch.nn.parallel.data_parallel as data_parallel\n",
        "from sklearn.metrics import confusion_matrix\n",
        "from sklearn.metrics import accuracy_score\n",
        "from torch.optim.lr_scheduler import LambdaLR, StepLR, MultiStepLR, ExponentialLR, ReduceLROnPlateau"
      ],
      "execution_count": 16,
      "outputs": []
    },
    {
      "cell_type": "markdown",
      "metadata": {
        "id": "l5dnDSYGQ8aL"
      },
      "source": [
        "### Loading the dataset as key value pair"
      ]
    },
    {
      "cell_type": "code",
      "metadata": {
        "colab": {
          "base_uri": "https://localhost:8080/"
        },
        "id": "fCg-1Wfi0HIU",
        "outputId": "38a7ce51-acdb-453c-ee7e-e02d247d88f9"
      },
      "source": [
        "mnist = fetch_openml('mnist_784',version=1)\n",
        "mnist.keys()"
      ],
      "execution_count": 17,
      "outputs": [
        {
          "output_type": "execute_result",
          "data": {
            "text/plain": [
              "dict_keys(['data', 'target', 'frame', 'feature_names', 'target_names', 'DESCR', 'details', 'categories', 'url'])"
            ]
          },
          "metadata": {
            "tags": []
          },
          "execution_count": 17
        }
      ]
    },
    {
      "cell_type": "code",
      "metadata": {
        "colab": {
          "base_uri": "https://localhost:8080/"
        },
        "id": "mE7eC4YG0HIV",
        "outputId": "2dc96f84-480f-41d3-a01d-2c4a5d5281c9"
      },
      "source": [
        "mnist"
      ],
      "execution_count": 18,
      "outputs": [
        {
          "output_type": "execute_result",
          "data": {
            "text/plain": [
              "{'DESCR': \"**Author**: Yann LeCun, Corinna Cortes, Christopher J.C. Burges  \\n**Source**: [MNIST Website](http://yann.lecun.com/exdb/mnist/) - Date unknown  \\n**Please cite**:  \\n\\nThe MNIST database of handwritten digits with 784 features, raw data available at: http://yann.lecun.com/exdb/mnist/. It can be split in a training set of the first 60,000 examples, and a test set of 10,000 examples  \\n\\nIt is a subset of a larger set available from NIST. The digits have been size-normalized and centered in a fixed-size image. It is a good database for people who want to try learning techniques and pattern recognition methods on real-world data while spending minimal efforts on preprocessing and formatting. The original black and white (bilevel) images from NIST were size normalized to fit in a 20x20 pixel box while preserving their aspect ratio. The resulting images contain grey levels as a result of the anti-aliasing technique used by the normalization algorithm. the images were centered in a 28x28 image by computing the center of mass of the pixels, and translating the image so as to position this point at the center of the 28x28 field.  \\n\\nWith some classification methods (particularly template-based methods, such as SVM and K-nearest neighbors), the error rate improves when the digits are centered by bounding box rather than center of mass. If you do this kind of pre-processing, you should report it in your publications. The MNIST database was constructed from NIST's NIST originally designated SD-3 as their training set and SD-1 as their test set. However, SD-3 is much cleaner and easier to recognize than SD-1. The reason for this can be found on the fact that SD-3 was collected among Census Bureau employees, while SD-1 was collected among high-school students. Drawing sensible conclusions from learning experiments requires that the result be independent of the choice of training set and test among the complete set of samples. Therefore it was necessary to build a new database by mixing NIST's datasets.  \\n\\nThe MNIST training set is composed of 30,000 patterns from SD-3 and 30,000 patterns from SD-1. Our test set was composed of 5,000 patterns from SD-3 and 5,000 patterns from SD-1. The 60,000 pattern training set contained examples from approximately 250 writers. We made sure that the sets of writers of the training set and test set were disjoint. SD-1 contains 58,527 digit images written by 500 different writers. In contrast to SD-3, where blocks of data from each writer appeared in sequence, the data in SD-1 is scrambled. Writer identities for SD-1 is available and we used this information to unscramble the writers. We then split SD-1 in two: characters written by the first 250 writers went into our new training set. The remaining 250 writers were placed in our test set. Thus we had two sets with nearly 30,000 examples each. The new training set was completed with enough examples from SD-3, starting at pattern # 0, to make a full set of 60,000 training patterns. Similarly, the new test set was completed with SD-3 examples starting at pattern # 35,000 to make a full set with 60,000 test patterns. Only a subset of 10,000 test images (5,000 from SD-1 and 5,000 from SD-3) is available on this site. The full 60,000 sample training set is available.\\n\\nDownloaded from openml.org.\",\n",
              " 'categories': {},\n",
              " 'data': array([[0., 0., 0., ..., 0., 0., 0.],\n",
              "        [0., 0., 0., ..., 0., 0., 0.],\n",
              "        [0., 0., 0., ..., 0., 0., 0.],\n",
              "        ...,\n",
              "        [0., 0., 0., ..., 0., 0., 0.],\n",
              "        [0., 0., 0., ..., 0., 0., 0.],\n",
              "        [0., 0., 0., ..., 0., 0., 0.]]),\n",
              " 'details': {'default_target_attribute': 'class',\n",
              "  'file_id': '52667',\n",
              "  'format': 'ARFF',\n",
              "  'id': '554',\n",
              "  'licence': 'Public',\n",
              "  'md5_checksum': '0298d579eb1b86163de7723944c7e495',\n",
              "  'name': 'mnist_784',\n",
              "  'processing_date': '2020-11-20 20:12:09',\n",
              "  'status': 'active',\n",
              "  'tag': ['AzurePilot',\n",
              "   'OpenML-CC18',\n",
              "   'OpenML100',\n",
              "   'study_1',\n",
              "   'study_123',\n",
              "   'study_41',\n",
              "   'study_99',\n",
              "   'vision'],\n",
              "  'upload_date': '2014-09-29T03:28:38',\n",
              "  'url': 'https://www.openml.org/data/v1/download/52667/mnist_784.arff',\n",
              "  'version': '1',\n",
              "  'visibility': 'public'},\n",
              " 'feature_names': ['pixel1',\n",
              "  'pixel2',\n",
              "  'pixel3',\n",
              "  'pixel4',\n",
              "  'pixel5',\n",
              "  'pixel6',\n",
              "  'pixel7',\n",
              "  'pixel8',\n",
              "  'pixel9',\n",
              "  'pixel10',\n",
              "  'pixel11',\n",
              "  'pixel12',\n",
              "  'pixel13',\n",
              "  'pixel14',\n",
              "  'pixel15',\n",
              "  'pixel16',\n",
              "  'pixel17',\n",
              "  'pixel18',\n",
              "  'pixel19',\n",
              "  'pixel20',\n",
              "  'pixel21',\n",
              "  'pixel22',\n",
              "  'pixel23',\n",
              "  'pixel24',\n",
              "  'pixel25',\n",
              "  'pixel26',\n",
              "  'pixel27',\n",
              "  'pixel28',\n",
              "  'pixel29',\n",
              "  'pixel30',\n",
              "  'pixel31',\n",
              "  'pixel32',\n",
              "  'pixel33',\n",
              "  'pixel34',\n",
              "  'pixel35',\n",
              "  'pixel36',\n",
              "  'pixel37',\n",
              "  'pixel38',\n",
              "  'pixel39',\n",
              "  'pixel40',\n",
              "  'pixel41',\n",
              "  'pixel42',\n",
              "  'pixel43',\n",
              "  'pixel44',\n",
              "  'pixel45',\n",
              "  'pixel46',\n",
              "  'pixel47',\n",
              "  'pixel48',\n",
              "  'pixel49',\n",
              "  'pixel50',\n",
              "  'pixel51',\n",
              "  'pixel52',\n",
              "  'pixel53',\n",
              "  'pixel54',\n",
              "  'pixel55',\n",
              "  'pixel56',\n",
              "  'pixel57',\n",
              "  'pixel58',\n",
              "  'pixel59',\n",
              "  'pixel60',\n",
              "  'pixel61',\n",
              "  'pixel62',\n",
              "  'pixel63',\n",
              "  'pixel64',\n",
              "  'pixel65',\n",
              "  'pixel66',\n",
              "  'pixel67',\n",
              "  'pixel68',\n",
              "  'pixel69',\n",
              "  'pixel70',\n",
              "  'pixel71',\n",
              "  'pixel72',\n",
              "  'pixel73',\n",
              "  'pixel74',\n",
              "  'pixel75',\n",
              "  'pixel76',\n",
              "  'pixel77',\n",
              "  'pixel78',\n",
              "  'pixel79',\n",
              "  'pixel80',\n",
              "  'pixel81',\n",
              "  'pixel82',\n",
              "  'pixel83',\n",
              "  'pixel84',\n",
              "  'pixel85',\n",
              "  'pixel86',\n",
              "  'pixel87',\n",
              "  'pixel88',\n",
              "  'pixel89',\n",
              "  'pixel90',\n",
              "  'pixel91',\n",
              "  'pixel92',\n",
              "  'pixel93',\n",
              "  'pixel94',\n",
              "  'pixel95',\n",
              "  'pixel96',\n",
              "  'pixel97',\n",
              "  'pixel98',\n",
              "  'pixel99',\n",
              "  'pixel100',\n",
              "  'pixel101',\n",
              "  'pixel102',\n",
              "  'pixel103',\n",
              "  'pixel104',\n",
              "  'pixel105',\n",
              "  'pixel106',\n",
              "  'pixel107',\n",
              "  'pixel108',\n",
              "  'pixel109',\n",
              "  'pixel110',\n",
              "  'pixel111',\n",
              "  'pixel112',\n",
              "  'pixel113',\n",
              "  'pixel114',\n",
              "  'pixel115',\n",
              "  'pixel116',\n",
              "  'pixel117',\n",
              "  'pixel118',\n",
              "  'pixel119',\n",
              "  'pixel120',\n",
              "  'pixel121',\n",
              "  'pixel122',\n",
              "  'pixel123',\n",
              "  'pixel124',\n",
              "  'pixel125',\n",
              "  'pixel126',\n",
              "  'pixel127',\n",
              "  'pixel128',\n",
              "  'pixel129',\n",
              "  'pixel130',\n",
              "  'pixel131',\n",
              "  'pixel132',\n",
              "  'pixel133',\n",
              "  'pixel134',\n",
              "  'pixel135',\n",
              "  'pixel136',\n",
              "  'pixel137',\n",
              "  'pixel138',\n",
              "  'pixel139',\n",
              "  'pixel140',\n",
              "  'pixel141',\n",
              "  'pixel142',\n",
              "  'pixel143',\n",
              "  'pixel144',\n",
              "  'pixel145',\n",
              "  'pixel146',\n",
              "  'pixel147',\n",
              "  'pixel148',\n",
              "  'pixel149',\n",
              "  'pixel150',\n",
              "  'pixel151',\n",
              "  'pixel152',\n",
              "  'pixel153',\n",
              "  'pixel154',\n",
              "  'pixel155',\n",
              "  'pixel156',\n",
              "  'pixel157',\n",
              "  'pixel158',\n",
              "  'pixel159',\n",
              "  'pixel160',\n",
              "  'pixel161',\n",
              "  'pixel162',\n",
              "  'pixel163',\n",
              "  'pixel164',\n",
              "  'pixel165',\n",
              "  'pixel166',\n",
              "  'pixel167',\n",
              "  'pixel168',\n",
              "  'pixel169',\n",
              "  'pixel170',\n",
              "  'pixel171',\n",
              "  'pixel172',\n",
              "  'pixel173',\n",
              "  'pixel174',\n",
              "  'pixel175',\n",
              "  'pixel176',\n",
              "  'pixel177',\n",
              "  'pixel178',\n",
              "  'pixel179',\n",
              "  'pixel180',\n",
              "  'pixel181',\n",
              "  'pixel182',\n",
              "  'pixel183',\n",
              "  'pixel184',\n",
              "  'pixel185',\n",
              "  'pixel186',\n",
              "  'pixel187',\n",
              "  'pixel188',\n",
              "  'pixel189',\n",
              "  'pixel190',\n",
              "  'pixel191',\n",
              "  'pixel192',\n",
              "  'pixel193',\n",
              "  'pixel194',\n",
              "  'pixel195',\n",
              "  'pixel196',\n",
              "  'pixel197',\n",
              "  'pixel198',\n",
              "  'pixel199',\n",
              "  'pixel200',\n",
              "  'pixel201',\n",
              "  'pixel202',\n",
              "  'pixel203',\n",
              "  'pixel204',\n",
              "  'pixel205',\n",
              "  'pixel206',\n",
              "  'pixel207',\n",
              "  'pixel208',\n",
              "  'pixel209',\n",
              "  'pixel210',\n",
              "  'pixel211',\n",
              "  'pixel212',\n",
              "  'pixel213',\n",
              "  'pixel214',\n",
              "  'pixel215',\n",
              "  'pixel216',\n",
              "  'pixel217',\n",
              "  'pixel218',\n",
              "  'pixel219',\n",
              "  'pixel220',\n",
              "  'pixel221',\n",
              "  'pixel222',\n",
              "  'pixel223',\n",
              "  'pixel224',\n",
              "  'pixel225',\n",
              "  'pixel226',\n",
              "  'pixel227',\n",
              "  'pixel228',\n",
              "  'pixel229',\n",
              "  'pixel230',\n",
              "  'pixel231',\n",
              "  'pixel232',\n",
              "  'pixel233',\n",
              "  'pixel234',\n",
              "  'pixel235',\n",
              "  'pixel236',\n",
              "  'pixel237',\n",
              "  'pixel238',\n",
              "  'pixel239',\n",
              "  'pixel240',\n",
              "  'pixel241',\n",
              "  'pixel242',\n",
              "  'pixel243',\n",
              "  'pixel244',\n",
              "  'pixel245',\n",
              "  'pixel246',\n",
              "  'pixel247',\n",
              "  'pixel248',\n",
              "  'pixel249',\n",
              "  'pixel250',\n",
              "  'pixel251',\n",
              "  'pixel252',\n",
              "  'pixel253',\n",
              "  'pixel254',\n",
              "  'pixel255',\n",
              "  'pixel256',\n",
              "  'pixel257',\n",
              "  'pixel258',\n",
              "  'pixel259',\n",
              "  'pixel260',\n",
              "  'pixel261',\n",
              "  'pixel262',\n",
              "  'pixel263',\n",
              "  'pixel264',\n",
              "  'pixel265',\n",
              "  'pixel266',\n",
              "  'pixel267',\n",
              "  'pixel268',\n",
              "  'pixel269',\n",
              "  'pixel270',\n",
              "  'pixel271',\n",
              "  'pixel272',\n",
              "  'pixel273',\n",
              "  'pixel274',\n",
              "  'pixel275',\n",
              "  'pixel276',\n",
              "  'pixel277',\n",
              "  'pixel278',\n",
              "  'pixel279',\n",
              "  'pixel280',\n",
              "  'pixel281',\n",
              "  'pixel282',\n",
              "  'pixel283',\n",
              "  'pixel284',\n",
              "  'pixel285',\n",
              "  'pixel286',\n",
              "  'pixel287',\n",
              "  'pixel288',\n",
              "  'pixel289',\n",
              "  'pixel290',\n",
              "  'pixel291',\n",
              "  'pixel292',\n",
              "  'pixel293',\n",
              "  'pixel294',\n",
              "  'pixel295',\n",
              "  'pixel296',\n",
              "  'pixel297',\n",
              "  'pixel298',\n",
              "  'pixel299',\n",
              "  'pixel300',\n",
              "  'pixel301',\n",
              "  'pixel302',\n",
              "  'pixel303',\n",
              "  'pixel304',\n",
              "  'pixel305',\n",
              "  'pixel306',\n",
              "  'pixel307',\n",
              "  'pixel308',\n",
              "  'pixel309',\n",
              "  'pixel310',\n",
              "  'pixel311',\n",
              "  'pixel312',\n",
              "  'pixel313',\n",
              "  'pixel314',\n",
              "  'pixel315',\n",
              "  'pixel316',\n",
              "  'pixel317',\n",
              "  'pixel318',\n",
              "  'pixel319',\n",
              "  'pixel320',\n",
              "  'pixel321',\n",
              "  'pixel322',\n",
              "  'pixel323',\n",
              "  'pixel324',\n",
              "  'pixel325',\n",
              "  'pixel326',\n",
              "  'pixel327',\n",
              "  'pixel328',\n",
              "  'pixel329',\n",
              "  'pixel330',\n",
              "  'pixel331',\n",
              "  'pixel332',\n",
              "  'pixel333',\n",
              "  'pixel334',\n",
              "  'pixel335',\n",
              "  'pixel336',\n",
              "  'pixel337',\n",
              "  'pixel338',\n",
              "  'pixel339',\n",
              "  'pixel340',\n",
              "  'pixel341',\n",
              "  'pixel342',\n",
              "  'pixel343',\n",
              "  'pixel344',\n",
              "  'pixel345',\n",
              "  'pixel346',\n",
              "  'pixel347',\n",
              "  'pixel348',\n",
              "  'pixel349',\n",
              "  'pixel350',\n",
              "  'pixel351',\n",
              "  'pixel352',\n",
              "  'pixel353',\n",
              "  'pixel354',\n",
              "  'pixel355',\n",
              "  'pixel356',\n",
              "  'pixel357',\n",
              "  'pixel358',\n",
              "  'pixel359',\n",
              "  'pixel360',\n",
              "  'pixel361',\n",
              "  'pixel362',\n",
              "  'pixel363',\n",
              "  'pixel364',\n",
              "  'pixel365',\n",
              "  'pixel366',\n",
              "  'pixel367',\n",
              "  'pixel368',\n",
              "  'pixel369',\n",
              "  'pixel370',\n",
              "  'pixel371',\n",
              "  'pixel372',\n",
              "  'pixel373',\n",
              "  'pixel374',\n",
              "  'pixel375',\n",
              "  'pixel376',\n",
              "  'pixel377',\n",
              "  'pixel378',\n",
              "  'pixel379',\n",
              "  'pixel380',\n",
              "  'pixel381',\n",
              "  'pixel382',\n",
              "  'pixel383',\n",
              "  'pixel384',\n",
              "  'pixel385',\n",
              "  'pixel386',\n",
              "  'pixel387',\n",
              "  'pixel388',\n",
              "  'pixel389',\n",
              "  'pixel390',\n",
              "  'pixel391',\n",
              "  'pixel392',\n",
              "  'pixel393',\n",
              "  'pixel394',\n",
              "  'pixel395',\n",
              "  'pixel396',\n",
              "  'pixel397',\n",
              "  'pixel398',\n",
              "  'pixel399',\n",
              "  'pixel400',\n",
              "  'pixel401',\n",
              "  'pixel402',\n",
              "  'pixel403',\n",
              "  'pixel404',\n",
              "  'pixel405',\n",
              "  'pixel406',\n",
              "  'pixel407',\n",
              "  'pixel408',\n",
              "  'pixel409',\n",
              "  'pixel410',\n",
              "  'pixel411',\n",
              "  'pixel412',\n",
              "  'pixel413',\n",
              "  'pixel414',\n",
              "  'pixel415',\n",
              "  'pixel416',\n",
              "  'pixel417',\n",
              "  'pixel418',\n",
              "  'pixel419',\n",
              "  'pixel420',\n",
              "  'pixel421',\n",
              "  'pixel422',\n",
              "  'pixel423',\n",
              "  'pixel424',\n",
              "  'pixel425',\n",
              "  'pixel426',\n",
              "  'pixel427',\n",
              "  'pixel428',\n",
              "  'pixel429',\n",
              "  'pixel430',\n",
              "  'pixel431',\n",
              "  'pixel432',\n",
              "  'pixel433',\n",
              "  'pixel434',\n",
              "  'pixel435',\n",
              "  'pixel436',\n",
              "  'pixel437',\n",
              "  'pixel438',\n",
              "  'pixel439',\n",
              "  'pixel440',\n",
              "  'pixel441',\n",
              "  'pixel442',\n",
              "  'pixel443',\n",
              "  'pixel444',\n",
              "  'pixel445',\n",
              "  'pixel446',\n",
              "  'pixel447',\n",
              "  'pixel448',\n",
              "  'pixel449',\n",
              "  'pixel450',\n",
              "  'pixel451',\n",
              "  'pixel452',\n",
              "  'pixel453',\n",
              "  'pixel454',\n",
              "  'pixel455',\n",
              "  'pixel456',\n",
              "  'pixel457',\n",
              "  'pixel458',\n",
              "  'pixel459',\n",
              "  'pixel460',\n",
              "  'pixel461',\n",
              "  'pixel462',\n",
              "  'pixel463',\n",
              "  'pixel464',\n",
              "  'pixel465',\n",
              "  'pixel466',\n",
              "  'pixel467',\n",
              "  'pixel468',\n",
              "  'pixel469',\n",
              "  'pixel470',\n",
              "  'pixel471',\n",
              "  'pixel472',\n",
              "  'pixel473',\n",
              "  'pixel474',\n",
              "  'pixel475',\n",
              "  'pixel476',\n",
              "  'pixel477',\n",
              "  'pixel478',\n",
              "  'pixel479',\n",
              "  'pixel480',\n",
              "  'pixel481',\n",
              "  'pixel482',\n",
              "  'pixel483',\n",
              "  'pixel484',\n",
              "  'pixel485',\n",
              "  'pixel486',\n",
              "  'pixel487',\n",
              "  'pixel488',\n",
              "  'pixel489',\n",
              "  'pixel490',\n",
              "  'pixel491',\n",
              "  'pixel492',\n",
              "  'pixel493',\n",
              "  'pixel494',\n",
              "  'pixel495',\n",
              "  'pixel496',\n",
              "  'pixel497',\n",
              "  'pixel498',\n",
              "  'pixel499',\n",
              "  'pixel500',\n",
              "  'pixel501',\n",
              "  'pixel502',\n",
              "  'pixel503',\n",
              "  'pixel504',\n",
              "  'pixel505',\n",
              "  'pixel506',\n",
              "  'pixel507',\n",
              "  'pixel508',\n",
              "  'pixel509',\n",
              "  'pixel510',\n",
              "  'pixel511',\n",
              "  'pixel512',\n",
              "  'pixel513',\n",
              "  'pixel514',\n",
              "  'pixel515',\n",
              "  'pixel516',\n",
              "  'pixel517',\n",
              "  'pixel518',\n",
              "  'pixel519',\n",
              "  'pixel520',\n",
              "  'pixel521',\n",
              "  'pixel522',\n",
              "  'pixel523',\n",
              "  'pixel524',\n",
              "  'pixel525',\n",
              "  'pixel526',\n",
              "  'pixel527',\n",
              "  'pixel528',\n",
              "  'pixel529',\n",
              "  'pixel530',\n",
              "  'pixel531',\n",
              "  'pixel532',\n",
              "  'pixel533',\n",
              "  'pixel534',\n",
              "  'pixel535',\n",
              "  'pixel536',\n",
              "  'pixel537',\n",
              "  'pixel538',\n",
              "  'pixel539',\n",
              "  'pixel540',\n",
              "  'pixel541',\n",
              "  'pixel542',\n",
              "  'pixel543',\n",
              "  'pixel544',\n",
              "  'pixel545',\n",
              "  'pixel546',\n",
              "  'pixel547',\n",
              "  'pixel548',\n",
              "  'pixel549',\n",
              "  'pixel550',\n",
              "  'pixel551',\n",
              "  'pixel552',\n",
              "  'pixel553',\n",
              "  'pixel554',\n",
              "  'pixel555',\n",
              "  'pixel556',\n",
              "  'pixel557',\n",
              "  'pixel558',\n",
              "  'pixel559',\n",
              "  'pixel560',\n",
              "  'pixel561',\n",
              "  'pixel562',\n",
              "  'pixel563',\n",
              "  'pixel564',\n",
              "  'pixel565',\n",
              "  'pixel566',\n",
              "  'pixel567',\n",
              "  'pixel568',\n",
              "  'pixel569',\n",
              "  'pixel570',\n",
              "  'pixel571',\n",
              "  'pixel572',\n",
              "  'pixel573',\n",
              "  'pixel574',\n",
              "  'pixel575',\n",
              "  'pixel576',\n",
              "  'pixel577',\n",
              "  'pixel578',\n",
              "  'pixel579',\n",
              "  'pixel580',\n",
              "  'pixel581',\n",
              "  'pixel582',\n",
              "  'pixel583',\n",
              "  'pixel584',\n",
              "  'pixel585',\n",
              "  'pixel586',\n",
              "  'pixel587',\n",
              "  'pixel588',\n",
              "  'pixel589',\n",
              "  'pixel590',\n",
              "  'pixel591',\n",
              "  'pixel592',\n",
              "  'pixel593',\n",
              "  'pixel594',\n",
              "  'pixel595',\n",
              "  'pixel596',\n",
              "  'pixel597',\n",
              "  'pixel598',\n",
              "  'pixel599',\n",
              "  'pixel600',\n",
              "  'pixel601',\n",
              "  'pixel602',\n",
              "  'pixel603',\n",
              "  'pixel604',\n",
              "  'pixel605',\n",
              "  'pixel606',\n",
              "  'pixel607',\n",
              "  'pixel608',\n",
              "  'pixel609',\n",
              "  'pixel610',\n",
              "  'pixel611',\n",
              "  'pixel612',\n",
              "  'pixel613',\n",
              "  'pixel614',\n",
              "  'pixel615',\n",
              "  'pixel616',\n",
              "  'pixel617',\n",
              "  'pixel618',\n",
              "  'pixel619',\n",
              "  'pixel620',\n",
              "  'pixel621',\n",
              "  'pixel622',\n",
              "  'pixel623',\n",
              "  'pixel624',\n",
              "  'pixel625',\n",
              "  'pixel626',\n",
              "  'pixel627',\n",
              "  'pixel628',\n",
              "  'pixel629',\n",
              "  'pixel630',\n",
              "  'pixel631',\n",
              "  'pixel632',\n",
              "  'pixel633',\n",
              "  'pixel634',\n",
              "  'pixel635',\n",
              "  'pixel636',\n",
              "  'pixel637',\n",
              "  'pixel638',\n",
              "  'pixel639',\n",
              "  'pixel640',\n",
              "  'pixel641',\n",
              "  'pixel642',\n",
              "  'pixel643',\n",
              "  'pixel644',\n",
              "  'pixel645',\n",
              "  'pixel646',\n",
              "  'pixel647',\n",
              "  'pixel648',\n",
              "  'pixel649',\n",
              "  'pixel650',\n",
              "  'pixel651',\n",
              "  'pixel652',\n",
              "  'pixel653',\n",
              "  'pixel654',\n",
              "  'pixel655',\n",
              "  'pixel656',\n",
              "  'pixel657',\n",
              "  'pixel658',\n",
              "  'pixel659',\n",
              "  'pixel660',\n",
              "  'pixel661',\n",
              "  'pixel662',\n",
              "  'pixel663',\n",
              "  'pixel664',\n",
              "  'pixel665',\n",
              "  'pixel666',\n",
              "  'pixel667',\n",
              "  'pixel668',\n",
              "  'pixel669',\n",
              "  'pixel670',\n",
              "  'pixel671',\n",
              "  'pixel672',\n",
              "  'pixel673',\n",
              "  'pixel674',\n",
              "  'pixel675',\n",
              "  'pixel676',\n",
              "  'pixel677',\n",
              "  'pixel678',\n",
              "  'pixel679',\n",
              "  'pixel680',\n",
              "  'pixel681',\n",
              "  'pixel682',\n",
              "  'pixel683',\n",
              "  'pixel684',\n",
              "  'pixel685',\n",
              "  'pixel686',\n",
              "  'pixel687',\n",
              "  'pixel688',\n",
              "  'pixel689',\n",
              "  'pixel690',\n",
              "  'pixel691',\n",
              "  'pixel692',\n",
              "  'pixel693',\n",
              "  'pixel694',\n",
              "  'pixel695',\n",
              "  'pixel696',\n",
              "  'pixel697',\n",
              "  'pixel698',\n",
              "  'pixel699',\n",
              "  'pixel700',\n",
              "  'pixel701',\n",
              "  'pixel702',\n",
              "  'pixel703',\n",
              "  'pixel704',\n",
              "  'pixel705',\n",
              "  'pixel706',\n",
              "  'pixel707',\n",
              "  'pixel708',\n",
              "  'pixel709',\n",
              "  'pixel710',\n",
              "  'pixel711',\n",
              "  'pixel712',\n",
              "  'pixel713',\n",
              "  'pixel714',\n",
              "  'pixel715',\n",
              "  'pixel716',\n",
              "  'pixel717',\n",
              "  'pixel718',\n",
              "  'pixel719',\n",
              "  'pixel720',\n",
              "  'pixel721',\n",
              "  'pixel722',\n",
              "  'pixel723',\n",
              "  'pixel724',\n",
              "  'pixel725',\n",
              "  'pixel726',\n",
              "  'pixel727',\n",
              "  'pixel728',\n",
              "  'pixel729',\n",
              "  'pixel730',\n",
              "  'pixel731',\n",
              "  'pixel732',\n",
              "  'pixel733',\n",
              "  'pixel734',\n",
              "  'pixel735',\n",
              "  'pixel736',\n",
              "  'pixel737',\n",
              "  'pixel738',\n",
              "  'pixel739',\n",
              "  'pixel740',\n",
              "  'pixel741',\n",
              "  'pixel742',\n",
              "  'pixel743',\n",
              "  'pixel744',\n",
              "  'pixel745',\n",
              "  'pixel746',\n",
              "  'pixel747',\n",
              "  'pixel748',\n",
              "  'pixel749',\n",
              "  'pixel750',\n",
              "  'pixel751',\n",
              "  'pixel752',\n",
              "  'pixel753',\n",
              "  'pixel754',\n",
              "  'pixel755',\n",
              "  'pixel756',\n",
              "  'pixel757',\n",
              "  'pixel758',\n",
              "  'pixel759',\n",
              "  'pixel760',\n",
              "  'pixel761',\n",
              "  'pixel762',\n",
              "  'pixel763',\n",
              "  'pixel764',\n",
              "  'pixel765',\n",
              "  'pixel766',\n",
              "  'pixel767',\n",
              "  'pixel768',\n",
              "  'pixel769',\n",
              "  'pixel770',\n",
              "  'pixel771',\n",
              "  'pixel772',\n",
              "  'pixel773',\n",
              "  'pixel774',\n",
              "  'pixel775',\n",
              "  'pixel776',\n",
              "  'pixel777',\n",
              "  'pixel778',\n",
              "  'pixel779',\n",
              "  'pixel780',\n",
              "  'pixel781',\n",
              "  'pixel782',\n",
              "  'pixel783',\n",
              "  'pixel784'],\n",
              " 'frame': None,\n",
              " 'target': array(['5', '0', '4', ..., '4', '5', '6'], dtype=object),\n",
              " 'target_names': ['class'],\n",
              " 'url': 'https://www.openml.org/d/554'}"
            ]
          },
          "metadata": {
            "tags": []
          },
          "execution_count": 18
        }
      ]
    },
    {
      "cell_type": "code",
      "metadata": {
        "colab": {
          "base_uri": "https://localhost:8080/"
        },
        "id": "DCJq4ZvL0HIV",
        "outputId": "43c12d33-317b-485f-917b-1aeb106f42f1"
      },
      "source": [
        "import numpy as np\n",
        "X,y=mnist[\"data\"],mnist[\"target\"]\n",
        "y=y.astype(int)\n",
        "X=((X/255.)-.5)*2\n",
        "print(X.shape,y.shape)\n",
        "print(min(y),max(y))\n",
        "print(type(X),type(y))\n",
        "print(np.min(X), np.max(X))"
      ],
      "execution_count": 19,
      "outputs": [
        {
          "output_type": "stream",
          "text": [
            "(70000, 784) (70000,)\n",
            "0 9\n",
            "<class 'numpy.ndarray'> <class 'numpy.ndarray'>\n",
            "-1.0 1.0\n"
          ],
          "name": "stdout"
        }
      ]
    },
    {
      "cell_type": "markdown",
      "metadata": {
        "id": "duasNtFI0HIX"
      },
      "source": [
        "### Splittling the data into train and test"
      ]
    },
    {
      "cell_type": "code",
      "metadata": {
        "colab": {
          "base_uri": "https://localhost:8080/"
        },
        "id": "Xt59cd0u0HIX",
        "outputId": "be906c8e-35bf-44c5-fede-119d054cd3b8"
      },
      "source": [
        "X_train, X_test, y_train, y_test = X[:60000], X[60000:], y[:60000], y[60000:]\n",
        "print(X_train.shape,X_test.shape,y_train.shape,y_test.shape)"
      ],
      "execution_count": 20,
      "outputs": [
        {
          "output_type": "stream",
          "text": [
            "(60000, 784) (10000, 784) (60000,) (10000,)\n"
          ],
          "name": "stdout"
        }
      ]
    },
    {
      "cell_type": "markdown",
      "metadata": {
        "id": "c2uMgOD3RZ6a"
      },
      "source": [
        "### Splliting the train data further into train and development/validation"
      ]
    },
    {
      "cell_type": "code",
      "metadata": {
        "colab": {
          "base_uri": "https://localhost:8080/"
        },
        "id": "vUrnq8jh0HIY",
        "outputId": "4bbef735-0f2d-4be4-a735-c16ee9d7cb14"
      },
      "source": [
        "split = StratifiedShuffleSplit(n_splits=1, test_size=0.1, random_state = 42)\n",
        "\n",
        "for train_index, val_index in split.split(X_train,y_train):\n",
        "    X_train_strat = X[train_index,:]\n",
        "    y_train_strat = y[train_index]\n",
        "    \n",
        "    X_dev_strat = X[val_index,:]\n",
        "    y_dev_strat = y[val_index]\n",
        "\n",
        "print(X_train_strat.shape,y_train_strat.shape,X_dev_strat.shape,y_dev_strat.shape)"
      ],
      "execution_count": 21,
      "outputs": [
        {
          "output_type": "stream",
          "text": [
            "(54000, 784) (54000,) (6000, 784) (6000,)\n"
          ],
          "name": "stdout"
        }
      ]
    },
    {
      "cell_type": "code",
      "metadata": {
        "id": "Vx9blRh30HIY"
      },
      "source": [
        "train_images = X_train_strat.reshape(X_train_strat.shape[0], 28, 28) #reshape the images to 54000,28,28 from 54000,784\n",
        "dev_images = X_dev_strat.reshape(X_dev_strat.shape[0], 28, 28)\n",
        "test_images = X_test.reshape(X_test.shape[0], 28, 28)"
      ],
      "execution_count": 22,
      "outputs": []
    },
    {
      "cell_type": "markdown",
      "metadata": {
        "id": "aX9r-If_RoJH"
      },
      "source": [
        "### Converting the data into tensor format for the input to the CNN model"
      ]
    },
    {
      "cell_type": "code",
      "metadata": {
        "id": "NHqNTy_p0HIZ"
      },
      "source": [
        "#train\n",
        "train_images_tensor = torch.tensor(train_images)/255.0\n",
        "train_labels_tensor = torch.tensor(y_train_strat)\n",
        "train_tensor = TensorDataset(train_images_tensor, train_labels_tensor)\n",
        "\n",
        "#dev\n",
        "dev_images_tensor = torch.tensor(dev_images)/255.0\n",
        "dev_labels_tensor = torch.tensor(y_dev_strat)\n",
        "dev_tensor = TensorDataset(dev_images_tensor, dev_labels_tensor)\n",
        "\n",
        "#test\n",
        "test_images_tensor = torch.tensor(test_images)/255.0"
      ],
      "execution_count": 23,
      "outputs": []
    },
    {
      "cell_type": "markdown",
      "metadata": {
        "id": "OyJq5LCER1wD"
      },
      "source": [
        "### Calling Data Loader to save the input tensors "
      ]
    },
    {
      "cell_type": "code",
      "metadata": {
        "id": "7YCzaFR60HIZ"
      },
      "source": [
        "train_loader = DataLoader(train_tensor, batch_size=16, num_workers=2, shuffle=True)\n",
        "dev_loader = DataLoader(dev_tensor, batch_size=16, num_workers=2, shuffle=True)\n",
        "test_loader = DataLoader(test_images_tensor, batch_size=16, num_workers=2, shuffle=False)"
      ],
      "execution_count": 24,
      "outputs": []
    },
    {
      "cell_type": "markdown",
      "metadata": {
        "id": "40hL6_VzR-tN"
      },
      "source": [
        "### Define hyperparameters"
      ]
    },
    {
      "cell_type": "code",
      "metadata": {
        "id": "jb59mDfQ0HIZ"
      },
      "source": [
        "class hyperparam:\n",
        "    lr = 0.05  # learning rate\n",
        "    num_epochs = 50  # Number of epochs\n",
        "    bs = 16  # Mini-batch size \n",
        "    moment = 0.9 # Momentum SGD "
      ],
      "execution_count": 25,
      "outputs": []
    },
    {
      "cell_type": "markdown",
      "metadata": {
        "id": "8w_K9w9iolg1"
      },
      "source": [
        "### **Droupout rate is 0.25**"
      ]
    },
    {
      "cell_type": "markdown",
      "metadata": {
        "id": "TcXDd3WfSWg4"
      },
      "source": [
        "### Creating the CNN Architechture with 3 convolution layers and 3 maxpool layers along with activation functions after each convolution and pooling layer. Then passing the output of the convolution block to the fully connected layers with 2 hidden and one output layer. \n"
      ]
    },
    {
      "cell_type": "code",
      "metadata": {
        "id": "JGbkc3_00HIb"
      },
      "source": [
        "class CNN(nn.Module):\n",
        "    def __init__(self):\n",
        "        super(CNN, self).__init__()\n",
        "        \n",
        "        self.conv_block = nn.Sequential(\n",
        "            nn.Conv2d(1, 32, kernel_size=3, stride=1, padding=1),\n",
        "            #nn.BatchNorm2d(32),\n",
        "            nn.ReLU(inplace=True),\n",
        "            nn.Conv2d(32, 64, kernel_size=3, stride=1, padding=1),\n",
        "            #nn.BatchNorm2d(64),\n",
        "            nn.ReLU(inplace=True),\n",
        "            nn.MaxPool2d(kernel_size=2, stride=2),\n",
        "            nn.Conv2d(64, 128, kernel_size=3, stride=1, padding=1),\n",
        "            #nn.BatchNorm2d(128),\n",
        "            nn.ReLU(inplace=True),\n",
        "            nn.MaxPool2d(kernel_size=2, stride=2) \n",
        "        )\n",
        "        \n",
        "        self.linear_block = nn.Sequential(\n",
        "            #nn.Dropout(p=0.25),\n",
        "            nn.Linear(128*7*7, 128),\n",
        "            nn.BatchNorm1d(128),\n",
        "            nn.ReLU(inplace=True),\n",
        "            nn.Dropout(0.25),\n",
        "            nn.Linear(128, 64),\n",
        "            nn.BatchNorm1d(64),\n",
        "            nn.ReLU(inplace=True),\n",
        "            nn.Dropout(0.25),\n",
        "            nn.Linear(64, 10)\n",
        "        )\n",
        "        \n",
        "    def forward(self, x):\n",
        "        x = self.conv_block(x)\n",
        "        x = x.view(x.size(0), -1)\n",
        "        x = self.linear_block(x)\n",
        "        \n",
        "        return x"
      ],
      "execution_count": 12,
      "outputs": []
    },
    {
      "cell_type": "markdown",
      "metadata": {
        "id": "onM9X0QaWXMD"
      },
      "source": [
        "### Glorat Intialization using xavier normal function in torch"
      ]
    },
    {
      "cell_type": "code",
      "metadata": {
        "id": "hHm2YTuoRKuQ"
      },
      "source": [
        "def init_weights(m):\n",
        "    if type(m) == nn.Linear:\n",
        "        torch.nn.init.xavier_normal_(m.weight)\n",
        "        m.bias.data.fill_(0.01)"
      ],
      "execution_count": 13,
      "outputs": []
    },
    {
      "cell_type": "markdown",
      "metadata": {
        "id": "h9xCuzg6dg6r"
      },
      "source": [
        "### Call the CNN model and define loss function"
      ]
    },
    {
      "cell_type": "code",
      "metadata": {
        "colab": {
          "base_uri": "https://localhost:8080/"
        },
        "id": "TfRZ2t9K0HIb",
        "outputId": "f64bb5fa-de3c-4186-a771-102d93ef827c"
      },
      "source": [
        "cnn_model = CNN()\n",
        "cnn_model.apply(init_weights) # glorat initialization \n",
        "cnn_model.parameters()"
      ],
      "execution_count": 14,
      "outputs": [
        {
          "output_type": "execute_result",
          "data": {
            "text/plain": [
              "<generator object Module.parameters at 0x7fdc407499d0>"
            ]
          },
          "metadata": {
            "tags": []
          },
          "execution_count": 14
        }
      ]
    },
    {
      "cell_type": "markdown",
      "metadata": {
        "id": "Z5SeMaWt4Yp4"
      },
      "source": [
        "### Initializing three things in the next cell:\n",
        "### 1) Optimizer as Stochastic Gradient Descent with learning rate of 0.05 and momentum of 0.9\n",
        "### 2) Learning Rate scheduler to adjust the learning rate by 10% every 10 epochs\n",
        "### 3) Cross Entropy Loss function since its a classification problem"
      ]
    },
    {
      "cell_type": "code",
      "metadata": {
        "colab": {
          "base_uri": "https://localhost:8080/"
        },
        "id": "8AVvlUfS0HIb",
        "outputId": "ec3047f9-ae21-41f9-ff39-5b0fac0d162c"
      },
      "source": [
        "optimizer = torch.optim.SGD(cnn_model.parameters(), lr=hyperparam.lr, momentum=hyperparam.moment)\n",
        "scheduler = StepLR(optimizer, step_size=10, gamma=0.1)\n",
        "criterion = nn.CrossEntropyLoss()\n",
        "if torch.cuda.is_available():\n",
        "    print('Avaialble')\n",
        "    cnn_model = cnn_model.cuda()\n",
        "    criterion = criterion.cuda()"
      ],
      "execution_count": 15,
      "outputs": [
        {
          "output_type": "stream",
          "text": [
            "Avaialble\n"
          ],
          "name": "stdout"
        }
      ]
    },
    {
      "cell_type": "markdown",
      "metadata": {
        "id": "OvJkJ5Z-UJPT"
      },
      "source": [
        "### Training the model and validating side by side to check the results\n",
        "\n",
        "### Printing the accuracy and loss of train and validation set"
      ]
    },
    {
      "cell_type": "code",
      "metadata": {
        "colab": {
          "base_uri": "https://localhost:8080/",
          "height": 1000
        },
        "id": "6Cld6P-_0HIc",
        "outputId": "7253456a-c283-4ff6-9446-575673857ec1"
      },
      "source": [
        "#Train the CNN\n",
        "tr_avgLoss_list = []\n",
        "tr_accuracy_list =[]\n",
        "dev_avgLoss_list = []\n",
        "dev_accuracy_list = []\n",
        "\n",
        "#loop over epochs\n",
        "for epoch in range(hyperparam.num_epochs):\n",
        "    tr_num_correct = 0\n",
        "    tr_num_samples = 0\n",
        "    tr_total_loss = 0.0\n",
        "    dev_num_correct = 0\n",
        "    dev_num_samples = 0\n",
        "    dev_total_loss = 0.0\n",
        "    \n",
        "    #Training\n",
        "    cnn_model.train(True) \n",
        "    scheduler.step()  #to decrease the lr by 10% every 10 epochs because as you move towards the minima the steps size needs to decrease so it doesnt jump over the minima\n",
        "    with torch.set_grad_enabled(True):\n",
        "        for local_batch, local_labels in train_loader:\n",
        "            local_batch=local_batch.unsqueeze(1)\n",
        "            \n",
        "            if torch.cuda.is_available():\n",
        "              local_batch = local_batch.cuda()\n",
        "              local_labels = local_labels.cuda()\n",
        "            \n",
        "            optimizer.zero_grad()\n",
        "            \n",
        "            \n",
        "            local_batch = local_batch.float()\n",
        "            local_labels = local_labels.float()\n",
        "            #local_batch, local_labels = Variable(local_batch), Variable(local_labels)\n",
        "            \n",
        "            #Model computations\n",
        "            out1 = cnn_model(local_batch)\n",
        "            \n",
        "            #Cross Entropy loss calculation\n",
        "            ploss = criterion(out1, local_labels.long())\n",
        "            tr_total_loss += ploss*hyperparam.bs\n",
        "            \n",
        "            #Backpropogation\n",
        "            ploss.backward() #gradient calculation\n",
        "            optimizer.step() #weight update\n",
        "           \n",
        "            \n",
        "            sel_class = torch.argmax(out1, dim=1) #chooses the maximum value of the softmax layer\n",
        "            \n",
        "            tr_num_correct += sel_class.eq(local_labels).sum().item()\n",
        "            tr_num_samples += hyperparam.bs\n",
        "        \n",
        "        tr_avgLoss = tr_total_loss/len(train_loader.dataset)\n",
        "        tr_avgLoss_list.append(tr_avgLoss)\n",
        "        \n",
        "        tr_accuracy = tr_num_correct*100/tr_num_samples \n",
        "        tr_accuracy_list.append(tr_accuracy)\n",
        "\n",
        "    #validation \n",
        "    with torch.set_grad_enabled(False):\n",
        "      cnn_model.eval()\n",
        "\n",
        "      for local_batch,local_labels in dev_loader:\n",
        "        local_batch=local_batch.unsqueeze(1)\n",
        "\n",
        "        local_batch=local_batch.float()\n",
        "        local_labels=local_labels.float()\n",
        "        #local_batch,local_labels=Variable(local_batch),Variable(local_labels)\n",
        "        \n",
        "        if torch.cuda.is_available():\n",
        "            local_batch = local_batch.cuda()\n",
        "            local_labels = local_labels.cuda()\n",
        "        #Model computations2\n",
        "        out1=cnn_model(local_batch)\n",
        "\n",
        "        #CrossEntropy loss calculation\n",
        "        pLoss=criterion(out1,local_labels.long())\n",
        "        dev_total_loss +=ploss*hyperparam.bs\n",
        "        sel_class=torch.argmax(out1,dim=1)\n",
        "\n",
        "        dev_num_correct+=sel_class.eq(local_labels).sum().item()\n",
        "\n",
        "        #print(correction)\n",
        "        dev_num_samples+=hyperparam.bs\n",
        "\n",
        "      dev_avgLoss=dev_total_loss/len(dev_loader.dataset)\n",
        "      dev_avgLoss_list.append(dev_avgLoss)\n",
        "\n",
        "      dev_accuracy=dev_num_correct*100/dev_num_samples\n",
        "      dev_accuracy_list.append(dev_accuracy)\n",
        "    print(\"accuracy\",tr_accuracy,dev_accuracy)\n",
        "\n",
        "plt.plot(np.arange(0,hyperparam.num_epochs,1),tr_accuracy_list)\n",
        "plt.xlabel(\"epochs\")\n",
        "plt.ylabel(\"train_accuracy\")\n",
        "plt.show()\n",
        "\n",
        "plt.plot(np.arange(0,hyperparam.num_epochs,1),dev_accuracy_list)\n",
        "plt.xlabel(\"epochs\")\n",
        "plt.ylabel(\"validation_accuracy\")\n",
        "plt.show()\n",
        "\n",
        "plt.plot(np.arange(0,hyperparam.num_epochs,1),tr_avgLoss_list)\n",
        "plt.xlabel(\"epochs\")\n",
        "plt.ylabel(\"train_errors\")\n",
        "plt.show()\n",
        "\n",
        "plt.plot(np.arange(0,hyperparam.num_epochs,1),dev_avgLoss_list)\n",
        "plt.xlabel(\"epochs\")\n",
        "plt.ylabel(\"validation_errors\")\n",
        "plt.show()"
      ],
      "execution_count": 16,
      "outputs": [
        {
          "output_type": "stream",
          "text": [
            "/usr/local/lib/python3.7/dist-packages/torch/optim/lr_scheduler.py:134: UserWarning: Detected call of `lr_scheduler.step()` before `optimizer.step()`. In PyTorch 1.1.0 and later, you should call them in the opposite order: `optimizer.step()` before `lr_scheduler.step()`.  Failure to do this will result in PyTorch skipping the first value of the learning rate schedule. See more details at https://pytorch.org/docs/stable/optim.html#how-to-adjust-learning-rate\n",
            "  \"https://pytorch.org/docs/stable/optim.html#how-to-adjust-learning-rate\", UserWarning)\n"
          ],
          "name": "stderr"
        },
        {
          "output_type": "stream",
          "text": [
            "accuracy 79.15185185185184 11.233333333333333\n",
            "accuracy 88.30740740740741 11.233333333333333\n",
            "accuracy 90.55 9.9\n",
            "accuracy 91.8462962962963 11.233333333333333\n",
            "accuracy 92.85740740740741 9.733333333333333\n",
            "accuracy 93.19259259259259 11.233333333333333\n",
            "accuracy 93.90185185185184 11.233333333333333\n",
            "accuracy 93.88518518518518 10.45\n",
            "accuracy 94.1962962962963 11.233333333333333\n",
            "accuracy 95.04444444444445 10.216666666666667\n",
            "accuracy 95.49814814814815 20.166666666666668\n",
            "accuracy 95.63888888888889 28.616666666666667\n",
            "accuracy 95.67037037037036 41.63333333333333\n",
            "accuracy 95.95 23.583333333333332\n",
            "accuracy 95.95185185185186 11.966666666666667\n",
            "accuracy 95.91296296296296 26.533333333333335\n",
            "accuracy 96.05740740740741 17.716666666666665\n",
            "accuracy 96.06851851851852 24.383333333333333\n",
            "accuracy 96.3537037037037 10.333333333333334\n",
            "accuracy 96.32592592592593 84.8\n",
            "accuracy 96.41481481481482 97.26666666666667\n",
            "accuracy 96.37037037037037 75.05\n",
            "accuracy 96.24259259259259 74.9\n",
            "accuracy 96.44814814814815 86.25\n",
            "accuracy 96.38888888888889 91.75\n",
            "accuracy 96.35555555555555 93.25\n",
            "accuracy 96.42777777777778 73.56666666666666\n",
            "accuracy 96.43888888888888 87.15\n",
            "accuracy 96.38333333333334 87.68333333333334\n",
            "accuracy 96.43518518518519 97.75\n",
            "accuracy 96.28518518518518 97.93333333333334\n",
            "accuracy 96.41481481481482 97.88333333333334\n",
            "accuracy 96.48333333333333 97.9\n",
            "accuracy 96.44444444444444 98.21666666666667\n",
            "accuracy 96.47222222222223 97.98333333333333\n",
            "accuracy 96.52962962962962 97.51666666666667\n",
            "accuracy 96.40555555555555 98.05\n",
            "accuracy 96.45 97.43333333333334\n",
            "accuracy 96.43333333333334 97.95\n",
            "accuracy 96.41666666666667 98.16666666666667\n",
            "accuracy 96.40185185185184 98.18333333333334\n",
            "accuracy 96.41481481481482 98.16666666666667\n",
            "accuracy 96.42037037037036 98.11666666666666\n",
            "accuracy 96.49074074074075 98.08333333333333\n",
            "accuracy 96.48703703703704 98.13333333333334\n",
            "accuracy 96.39444444444445 98.16666666666667\n",
            "accuracy 96.48518518518519 98.01666666666667\n",
            "accuracy 96.43518518518519 98.2\n",
            "accuracy 96.32777777777778 98.03333333333333\n",
            "accuracy 96.46481481481482 98.16666666666667\n"
          ],
          "name": "stdout"
        },
        {
          "output_type": "display_data",
          "data": {
            "image/png": "[encoded data removed]",
            "text/plain": [
              "<Figure size 432x288 with 1 Axes>"
            ]
          },
          "metadata": {
            "tags": [],
            "needs_background": "light"
          }
        },
        {
          "output_type": "display_data",
          "data": {
            "image/png": "[encoded data removed]",
            "text/plain": [
              "<Figure size 432x288 with 1 Axes>"
            ]
          },
          "metadata": {
            "tags": [],
            "needs_background": "light"
          }
        },
        {
          "output_type": "display_data",
          "data": {
            "image/png": "[encoded data removed]",
            "text/plain": [
              "<Figure size 432x288 with 1 Axes>"
            ]
          },
          "metadata": {
            "tags": [],
            "needs_background": "light"
          }
        },
        {
          "output_type": "display_data",
          "data": {
            "image/png": "[encoded data removed]",
            "text/plain": [
              "<Figure size 432x288 with 1 Axes>"
            ]
          },
          "metadata": {
            "tags": [],
            "needs_background": "light"
          }
        }
      ]
    },
    {
      "cell_type": "markdown",
      "metadata": {
        "id": "Xa-VX4CwcPqf"
      },
      "source": [
        "### From the above diagram we can say that the model overfits a little as for the validation set we can see that it varies up and down slighlty over the epochs whereas for training it is smooth increase for accuracy and smooth decrease for loss. "
      ]
    },
    {
      "cell_type": "code",
      "metadata": {
        "id": "zlf7SrHtSjBb"
      },
      "source": [
        "def make_predictions(data_loader):\n",
        "    cnn_model.eval()\n",
        "    test_preds = torch.LongTensor()\n",
        "    \n",
        "    for i, data in enumerate(data_loader):\n",
        "        data = data.unsqueeze(1) #adds a dimension of the length 1\n",
        "        \n",
        "        if torch.cuda.is_available():\n",
        "            data = data.cuda()\n",
        "            \n",
        "        output = cnn_model(data.float()) #convert to float here as well\n",
        "        \n",
        "        preds = output.cpu().data.max(1, keepdim=True)[1]\n",
        "        test_preds = torch.cat((test_preds, preds), dim=0)\n",
        "        \n",
        "    return test_preds"
      ],
      "execution_count": 17,
      "outputs": []
    },
    {
      "cell_type": "code",
      "metadata": {
        "id": "KpJ7T9-GSkE2",
        "colab": {
          "base_uri": "https://localhost:8080/"
        },
        "outputId": "2faf08bc-553a-4681-8ae3-05ecc3dc4cf2"
      },
      "source": [
        "test_set_preds = make_predictions(test_loader)\n",
        "test_set_preds"
      ],
      "execution_count": 18,
      "outputs": [
        {
          "output_type": "execute_result",
          "data": {
            "text/plain": [
              "tensor([[7],\n",
              "        [2],\n",
              "        [1],\n",
              "        ...,\n",
              "        [4],\n",
              "        [5],\n",
              "        [6]])"
            ]
          },
          "metadata": {
            "tags": []
          },
          "execution_count": 18
        }
      ]
    },
    {
      "cell_type": "code",
      "metadata": {
        "colab": {
          "base_uri": "https://localhost:8080/",
          "height": 204
        },
        "id": "tAlHgp4PS_-J",
        "outputId": "4cf9bc60-d30e-40a9-8688-c960a040d0ec"
      },
      "source": [
        "submission_df=pd.DataFrame()\n",
        "submission_df[\"label\"]=test_set_preds.numpy().squeeze()\n",
        "submission_df.head()"
      ],
      "execution_count": 19,
      "outputs": [
        {
          "output_type": "execute_result",
          "data": {
            "text/html": [
              "<div>\n",
              "<style scoped>\n",
              "    .dataframe tbody tr th:only-of-type {\n",
              "        vertical-align: middle;\n",
              "    }\n",
              "\n",
              "    .dataframe tbody tr th {\n",
              "        vertical-align: top;\n",
              "    }\n",
              "\n",
              "    .dataframe thead th {\n",
              "        text-align: right;\n",
              "    }\n",
              "</style>\n",
              "<table border=\"1\" class=\"dataframe\">\n",
              "  <thead>\n",
              "    <tr style=\"text-align: right;\">\n",
              "      <th></th>\n",
              "      <th>label</th>\n",
              "    </tr>\n",
              "  </thead>\n",
              "  <tbody>\n",
              "    <tr>\n",
              "      <th>0</th>\n",
              "      <td>7</td>\n",
              "    </tr>\n",
              "    <tr>\n",
              "      <th>1</th>\n",
              "      <td>2</td>\n",
              "    </tr>\n",
              "    <tr>\n",
              "      <th>2</th>\n",
              "      <td>1</td>\n",
              "    </tr>\n",
              "    <tr>\n",
              "      <th>3</th>\n",
              "      <td>0</td>\n",
              "    </tr>\n",
              "    <tr>\n",
              "      <th>4</th>\n",
              "      <td>4</td>\n",
              "    </tr>\n",
              "  </tbody>\n",
              "</table>\n",
              "</div>"
            ],
            "text/plain": [
              "   label\n",
              "0      7\n",
              "1      2\n",
              "2      1\n",
              "3      0\n",
              "4      4"
            ]
          },
          "metadata": {
            "tags": []
          },
          "execution_count": 19
        }
      ]
    },
    {
      "cell_type": "markdown",
      "metadata": {
        "id": "YhEo5wmdTNNQ"
      },
      "source": [
        "### Confusion Matrix of testing set\n",
        "### Accuracy of the testing set"
      ]
    },
    {
      "cell_type": "code",
      "metadata": {
        "colab": {
          "base_uri": "https://localhost:8080/"
        },
        "id": "LYPLJrH5TFmS",
        "outputId": "519bb0ef-f1ec-460f-a56a-d04bda182d12"
      },
      "source": [
        "from sklearn.metrics import confusion_matrix\n",
        "\n",
        "y_true = mnist[\"target\"][60000:].astype(int)\n",
        "y_pred = np.array(submission_df[\"label\"])\n",
        "cf = confusion_matrix(y_true, y_pred)\n",
        "acc = accuracy_score(y_true,y_pred)\n",
        "print(\"Accuracy of the test set is:\",acc*100,\"%\")\n",
        "print(\"Confusion matrix for the test set: \\n\",cf)"
      ],
      "execution_count": 20,
      "outputs": [
        {
          "output_type": "stream",
          "text": [
            "Accuracy of the test set is: 98.37 %\n",
            "Confusion matrix for the test set: \n",
            " [[ 976    0    1    0    0    0    1    1    1    0]\n",
            " [   0 1125    2    2    0    0    4    1    1    0]\n",
            " [   1    0 1021    2    1    0    0    4    3    0]\n",
            " [   0    0    2  991    0    6    0    5    4    2]\n",
            " [   1    3    1    1  959    0    2    0    1   14]\n",
            " [   2    0    0    7    0  876    3    0    1    3]\n",
            " [   5    2    1    0    1    3  942    0    4    0]\n",
            " [   0    2    9    2    1    0    0 1007    2    5]\n",
            " [   0    0    2    3    0    4    1    4  957    3]\n",
            " [   1    2    0    3    3    5    0    4    8  983]]\n"
          ],
          "name": "stdout"
        }
      ]
    },
    {
      "cell_type": "markdown",
      "metadata": {
        "id": "1rpFda2-gSt9"
      },
      "source": [
        "#### Thus, the accuracy of the baseline system is almost 98 which suggests that the model is performing well. The confusion matrix also gives good results as the count around the diagonal is high which is ideal."
      ]
    },
    {
      "cell_type": "markdown",
      "metadata": {
        "id": "RQyrtAutog3i"
      },
      "source": [
        "### **Droupout rate is 0.5**"
      ]
    },
    {
      "cell_type": "markdown",
      "metadata": {
        "id": "Yu3XkEdBpCGk"
      },
      "source": [
        "### Creating the CNN Architechture with 3 convolution layers and 3 maxpool layers along with activation functions after each convolution and pooling layer. Then passing the output of the convolution block to the fully connected layers with 2 hidden and one output layer.\n"
      ]
    },
    {
      "cell_type": "code",
      "metadata": {
        "id": "3GyEY22GpCGl"
      },
      "source": [
        "class CNN(nn.Module):\n",
        "    def __init__(self):\n",
        "        super(CNN, self).__init__()\n",
        "        \n",
        "        self.conv_block = nn.Sequential(\n",
        "            nn.Conv2d(1, 32, kernel_size=3, stride=1, padding=1),\n",
        "            #nn.BatchNorm2d(32),\n",
        "            nn.ReLU(inplace=True),\n",
        "            nn.Conv2d(32, 64, kernel_size=3, stride=1, padding=1),\n",
        "            #nn.BatchNorm2d(64),\n",
        "            nn.ReLU(inplace=True),\n",
        "            nn.MaxPool2d(kernel_size=2, stride=2),\n",
        "            nn.Conv2d(64, 128, kernel_size=3, stride=1, padding=1),\n",
        "            #nn.BatchNorm2d(128),\n",
        "            nn.ReLU(inplace=True),\n",
        "            nn.MaxPool2d(kernel_size=2, stride=2) \n",
        "        )\n",
        "        \n",
        "        self.linear_block = nn.Sequential(\n",
        "            nn.Linear(128*7*7, 128),\n",
        "            nn.BatchNorm1d(128),\n",
        "            nn.ReLU(inplace=True),\n",
        "            nn.Dropout(0.5),\n",
        "            nn.Linear(128, 64),\n",
        "            nn.BatchNorm1d(64),\n",
        "            nn.ReLU(inplace=True),\n",
        "            nn.Dropout(0.5),\n",
        "            nn.Linear(64, 10)\n",
        "        )\n",
        "        \n",
        "    def forward(self, x):\n",
        "        x = self.conv_block(x)\n",
        "        x = x.view(x.size(0), -1)\n",
        "        x = self.linear_block(x)\n",
        "        \n",
        "        return x"
      ],
      "execution_count": 21,
      "outputs": []
    },
    {
      "cell_type": "markdown",
      "metadata": {
        "id": "62tHD0DlpCGm"
      },
      "source": [
        "### Glorat Intialization using xavier normal function in torch"
      ]
    },
    {
      "cell_type": "code",
      "metadata": {
        "id": "Qep_aFh-pCGm"
      },
      "source": [
        "def init_weights(m):\n",
        "    if type(m) == nn.Linear:\n",
        "        torch.nn.init.xavier_normal_(m.weight)\n",
        "        m.bias.data.fill_(0.01)"
      ],
      "execution_count": 22,
      "outputs": []
    },
    {
      "cell_type": "markdown",
      "metadata": {
        "id": "LzFcKvi5pCGn"
      },
      "source": [
        "### Call the CNN model and define loss function"
      ]
    },
    {
      "cell_type": "code",
      "metadata": {
        "colab": {
          "base_uri": "https://localhost:8080/"
        },
        "id": "DJ-9phYppCGn",
        "outputId": "b8aa8233-ccd8-48fe-8cee-42e251b4d203"
      },
      "source": [
        "cnn_model = CNN()\n",
        "cnn_model.apply(init_weights) # glorat initialization \n",
        "cnn_model.parameters()"
      ],
      "execution_count": 23,
      "outputs": [
        {
          "output_type": "execute_result",
          "data": {
            "text/plain": [
              "<generator object Module.parameters at 0x7fdc408088d0>"
            ]
          },
          "metadata": {
            "tags": []
          },
          "execution_count": 23
        }
      ]
    },
    {
      "cell_type": "markdown",
      "metadata": {
        "id": "xVP_vLIbpCGp"
      },
      "source": [
        "### Initializing three things in the next cell:\n",
        "### 1) Optimizer as Stochastic Gradient Descent with learning rate of 0.05 and momentum of 0.9\n",
        "### 2) Learning Rate scheduler to adjust the learning rate by 10% every 10 epochs\n",
        "### 3) Cross Entropy Loss function since its a classification problem"
      ]
    },
    {
      "cell_type": "code",
      "metadata": {
        "colab": {
          "base_uri": "https://localhost:8080/"
        },
        "id": "KyYMZ5PbpCGp",
        "outputId": "fc8e1ca3-96af-4b87-a669-ef41b144d309"
      },
      "source": [
        "optimizer = torch.optim.SGD(cnn_model.parameters(), lr=hyperparam.lr, momentum=hyperparam.moment)\n",
        "scheduler = StepLR(optimizer, step_size=10, gamma=0.1)\n",
        "criterion = nn.CrossEntropyLoss()\n",
        "if torch.cuda.is_available():\n",
        "    print('Avaialble')\n",
        "    cnn_model = cnn_model.cuda()\n",
        "    criterion = criterion.cuda()"
      ],
      "execution_count": 24,
      "outputs": [
        {
          "output_type": "stream",
          "text": [
            "Avaialble\n"
          ],
          "name": "stdout"
        }
      ]
    },
    {
      "cell_type": "markdown",
      "metadata": {
        "id": "aLEN8XxnpCGq"
      },
      "source": [
        "### Training the model and validating side by side to check the results\n",
        "\n",
        "### Printing the accuracy and loss of train and validation set"
      ]
    },
    {
      "cell_type": "code",
      "metadata": {
        "colab": {
          "base_uri": "https://localhost:8080/",
          "height": 1000
        },
        "id": "uI8YLud8pCGq",
        "outputId": "3cd157fb-a2d8-41e0-fd07-2f3682920d8e"
      },
      "source": [
        "#Train the CNN\n",
        "tr_avgLoss_list = []\n",
        "tr_accuracy_list =[]\n",
        "dev_avgLoss_list = []\n",
        "dev_accuracy_list = []\n",
        "\n",
        "#loop over epochs\n",
        "for epoch in range(hyperparam.num_epochs):\n",
        "    tr_num_correct = 0\n",
        "    tr_num_samples = 0\n",
        "    tr_total_loss = 0.0\n",
        "    dev_num_correct = 0\n",
        "    dev_num_samples = 0\n",
        "    dev_total_loss = 0.0\n",
        "    \n",
        "    #Training\n",
        "    cnn_model.train(True) \n",
        "    scheduler.step()  #to decrease the lr by 10% every 10 epochs because as you move towards the minima the steps size needs to decrease so it doesnt jump over the minima\n",
        "    with torch.set_grad_enabled(True):\n",
        "        for local_batch, local_labels in train_loader:\n",
        "            local_batch=local_batch.unsqueeze(1)\n",
        "            \n",
        "            if torch.cuda.is_available():\n",
        "              local_batch = local_batch.cuda()\n",
        "              local_labels = local_labels.cuda()\n",
        "            \n",
        "            optimizer.zero_grad()\n",
        "            \n",
        "            \n",
        "            local_batch = local_batch.float()\n",
        "            local_labels = local_labels.float()\n",
        "            #local_batch, local_labels = Variable(local_batch), Variable(local_labels)\n",
        "            \n",
        "            #Model computations\n",
        "            out1 = cnn_model(local_batch)\n",
        "            \n",
        "            #Cross Entropy loss calculation\n",
        "            ploss = criterion(out1, local_labels.long())\n",
        "            tr_total_loss += ploss*hyperparam.bs\n",
        "            \n",
        "            #Backpropogation\n",
        "            ploss.backward() #gradient calculation\n",
        "            optimizer.step() #weight update\n",
        "           \n",
        "            \n",
        "            sel_class = torch.argmax(out1, dim=1) #chooses the maximum value of the softmax layer\n",
        "            \n",
        "            tr_num_correct += sel_class.eq(local_labels).sum().item()\n",
        "            tr_num_samples += hyperparam.bs\n",
        "        \n",
        "        tr_avgLoss = tr_total_loss/len(train_loader.dataset)\n",
        "        tr_avgLoss_list.append(tr_avgLoss)\n",
        "        \n",
        "        tr_accuracy = tr_num_correct*100/tr_num_samples \n",
        "        tr_accuracy_list.append(tr_accuracy)\n",
        "\n",
        "    #validation \n",
        "    with torch.set_grad_enabled(False):\n",
        "      cnn_model.eval()\n",
        "\n",
        "      for local_batch,local_labels in dev_loader:\n",
        "        local_batch=local_batch.unsqueeze(1)\n",
        "\n",
        "        local_batch=local_batch.float()\n",
        "        local_labels=local_labels.float()\n",
        "        #local_batch,local_labels=Variable(local_batch),Variable(local_labels)\n",
        "        \n",
        "        if torch.cuda.is_available():\n",
        "            local_batch = local_batch.cuda()\n",
        "            local_labels = local_labels.cuda()\n",
        "        #Model computations2\n",
        "        out1=cnn_model(local_batch)\n",
        "\n",
        "        #CrossEntropy loss calculation\n",
        "        pLoss=criterion(out1,local_labels.long())\n",
        "        dev_total_loss +=ploss*hyperparam.bs\n",
        "        sel_class=torch.argmax(out1,dim=1)\n",
        "\n",
        "        dev_num_correct+=sel_class.eq(local_labels).sum().item()\n",
        "\n",
        "        #print(correction)\n",
        "        dev_num_samples+=hyperparam.bs\n",
        "\n",
        "      dev_avgLoss=dev_total_loss/len(dev_loader.dataset)\n",
        "      dev_avgLoss_list.append(dev_avgLoss)\n",
        "\n",
        "      dev_accuracy=dev_num_correct*100/dev_num_samples\n",
        "      dev_accuracy_list.append(dev_accuracy)\n",
        "    print(\"accuracy\",tr_accuracy,dev_accuracy)\n",
        "\n",
        "plt.plot(np.arange(0,hyperparam.num_epochs,1),tr_accuracy_list)\n",
        "plt.xlabel(\"epochs\")\n",
        "plt.ylabel(\"train_accuracy\")\n",
        "plt.show()\n",
        "\n",
        "plt.plot(np.arange(0,hyperparam.num_epochs,1),dev_accuracy_list)\n",
        "plt.xlabel(\"epochs\")\n",
        "plt.ylabel(\"validation_accuracy\")\n",
        "plt.show()\n",
        "\n",
        "plt.plot(np.arange(0,hyperparam.num_epochs,1),tr_avgLoss_list)\n",
        "plt.xlabel(\"epochs\")\n",
        "plt.ylabel(\"train_errors\")\n",
        "plt.show()\n",
        "\n",
        "plt.plot(np.arange(0,hyperparam.num_epochs,1),dev_avgLoss_list)\n",
        "plt.xlabel(\"epochs\")\n",
        "plt.ylabel(\"validation_errors\")\n",
        "plt.show()"
      ],
      "execution_count": 25,
      "outputs": [
        {
          "output_type": "stream",
          "text": [
            "/usr/local/lib/python3.7/dist-packages/torch/optim/lr_scheduler.py:134: UserWarning: Detected call of `lr_scheduler.step()` before `optimizer.step()`. In PyTorch 1.1.0 and later, you should call them in the opposite order: `optimizer.step()` before `lr_scheduler.step()`.  Failure to do this will result in PyTorch skipping the first value of the learning rate schedule. See more details at https://pytorch.org/docs/stable/optim.html#how-to-adjust-learning-rate\n",
            "  \"https://pytorch.org/docs/stable/optim.html#how-to-adjust-learning-rate\", UserWarning)\n"
          ],
          "name": "stderr"
        },
        {
          "output_type": "stream",
          "text": [
            "accuracy 79.7611111111111 10.45\n",
            "accuracy 89.76666666666667 9.866666666666667\n",
            "accuracy 91.63333333333334 11.233333333333333\n",
            "accuracy 92.43148148148148 11.233333333333333\n",
            "accuracy 93.44444444444444 12.3\n",
            "accuracy 93.89814814814815 9.033333333333333\n",
            "accuracy 94.12222222222222 13.633333333333333\n",
            "accuracy 94.32777777777778 24.933333333333334\n",
            "accuracy 94.66851851851852 29.633333333333333\n",
            "accuracy 95.9074074074074 96.93333333333334\n",
            "accuracy 96.25185185185185 98.25\n",
            "accuracy 96.35740740740741 90.31666666666666\n",
            "accuracy 96.43888888888888 98.7\n",
            "accuracy 96.53518518518518 88.15\n",
            "accuracy 96.54814814814814 96.36666666666666\n",
            "accuracy 96.63888888888889 97.56666666666666\n",
            "accuracy 96.65555555555555 97.86666666666666\n",
            "accuracy 96.72222222222223 98.61666666666666\n",
            "accuracy 96.68703703703704 97.35\n",
            "accuracy 96.82962962962964 98.93333333333334\n",
            "accuracy 96.7462962962963 98.96666666666667\n",
            "accuracy 96.74814814814815 98.83333333333333\n",
            "accuracy 96.82777777777778 99.0\n",
            "accuracy 96.85185185185185 98.95\n",
            "accuracy 96.88703703703703 98.86666666666666\n",
            "accuracy 96.7537037037037 98.88333333333334\n",
            "accuracy 96.89074074074074 98.96666666666667\n",
            "accuracy 96.88148148148149 98.93333333333334\n",
            "accuracy 96.99259259259259 98.88333333333334\n",
            "accuracy 96.72777777777777 99.0\n",
            "accuracy 97.03333333333333 98.96666666666667\n",
            "accuracy 96.79629629629629 98.88333333333334\n",
            "accuracy 96.89259259259259 98.91666666666667\n",
            "accuracy 96.94074074074074 98.91666666666667\n",
            "accuracy 96.77407407407408 98.95\n",
            "accuracy 96.85555555555555 98.93333333333334\n",
            "accuracy 96.79444444444445 98.88333333333334\n",
            "accuracy 96.80185185185185 98.96666666666667\n",
            "accuracy 96.86481481481482 98.91666666666667\n",
            "accuracy 96.83518518518518 98.91666666666667\n",
            "accuracy 96.77407407407408 98.95\n",
            "accuracy 96.80185185185185 98.95\n",
            "accuracy 96.91851851851852 99.03333333333333\n",
            "accuracy 96.83333333333333 98.95\n",
            "accuracy 96.94814814814815 98.91666666666667\n",
            "accuracy 96.87962962962963 98.8\n",
            "accuracy 96.93703703703704 98.86666666666666\n",
            "accuracy 96.87222222222222 98.93333333333334\n",
            "accuracy 96.79814814814814 98.93333333333334\n",
            "accuracy 96.91851851851852 99.01666666666667\n"
          ],
          "name": "stdout"
        },
        {
          "output_type": "display_data",
          "data": {
            "image/png": "[encoded data removed]",
            "text/plain": [
              "<Figure size 432x288 with 1 Axes>"
            ]
          },
          "metadata": {
            "tags": [],
            "needs_background": "light"
          }
        },
        {
          "output_type": "display_data",
          "data": {
            "image/png": "[encoded data removed]",
            "text/plain": [
              "<Figure size 432x288 with 1 Axes>"
            ]
          },
          "metadata": {
            "tags": [],
            "needs_background": "light"
          }
        },
        {
          "output_type": "display_data",
          "data": {
            "image/png": "[encoded data removed]",
            "text/plain": [
              "<Figure size 432x288 with 1 Axes>"
            ]
          },
          "metadata": {
            "tags": [],
            "needs_background": "light"
          }
        },
        {
          "output_type": "display_data",
          "data": {
            "image/png": "[encoded data removed]",
            "text/plain": [
              "<Figure size 432x288 with 1 Axes>"
            ]
          },
          "metadata": {
            "tags": [],
            "needs_background": "light"
          }
        }
      ]
    },
    {
      "cell_type": "markdown",
      "metadata": {
        "id": "_9eX-XvHpCGr"
      },
      "source": [
        "### From the above diagram we can say that the model reasonably fits the validation data as it kind of follows the same trend for both train and dev for accuracy curve. The loss curve for validation varies a lot up and down but that is bound to happen since here the validation data is not updating weights like training."
      ]
    },
    {
      "cell_type": "code",
      "metadata": {
        "id": "0I4q-FUppCGr"
      },
      "source": [
        "def make_predictions(data_loader):\n",
        "    cnn_model.eval()\n",
        "    test_preds = torch.LongTensor()\n",
        "    \n",
        "    for i, data in enumerate(data_loader):\n",
        "        data = data.unsqueeze(1) #adds a dimension of the length 1\n",
        "        \n",
        "        if torch.cuda.is_available():\n",
        "            data = data.cuda()\n",
        "            \n",
        "        output = cnn_model(data.float()) #convert to float here as well\n",
        "        \n",
        "        preds = output.cpu().data.max(1, keepdim=True)[1]\n",
        "        test_preds = torch.cat((test_preds, preds), dim=0)\n",
        "        \n",
        "    return test_preds"
      ],
      "execution_count": 26,
      "outputs": []
    },
    {
      "cell_type": "code",
      "metadata": {
        "colab": {
          "base_uri": "https://localhost:8080/"
        },
        "id": "lQTm0ndrpCGr",
        "outputId": "813cd747-9b58-4349-9df0-0231893d6632"
      },
      "source": [
        "test_set_preds = make_predictions(test_loader)\n",
        "test_set_preds"
      ],
      "execution_count": 27,
      "outputs": [
        {
          "output_type": "execute_result",
          "data": {
            "text/plain": [
              "tensor([[7],\n",
              "        [2],\n",
              "        [1],\n",
              "        ...,\n",
              "        [4],\n",
              "        [5],\n",
              "        [6]])"
            ]
          },
          "metadata": {
            "tags": []
          },
          "execution_count": 27
        }
      ]
    },
    {
      "cell_type": "code",
      "metadata": {
        "colab": {
          "base_uri": "https://localhost:8080/",
          "height": 204
        },
        "id": "Kc292ActpCGs",
        "outputId": "d7d690c3-4896-4c17-cf11-ccad976e6c59"
      },
      "source": [
        "submission_df=pd.DataFrame()\n",
        "submission_df[\"label\"]=test_set_preds.numpy().squeeze()\n",
        "submission_df.head()"
      ],
      "execution_count": 28,
      "outputs": [
        {
          "output_type": "execute_result",
          "data": {
            "text/html": [
              "<div>\n",
              "<style scoped>\n",
              "    .dataframe tbody tr th:only-of-type {\n",
              "        vertical-align: middle;\n",
              "    }\n",
              "\n",
              "    .dataframe tbody tr th {\n",
              "        vertical-align: top;\n",
              "    }\n",
              "\n",
              "    .dataframe thead th {\n",
              "        text-align: right;\n",
              "    }\n",
              "</style>\n",
              "<table border=\"1\" class=\"dataframe\">\n",
              "  <thead>\n",
              "    <tr style=\"text-align: right;\">\n",
              "      <th></th>\n",
              "      <th>label</th>\n",
              "    </tr>\n",
              "  </thead>\n",
              "  <tbody>\n",
              "    <tr>\n",
              "      <th>0</th>\n",
              "      <td>7</td>\n",
              "    </tr>\n",
              "    <tr>\n",
              "      <th>1</th>\n",
              "      <td>2</td>\n",
              "    </tr>\n",
              "    <tr>\n",
              "      <th>2</th>\n",
              "      <td>1</td>\n",
              "    </tr>\n",
              "    <tr>\n",
              "      <th>3</th>\n",
              "      <td>0</td>\n",
              "    </tr>\n",
              "    <tr>\n",
              "      <th>4</th>\n",
              "      <td>4</td>\n",
              "    </tr>\n",
              "  </tbody>\n",
              "</table>\n",
              "</div>"
            ],
            "text/plain": [
              "   label\n",
              "0      7\n",
              "1      2\n",
              "2      1\n",
              "3      0\n",
              "4      4"
            ]
          },
          "metadata": {
            "tags": []
          },
          "execution_count": 28
        }
      ]
    },
    {
      "cell_type": "markdown",
      "metadata": {
        "id": "REF0icfOpCGs"
      },
      "source": [
        "### Confusion Matrix of testing set\n",
        "### Accuracy of the testing set"
      ]
    },
    {
      "cell_type": "code",
      "metadata": {
        "colab": {
          "base_uri": "https://localhost:8080/"
        },
        "id": "0kWCePYppCGs",
        "outputId": "1d97a029-5710-4a0b-9e52-bde604d1f1f5"
      },
      "source": [
        "from sklearn.metrics import confusion_matrix\n",
        "\n",
        "y_true = mnist[\"target\"][60000:].astype(int)\n",
        "y_pred = np.array(submission_df[\"label\"])\n",
        "cf = confusion_matrix(y_true, y_pred)\n",
        "acc = accuracy_score(y_true,y_pred)\n",
        "print(\"Accuracy of the test set is:\",acc*100,\"%\")\n",
        "print(\"Confusion matrix for the test set: \\n\",cf)"
      ],
      "execution_count": 29,
      "outputs": [
        {
          "output_type": "stream",
          "text": [
            "Accuracy of the test set is: 99.03999999999999 %\n",
            "Confusion matrix for the test set: \n",
            " [[ 976    0    0    0    0    0    1    1    2    0]\n",
            " [   0 1126    2    2    0    0    1    2    2    0]\n",
            " [   1    0 1025    0    1    0    0    4    1    0]\n",
            " [   0    0    1 1003    0    2    0    3    1    0]\n",
            " [   0    0    1    0  973    0    1    0    1    6]\n",
            " [   2    0    0    5    0  882    2    1    0    0]\n",
            " [   6    2    0    1    1    3  943    0    2    0]\n",
            " [   0    1    5    0    0    0    0 1020    2    0]\n",
            " [   1    0    2    1    0    1    0    0  967    2]\n",
            " [   1    2    1    1    3    3    0    5    4  989]]\n"
          ],
          "name": "stdout"
        }
      ]
    },
    {
      "cell_type": "markdown",
      "metadata": {
        "id": "3t5pCP7xpCGt"
      },
      "source": [
        "#### Thus, the accuracy of the baseline system 99 which suggests that the model is performing well. The confusion matrix also gives good results as the count around the diagonal is high which is ideal."
      ]
    },
    {
      "cell_type": "markdown",
      "metadata": {
        "id": "xvfUClFDq7UF"
      },
      "source": [
        "### **Drouput rate is 0.75**"
      ]
    },
    {
      "cell_type": "markdown",
      "metadata": {
        "id": "FQmZhKffqJYH"
      },
      "source": [
        "### Creating the CNN Architechture with 3 convolution layers and 3 maxpool layers along with activation functions after each convolution and pooling layer. Then passing the output of the convolution block to the fully connected layers with 2 hidden and one output layer.\n"
      ]
    },
    {
      "cell_type": "code",
      "metadata": {
        "id": "1d26AZuVqJYI"
      },
      "source": [
        "class CNN(nn.Module):\n",
        "    def __init__(self):\n",
        "        super(CNN, self).__init__()\n",
        "        \n",
        "        self.conv_block = nn.Sequential(\n",
        "            nn.Conv2d(1, 32, kernel_size=3, stride=1, padding=1),\n",
        "            #nn.BatchNorm2d(32),\n",
        "            nn.ReLU(inplace=True),\n",
        "            nn.Conv2d(32, 64, kernel_size=3, stride=1, padding=1),\n",
        "            #nn.BatchNorm2d(64),\n",
        "            nn.ReLU(inplace=True),\n",
        "            nn.MaxPool2d(kernel_size=2, stride=2),\n",
        "            nn.Conv2d(64, 128, kernel_size=3, stride=1, padding=1),\n",
        "            #nn.BatchNorm2d(128),\n",
        "            nn.ReLU(inplace=True),\n",
        "            nn.MaxPool2d(kernel_size=2, stride=2) \n",
        "        )\n",
        "        \n",
        "        self.linear_block = nn.Sequential(\n",
        "            nn.Linear(128*7*7, 128),\n",
        "            nn.BatchNorm1d(128),\n",
        "            nn.ReLU(inplace=True),\n",
        "            nn.Dropout(0.75),\n",
        "            nn.Linear(128, 64),\n",
        "            nn.BatchNorm1d(64),\n",
        "            nn.ReLU(inplace=True),\n",
        "            nn.Dropout(0.75),\n",
        "            nn.Linear(64, 10)\n",
        "        )\n",
        "        \n",
        "    def forward(self, x):\n",
        "        x = self.conv_block(x)\n",
        "        x = x.view(x.size(0), -1)\n",
        "        x = self.linear_block(x)\n",
        "        \n",
        "        return x"
      ],
      "execution_count": 26,
      "outputs": []
    },
    {
      "cell_type": "markdown",
      "metadata": {
        "id": "5YPGb7K5qJYJ"
      },
      "source": [
        "### Glorat Intialization using xavier normal function in torch"
      ]
    },
    {
      "cell_type": "code",
      "metadata": {
        "id": "surF-sa5qJYJ"
      },
      "source": [
        "def init_weights(m):\n",
        "    if type(m) == nn.Linear:\n",
        "        torch.nn.init.xavier_normal_(m.weight)\n",
        "        m.bias.data.fill_(0.01)"
      ],
      "execution_count": 27,
      "outputs": []
    },
    {
      "cell_type": "markdown",
      "metadata": {
        "id": "Tk_n5XUsqJYK"
      },
      "source": [
        "### Call the CNN model and define loss function"
      ]
    },
    {
      "cell_type": "code",
      "metadata": {
        "colab": {
          "base_uri": "https://localhost:8080/"
        },
        "id": "jqJobmyRqJYK",
        "outputId": "49ea5479-0805-430b-e753-8308ada025de"
      },
      "source": [
        "cnn_model = CNN()\n",
        "cnn_model.apply(init_weights) # glorat initialization \n",
        "cnn_model.parameters()"
      ],
      "execution_count": 28,
      "outputs": [
        {
          "output_type": "execute_result",
          "data": {
            "text/plain": [
              "<generator object Module.parameters at 0x7fc774363bd0>"
            ]
          },
          "metadata": {
            "tags": []
          },
          "execution_count": 28
        }
      ]
    },
    {
      "cell_type": "markdown",
      "metadata": {
        "id": "lGT8awY8qJYK"
      },
      "source": [
        "### Initializing three things in the next cell:\n",
        "### 1) Optimizer as Stochastic Gradient Descent with learning rate of 0.05 and momentum of 0.9\n",
        "### 2) Learning Rate scheduler to adjust the learning rate by 10% every 10 epochs\n",
        "### 3) Cross Entropy Loss function since its a classification problem"
      ]
    },
    {
      "cell_type": "code",
      "metadata": {
        "id": "fcdOFj-RqJYL",
        "colab": {
          "base_uri": "https://localhost:8080/"
        },
        "outputId": "51ef1d9e-71e0-461e-d078-524769c62aaa"
      },
      "source": [
        "optimizer = torch.optim.SGD(cnn_model.parameters(), lr=hyperparam.lr, momentum=hyperparam.moment)\n",
        "scheduler = StepLR(optimizer, step_size=10, gamma=0.1)\n",
        "criterion = nn.CrossEntropyLoss()\n",
        "if torch.cuda.is_available():\n",
        "    print('Avaialble')\n",
        "    cnn_model = cnn_model.cuda()\n",
        "    criterion = criterion.cuda()"
      ],
      "execution_count": 29,
      "outputs": [
        {
          "output_type": "stream",
          "text": [
            "Avaialble\n"
          ],
          "name": "stdout"
        }
      ]
    },
    {
      "cell_type": "markdown",
      "metadata": {
        "id": "M7CRKrexqJYL"
      },
      "source": [
        "### Training the model and validating side by side to check the results\n",
        "\n",
        "### Printing the accuracy and loss of train and validation set"
      ]
    },
    {
      "cell_type": "code",
      "metadata": {
        "colab": {
          "base_uri": "https://localhost:8080/",
          "height": 1000
        },
        "id": "6qfWPcLrqJYL",
        "outputId": "e9ebaac0-1b43-4145-ed85-4490970a50ea"
      },
      "source": [
        "#Train the CNN\n",
        "tr_avgLoss_list = []\n",
        "tr_accuracy_list =[]\n",
        "dev_avgLoss_list = []\n",
        "dev_accuracy_list = []\n",
        "\n",
        "#loop over epochs\n",
        "for epoch in range(hyperparam.num_epochs):\n",
        "    tr_num_correct = 0\n",
        "    tr_num_samples = 0\n",
        "    tr_total_loss = 0.0\n",
        "    dev_num_correct = 0\n",
        "    dev_num_samples = 0\n",
        "    dev_total_loss = 0.0\n",
        "    \n",
        "    #Training\n",
        "    cnn_model.train(True) \n",
        "    scheduler.step()  #to decrease the lr by 10% every 10 epochs because as you move towards the minima the steps size needs to decrease so it doesnt jump over the minima\n",
        "    with torch.set_grad_enabled(True):\n",
        "        for local_batch, local_labels in train_loader:\n",
        "            local_batch=local_batch.unsqueeze(1)\n",
        "            \n",
        "            if torch.cuda.is_available():\n",
        "              local_batch = local_batch.cuda()\n",
        "              local_labels = local_labels.cuda()\n",
        "            \n",
        "            optimizer.zero_grad()\n",
        "            \n",
        "            \n",
        "            local_batch = local_batch.float()\n",
        "            local_labels = local_labels.float()\n",
        "            #local_batch, local_labels = Variable(local_batch), Variable(local_labels)\n",
        "            \n",
        "            #Model computations\n",
        "            out1 = cnn_model(local_batch)\n",
        "            \n",
        "            #Cross Entropy loss calculation\n",
        "            ploss = criterion(out1, local_labels.long())\n",
        "            tr_total_loss += ploss*hyperparam.bs\n",
        "            \n",
        "            #Backpropogation\n",
        "            ploss.backward() #gradient calculation\n",
        "            optimizer.step() #weight update\n",
        "           \n",
        "            \n",
        "            sel_class = torch.argmax(out1, dim=1) #chooses the maximum value of the softmax layer\n",
        "            \n",
        "            tr_num_correct += sel_class.eq(local_labels).sum().item()\n",
        "            tr_num_samples += hyperparam.bs\n",
        "        \n",
        "        tr_avgLoss = tr_total_loss/len(train_loader.dataset)\n",
        "        tr_avgLoss_list.append(tr_avgLoss)\n",
        "        \n",
        "        tr_accuracy = tr_num_correct*100/tr_num_samples \n",
        "        tr_accuracy_list.append(tr_accuracy)\n",
        "\n",
        "    #validation \n",
        "    with torch.set_grad_enabled(False):\n",
        "      cnn_model.eval()\n",
        "\n",
        "      for local_batch,local_labels in dev_loader:\n",
        "        local_batch=local_batch.unsqueeze(1)\n",
        "\n",
        "        local_batch=local_batch.float()\n",
        "        local_labels=local_labels.float()\n",
        "        #local_batch,local_labels=Variable(local_batch),Variable(local_labels)\n",
        "        \n",
        "        if torch.cuda.is_available():\n",
        "            local_batch = local_batch.cuda()\n",
        "            local_labels = local_labels.cuda()\n",
        "        #Model computations2\n",
        "        out1=cnn_model(local_batch)\n",
        "\n",
        "        #CrossEntropy loss calculation\n",
        "        pLoss=criterion(out1,local_labels.long())\n",
        "        dev_total_loss +=ploss*hyperparam.bs\n",
        "        sel_class=torch.argmax(out1,dim=1)\n",
        "\n",
        "        dev_num_correct+=sel_class.eq(local_labels).sum().item()\n",
        "\n",
        "        #print(correction)\n",
        "        dev_num_samples+=hyperparam.bs\n",
        "\n",
        "      dev_avgLoss=dev_total_loss/len(dev_loader.dataset)\n",
        "      dev_avgLoss_list.append(dev_avgLoss)\n",
        "\n",
        "      dev_accuracy=dev_num_correct*100/dev_num_samples\n",
        "      dev_accuracy_list.append(dev_accuracy)\n",
        "    print(\"accuracy\",tr_accuracy,dev_accuracy)\n",
        "\n",
        "plt.plot(np.arange(0,hyperparam.num_epochs,1),tr_accuracy_list)\n",
        "plt.xlabel(\"epochs\")\n",
        "plt.ylabel(\"train_accuracy\")\n",
        "plt.show()\n",
        "\n",
        "plt.plot(np.arange(0,hyperparam.num_epochs,1),dev_accuracy_list)\n",
        "plt.xlabel(\"epochs\")\n",
        "plt.ylabel(\"validation_accuracy\")\n",
        "plt.show()\n",
        "\n",
        "plt.plot(np.arange(0,hyperparam.num_epochs,1),tr_avgLoss_list)\n",
        "plt.xlabel(\"epochs\")\n",
        "plt.ylabel(\"train_errors\")\n",
        "plt.show()\n",
        "\n",
        "plt.plot(np.arange(0,hyperparam.num_epochs,1),dev_avgLoss_list)\n",
        "plt.xlabel(\"epochs\")\n",
        "plt.ylabel(\"validation_errors\")\n",
        "plt.show()"
      ],
      "execution_count": 30,
      "outputs": [
        {
          "output_type": "stream",
          "text": [
            "/usr/local/lib/python3.7/dist-packages/torch/optim/lr_scheduler.py:134: UserWarning: Detected call of `lr_scheduler.step()` before `optimizer.step()`. In PyTorch 1.1.0 and later, you should call them in the opposite order: `optimizer.step()` before `lr_scheduler.step()`.  Failure to do this will result in PyTorch skipping the first value of the learning rate schedule. See more details at https://pytorch.org/docs/stable/optim.html#how-to-adjust-learning-rate\n",
            "  \"https://pytorch.org/docs/stable/optim.html#how-to-adjust-learning-rate\", UserWarning)\n"
          ],
          "name": "stderr"
        },
        {
          "output_type": "stream",
          "text": [
            "accuracy 34.44259259259259 9.866666666666667\n",
            "accuracy 33.266666666666666 19.333333333333332\n",
            "accuracy 28.33888888888889 11.233333333333333\n",
            "accuracy 22.644444444444446 11.233333333333333\n",
            "accuracy 20.75925925925926 20.416666666666668\n",
            "accuracy 19.238888888888887 11.233333333333333\n",
            "accuracy 14.946296296296296 11.233333333333333\n",
            "accuracy 15.442592592592593 11.233333333333333\n",
            "accuracy 14.962962962962964 11.233333333333333\n",
            "accuracy 15.435185185185185 40.583333333333336\n",
            "accuracy 15.71111111111111 39.7\n",
            "accuracy 15.603703703703705 42.333333333333336\n",
            "accuracy 15.712962962962964 43.68333333333333\n",
            "accuracy 15.5 44.6\n",
            "accuracy 15.853703703703705 43.35\n",
            "accuracy 15.616666666666667 47.13333333333333\n",
            "accuracy 15.781481481481482 47.13333333333333\n",
            "accuracy 15.755555555555556 41.38333333333333\n",
            "accuracy 15.842592592592593 48.35\n",
            "accuracy 15.775925925925925 50.083333333333336\n",
            "accuracy 15.920370370370371 50.166666666666664\n",
            "accuracy 16.22222222222222 50.483333333333334\n",
            "accuracy 16.06851851851852 50.53333333333333\n",
            "accuracy 15.99074074074074 50.28333333333333\n",
            "accuracy 15.951851851851853 51.8\n",
            "accuracy 16.12037037037037 50.31666666666667\n",
            "accuracy 15.933333333333334 52.18333333333333\n",
            "accuracy 16.14814814814815 51.55\n",
            "accuracy 15.940740740740742 49.45\n",
            "accuracy 15.994444444444444 50.63333333333333\n",
            "accuracy 15.981481481481481 50.43333333333333\n",
            "accuracy 15.972222222222221 51.56666666666667\n",
            "accuracy 15.822222222222223 51.483333333333334\n",
            "accuracy 15.988888888888889 50.68333333333333\n",
            "accuracy 16.224074074074075 51.7\n",
            "accuracy 16.159259259259258 51.36666666666667\n",
            "accuracy 16.11111111111111 50.666666666666664\n",
            "accuracy 16.194444444444443 51.45\n",
            "accuracy 16.30185185185185 51.8\n",
            "accuracy 16.255555555555556 51.166666666666664\n",
            "accuracy 16.133333333333333 51.1\n",
            "accuracy 16.146296296296295 50.733333333333334\n",
            "accuracy 16.288888888888888 50.15\n",
            "accuracy 16.20740740740741 51.233333333333334\n",
            "accuracy 16.14814814814815 51.083333333333336\n",
            "accuracy 16.146296296296295 50.93333333333333\n",
            "accuracy 16.261111111111113 50.5\n",
            "accuracy 16.18148148148148 50.55\n",
            "accuracy 16.211111111111112 51.35\n",
            "accuracy 16.08703703703704 51.25\n"
          ],
          "name": "stdout"
        },
        {
          "output_type": "display_data",
          "data": {
            "image/png": "[encoded data removed]",
            "text/plain": [
              "<Figure size 432x288 with 1 Axes>"
            ]
          },
          "metadata": {
            "tags": [],
            "needs_background": "light"
          }
        },
        {
          "output_type": "display_data",
          "data": {
            "image/png": "[encoded data removed]",
            "text/plain": [
              "<Figure size 432x288 with 1 Axes>"
            ]
          },
          "metadata": {
            "tags": [],
            "needs_background": "light"
          }
        },
        {
          "output_type": "display_data",
          "data": {
            "image/png": "[encoded data removed]",
            "text/plain": [
              "<Figure size 432x288 with 1 Axes>"
            ]
          },
          "metadata": {
            "tags": [],
            "needs_background": "light"
          }
        },
        {
          "output_type": "display_data",
          "data": {
            "image/png": "[encoded data removed]",
            "text/plain": [
              "<Figure size 432x288 with 1 Axes>"
            ]
          },
          "metadata": {
            "tags": [],
            "needs_background": "light"
          }
        }
      ]
    },
    {
      "cell_type": "markdown",
      "metadata": {
        "id": "wrQnwcuQqJYM"
      },
      "source": [
        "### From the above diagram we can say that the model underfits as the accuracy and loss of both train and validation sets are not ideal. The accuracy decreased for the train set drastically at the start and then it increased a little then again decreased. The validation accuracy increased but since the train accuracy didn't increase we say that the model underfits."
      ]
    },
    {
      "cell_type": "code",
      "metadata": {
        "id": "qSpdZEHXqJYM"
      },
      "source": [
        "def make_predictions(data_loader):\n",
        "    cnn_model.eval()\n",
        "    test_preds = torch.LongTensor()\n",
        "    \n",
        "    for i, data in enumerate(data_loader):\n",
        "        data = data.unsqueeze(1) #adds a dimension of the length 1\n",
        "        \n",
        "        if torch.cuda.is_available():\n",
        "            data = data.cuda()\n",
        "            \n",
        "        output = cnn_model(data.float()) #convert to float here as well\n",
        "        \n",
        "        preds = output.cpu().data.max(1, keepdim=True)[1]\n",
        "        test_preds = torch.cat((test_preds, preds), dim=0)\n",
        "        \n",
        "    return test_preds"
      ],
      "execution_count": 31,
      "outputs": []
    },
    {
      "cell_type": "code",
      "metadata": {
        "colab": {
          "base_uri": "https://localhost:8080/"
        },
        "id": "pDgppoBCqJYN",
        "outputId": "e5f7e569-6f08-4dfd-bd97-4a3cdfbc500e"
      },
      "source": [
        "test_set_preds = make_predictions(test_loader)\n",
        "test_set_preds"
      ],
      "execution_count": 32,
      "outputs": [
        {
          "output_type": "execute_result",
          "data": {
            "text/plain": [
              "tensor([[7],\n",
              "        [7],\n",
              "        [1],\n",
              "        ...,\n",
              "        [6],\n",
              "        [3],\n",
              "        [9]])"
            ]
          },
          "metadata": {
            "tags": []
          },
          "execution_count": 32
        }
      ]
    },
    {
      "cell_type": "code",
      "metadata": {
        "colab": {
          "base_uri": "https://localhost:8080/",
          "height": 204
        },
        "id": "uuOWEqJbqJYN",
        "outputId": "a6bc6456-172e-4869-9ecc-6794ca44476f"
      },
      "source": [
        "submission_df=pd.DataFrame()\n",
        "submission_df[\"label\"]=test_set_preds.numpy().squeeze()\n",
        "submission_df.head()"
      ],
      "execution_count": 33,
      "outputs": [
        {
          "output_type": "execute_result",
          "data": {
            "text/html": [
              "<div>\n",
              "<style scoped>\n",
              "    .dataframe tbody tr th:only-of-type {\n",
              "        vertical-align: middle;\n",
              "    }\n",
              "\n",
              "    .dataframe tbody tr th {\n",
              "        vertical-align: top;\n",
              "    }\n",
              "\n",
              "    .dataframe thead th {\n",
              "        text-align: right;\n",
              "    }\n",
              "</style>\n",
              "<table border=\"1\" class=\"dataframe\">\n",
              "  <thead>\n",
              "    <tr style=\"text-align: right;\">\n",
              "      <th></th>\n",
              "      <th>label</th>\n",
              "    </tr>\n",
              "  </thead>\n",
              "  <tbody>\n",
              "    <tr>\n",
              "      <th>0</th>\n",
              "      <td>7</td>\n",
              "    </tr>\n",
              "    <tr>\n",
              "      <th>1</th>\n",
              "      <td>7</td>\n",
              "    </tr>\n",
              "    <tr>\n",
              "      <th>2</th>\n",
              "      <td>1</td>\n",
              "    </tr>\n",
              "    <tr>\n",
              "      <th>3</th>\n",
              "      <td>7</td>\n",
              "    </tr>\n",
              "    <tr>\n",
              "      <th>4</th>\n",
              "      <td>4</td>\n",
              "    </tr>\n",
              "  </tbody>\n",
              "</table>\n",
              "</div>"
            ],
            "text/plain": [
              "   label\n",
              "0      7\n",
              "1      7\n",
              "2      1\n",
              "3      7\n",
              "4      4"
            ]
          },
          "metadata": {
            "tags": []
          },
          "execution_count": 33
        }
      ]
    },
    {
      "cell_type": "markdown",
      "metadata": {
        "id": "1xiYJJHwqJYN"
      },
      "source": [
        "### Confusion Matrix of testing set\n",
        "### Accuracy of the testing set"
      ]
    },
    {
      "cell_type": "code",
      "metadata": {
        "colab": {
          "base_uri": "https://localhost:8080/"
        },
        "id": "d3NXmFkhqJYN",
        "outputId": "1cf1cd9a-fc7d-488e-cb17-d6e7a33d9172"
      },
      "source": [
        "from sklearn.metrics import confusion_matrix\n",
        "\n",
        "y_true = mnist[\"target\"][60000:].astype(int)\n",
        "y_pred = np.array(submission_df[\"label\"])\n",
        "cf = confusion_matrix(y_true, y_pred)\n",
        "acc = accuracy_score(y_true,y_pred)\n",
        "print(\"Accuracy of the test set is:\",acc*100,\"%\")\n",
        "print(\"Confusion matrix for the test set: \\n\",cf)"
      ],
      "execution_count": 34,
      "outputs": [
        {
          "output_type": "stream",
          "text": [
            "Accuracy of the test set is: 50.349999999999994 %\n",
            "Confusion matrix for the test set: \n",
            " [[   0    3  105   18    0    0    0  837    5   12]\n",
            " [   0 1123    4    2    0    0    1    2    2    1]\n",
            " [   0    4  514  108    0    0    3  383    2   18]\n",
            " [   0    0   13  982    0    0    0    3    3    9]\n",
            " [   0    4    2    0  196    0  707    0    0   73]\n",
            " [   0    0    6  859    0    0    0    2    4   21]\n",
            " [   0   14   12   22  255    0  525    2    6  122]\n",
            " [   0   15   63   24    0    0    0  915    1   10]\n",
            " [   0    7   41  851    0    0    6    5   23   41]\n",
            " [   0   10    9   65    8    0  129    7   24  757]]\n"
          ],
          "name": "stdout"
        }
      ]
    },
    {
      "cell_type": "markdown",
      "metadata": {
        "id": "0NpSqZAMqJYO"
      },
      "source": [
        "#### Thus, the accuracy of the baseline system is almost 50 which suggests that the model is not performing well. The confusion matrix suggests that for the number 0 & 5 there were no right predictions. Similarly, for others numbers the prediction is good whereas for others it is not good."
      ]
    }
  ]
}