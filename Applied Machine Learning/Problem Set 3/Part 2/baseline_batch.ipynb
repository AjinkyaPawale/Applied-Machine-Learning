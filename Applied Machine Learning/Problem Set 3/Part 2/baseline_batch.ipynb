{
  "nbformat": 4,
  "nbformat_minor": 0,
  "metadata": {
    "kernelspec": {
      "display_name": "Python 3",
      "language": "python",
      "name": "python3"
    },
    "language_info": {
      "codemirror_mode": {
        "name": "ipython",
        "version": 3
      },
      "file_extension": ".py",
      "mimetype": "text/x-python",
      "name": "python",
      "nbconvert_exporter": "python",
      "pygments_lexer": "ipython3",
      "version": "3.8.5"
    },
    "colab": {
      "name": "Part2_baseline-batch.ipynb",
      "provenance": []
    },
    "accelerator": "GPU"
  },
  "cells": [
    {
      "cell_type": "code",
      "metadata": {
        "id": "YX2A0hSx0HIH",
        "colab": {
          "base_uri": "https://localhost:8080/"
        },
        "outputId": "fbf35511-2b6c-4771-aef7-5e34c62ba335"
      },
      "source": [
        "!pip install torch"
      ],
      "execution_count": 1,
      "outputs": [
        {
          "output_type": "stream",
          "text": [
            "Requirement already satisfied: torch in /usr/local/lib/python3.7/dist-packages (1.8.1+cu101)\n",
            "Requirement already satisfied: numpy in /usr/local/lib/python3.7/dist-packages (from torch) (1.19.5)\n",
            "Requirement already satisfied: typing-extensions in /usr/local/lib/python3.7/dist-packages (from torch) (3.7.4.3)\n"
          ],
          "name": "stdout"
        }
      ]
    },
    {
      "cell_type": "code",
      "metadata": {
        "id": "mm64Y3mx0HIT"
      },
      "source": [
        "from sklearn.datasets import fetch_openml\n",
        "import numpy as np\n",
        "import pandas as pd\n",
        "import matplotlib as mpl\n",
        "import matplotlib.pyplot as plt\n",
        "from sklearn.model_selection import StratifiedShuffleSplit\n",
        "from sklearn.model_selection import train_test_split\n",
        "import collections\n",
        "import torch\n",
        "import torch.nn as nn\n",
        "import torch.nn.functional as F\n",
        "import torch.nn.functional as Func\n",
        "from torch.autograd import Variable\n",
        "import torch.optim as optim\n",
        "import torch.utils.data as data\n",
        "from torch.utils.data import DataLoader, TensorDataset\n",
        "import random\n",
        "from scipy.io import savemat\n",
        "import os \n",
        "from os import path\n",
        "from sklearn.preprocessing import normalize\n",
        "from torch.nn.utils import clip_grad_norm_\n",
        "import torch.nn.parallel.data_parallel as data_parallel\n",
        "from sklearn.metrics import confusion_matrix\n",
        "from sklearn.metrics import accuracy_score\n",
        "from torch.optim.lr_scheduler import LambdaLR, StepLR, MultiStepLR, ExponentialLR, ReduceLROnPlateau"
      ],
      "execution_count": 2,
      "outputs": []
    },
    {
      "cell_type": "markdown",
      "metadata": {
        "id": "l5dnDSYGQ8aL"
      },
      "source": [
        "### Loading the dataset as key value pair"
      ]
    },
    {
      "cell_type": "code",
      "metadata": {
        "colab": {
          "base_uri": "https://localhost:8080/"
        },
        "id": "fCg-1Wfi0HIU",
        "outputId": "e2b19e08-d576-437d-938e-41507b1e1931"
      },
      "source": [
        "mnist = fetch_openml('mnist_784',version=1)\n",
        "mnist.keys()"
      ],
      "execution_count": 3,
      "outputs": [
        {
          "output_type": "execute_result",
          "data": {
            "text/plain": [
              "dict_keys(['data', 'target', 'frame', 'feature_names', 'target_names', 'DESCR', 'details', 'categories', 'url'])"
            ]
          },
          "metadata": {
            "tags": []
          },
          "execution_count": 3
        }
      ]
    },
    {
      "cell_type": "code",
      "metadata": {
        "colab": {
          "base_uri": "https://localhost:8080/"
        },
        "id": "mE7eC4YG0HIV",
        "outputId": "f3c1415c-2af8-4e49-9a58-a7d3e64bc0e9"
      },
      "source": [
        "mnist"
      ],
      "execution_count": 4,
      "outputs": [
        {
          "output_type": "execute_result",
          "data": {
            "text/plain": [
              "{'DESCR': \"**Author**: Yann LeCun, Corinna Cortes, Christopher J.C. Burges  \\n**Source**: [MNIST Website](http://yann.lecun.com/exdb/mnist/) - Date unknown  \\n**Please cite**:  \\n\\nThe MNIST database of handwritten digits with 784 features, raw data available at: http://yann.lecun.com/exdb/mnist/. It can be split in a training set of the first 60,000 examples, and a test set of 10,000 examples  \\n\\nIt is a subset of a larger set available from NIST. The digits have been size-normalized and centered in a fixed-size image. It is a good database for people who want to try learning techniques and pattern recognition methods on real-world data while spending minimal efforts on preprocessing and formatting. The original black and white (bilevel) images from NIST were size normalized to fit in a 20x20 pixel box while preserving their aspect ratio. The resulting images contain grey levels as a result of the anti-aliasing technique used by the normalization algorithm. the images were centered in a 28x28 image by computing the center of mass of the pixels, and translating the image so as to position this point at the center of the 28x28 field.  \\n\\nWith some classification methods (particularly template-based methods, such as SVM and K-nearest neighbors), the error rate improves when the digits are centered by bounding box rather than center of mass. If you do this kind of pre-processing, you should report it in your publications. The MNIST database was constructed from NIST's NIST originally designated SD-3 as their training set and SD-1 as their test set. However, SD-3 is much cleaner and easier to recognize than SD-1. The reason for this can be found on the fact that SD-3 was collected among Census Bureau employees, while SD-1 was collected among high-school students. Drawing sensible conclusions from learning experiments requires that the result be independent of the choice of training set and test among the complete set of samples. Therefore it was necessary to build a new database by mixing NIST's datasets.  \\n\\nThe MNIST training set is composed of 30,000 patterns from SD-3 and 30,000 patterns from SD-1. Our test set was composed of 5,000 patterns from SD-3 and 5,000 patterns from SD-1. The 60,000 pattern training set contained examples from approximately 250 writers. We made sure that the sets of writers of the training set and test set were disjoint. SD-1 contains 58,527 digit images written by 500 different writers. In contrast to SD-3, where blocks of data from each writer appeared in sequence, the data in SD-1 is scrambled. Writer identities for SD-1 is available and we used this information to unscramble the writers. We then split SD-1 in two: characters written by the first 250 writers went into our new training set. The remaining 250 writers were placed in our test set. Thus we had two sets with nearly 30,000 examples each. The new training set was completed with enough examples from SD-3, starting at pattern # 0, to make a full set of 60,000 training patterns. Similarly, the new test set was completed with SD-3 examples starting at pattern # 35,000 to make a full set with 60,000 test patterns. Only a subset of 10,000 test images (5,000 from SD-1 and 5,000 from SD-3) is available on this site. The full 60,000 sample training set is available.\\n\\nDownloaded from openml.org.\",\n",
              " 'categories': {},\n",
              " 'data': array([[0., 0., 0., ..., 0., 0., 0.],\n",
              "        [0., 0., 0., ..., 0., 0., 0.],\n",
              "        [0., 0., 0., ..., 0., 0., 0.],\n",
              "        ...,\n",
              "        [0., 0., 0., ..., 0., 0., 0.],\n",
              "        [0., 0., 0., ..., 0., 0., 0.],\n",
              "        [0., 0., 0., ..., 0., 0., 0.]]),\n",
              " 'details': {'default_target_attribute': 'class',\n",
              "  'file_id': '52667',\n",
              "  'format': 'ARFF',\n",
              "  'id': '554',\n",
              "  'licence': 'Public',\n",
              "  'md5_checksum': '0298d579eb1b86163de7723944c7e495',\n",
              "  'name': 'mnist_784',\n",
              "  'processing_date': '2020-11-20 20:12:09',\n",
              "  'status': 'active',\n",
              "  'tag': ['AzurePilot',\n",
              "   'OpenML-CC18',\n",
              "   'OpenML100',\n",
              "   'study_1',\n",
              "   'study_123',\n",
              "   'study_41',\n",
              "   'study_99',\n",
              "   'vision'],\n",
              "  'upload_date': '2014-09-29T03:28:38',\n",
              "  'url': 'https://www.openml.org/data/v1/download/52667/mnist_784.arff',\n",
              "  'version': '1',\n",
              "  'visibility': 'public'},\n",
              " 'feature_names': ['pixel1',\n",
              "  'pixel2',\n",
              "  'pixel3',\n",
              "  'pixel4',\n",
              "  'pixel5',\n",
              "  'pixel6',\n",
              "  'pixel7',\n",
              "  'pixel8',\n",
              "  'pixel9',\n",
              "  'pixel10',\n",
              "  'pixel11',\n",
              "  'pixel12',\n",
              "  'pixel13',\n",
              "  'pixel14',\n",
              "  'pixel15',\n",
              "  'pixel16',\n",
              "  'pixel17',\n",
              "  'pixel18',\n",
              "  'pixel19',\n",
              "  'pixel20',\n",
              "  'pixel21',\n",
              "  'pixel22',\n",
              "  'pixel23',\n",
              "  'pixel24',\n",
              "  'pixel25',\n",
              "  'pixel26',\n",
              "  'pixel27',\n",
              "  'pixel28',\n",
              "  'pixel29',\n",
              "  'pixel30',\n",
              "  'pixel31',\n",
              "  'pixel32',\n",
              "  'pixel33',\n",
              "  'pixel34',\n",
              "  'pixel35',\n",
              "  'pixel36',\n",
              "  'pixel37',\n",
              "  'pixel38',\n",
              "  'pixel39',\n",
              "  'pixel40',\n",
              "  'pixel41',\n",
              "  'pixel42',\n",
              "  'pixel43',\n",
              "  'pixel44',\n",
              "  'pixel45',\n",
              "  'pixel46',\n",
              "  'pixel47',\n",
              "  'pixel48',\n",
              "  'pixel49',\n",
              "  'pixel50',\n",
              "  'pixel51',\n",
              "  'pixel52',\n",
              "  'pixel53',\n",
              "  'pixel54',\n",
              "  'pixel55',\n",
              "  'pixel56',\n",
              "  'pixel57',\n",
              "  'pixel58',\n",
              "  'pixel59',\n",
              "  'pixel60',\n",
              "  'pixel61',\n",
              "  'pixel62',\n",
              "  'pixel63',\n",
              "  'pixel64',\n",
              "  'pixel65',\n",
              "  'pixel66',\n",
              "  'pixel67',\n",
              "  'pixel68',\n",
              "  'pixel69',\n",
              "  'pixel70',\n",
              "  'pixel71',\n",
              "  'pixel72',\n",
              "  'pixel73',\n",
              "  'pixel74',\n",
              "  'pixel75',\n",
              "  'pixel76',\n",
              "  'pixel77',\n",
              "  'pixel78',\n",
              "  'pixel79',\n",
              "  'pixel80',\n",
              "  'pixel81',\n",
              "  'pixel82',\n",
              "  'pixel83',\n",
              "  'pixel84',\n",
              "  'pixel85',\n",
              "  'pixel86',\n",
              "  'pixel87',\n",
              "  'pixel88',\n",
              "  'pixel89',\n",
              "  'pixel90',\n",
              "  'pixel91',\n",
              "  'pixel92',\n",
              "  'pixel93',\n",
              "  'pixel94',\n",
              "  'pixel95',\n",
              "  'pixel96',\n",
              "  'pixel97',\n",
              "  'pixel98',\n",
              "  'pixel99',\n",
              "  'pixel100',\n",
              "  'pixel101',\n",
              "  'pixel102',\n",
              "  'pixel103',\n",
              "  'pixel104',\n",
              "  'pixel105',\n",
              "  'pixel106',\n",
              "  'pixel107',\n",
              "  'pixel108',\n",
              "  'pixel109',\n",
              "  'pixel110',\n",
              "  'pixel111',\n",
              "  'pixel112',\n",
              "  'pixel113',\n",
              "  'pixel114',\n",
              "  'pixel115',\n",
              "  'pixel116',\n",
              "  'pixel117',\n",
              "  'pixel118',\n",
              "  'pixel119',\n",
              "  'pixel120',\n",
              "  'pixel121',\n",
              "  'pixel122',\n",
              "  'pixel123',\n",
              "  'pixel124',\n",
              "  'pixel125',\n",
              "  'pixel126',\n",
              "  'pixel127',\n",
              "  'pixel128',\n",
              "  'pixel129',\n",
              "  'pixel130',\n",
              "  'pixel131',\n",
              "  'pixel132',\n",
              "  'pixel133',\n",
              "  'pixel134',\n",
              "  'pixel135',\n",
              "  'pixel136',\n",
              "  'pixel137',\n",
              "  'pixel138',\n",
              "  'pixel139',\n",
              "  'pixel140',\n",
              "  'pixel141',\n",
              "  'pixel142',\n",
              "  'pixel143',\n",
              "  'pixel144',\n",
              "  'pixel145',\n",
              "  'pixel146',\n",
              "  'pixel147',\n",
              "  'pixel148',\n",
              "  'pixel149',\n",
              "  'pixel150',\n",
              "  'pixel151',\n",
              "  'pixel152',\n",
              "  'pixel153',\n",
              "  'pixel154',\n",
              "  'pixel155',\n",
              "  'pixel156',\n",
              "  'pixel157',\n",
              "  'pixel158',\n",
              "  'pixel159',\n",
              "  'pixel160',\n",
              "  'pixel161',\n",
              "  'pixel162',\n",
              "  'pixel163',\n",
              "  'pixel164',\n",
              "  'pixel165',\n",
              "  'pixel166',\n",
              "  'pixel167',\n",
              "  'pixel168',\n",
              "  'pixel169',\n",
              "  'pixel170',\n",
              "  'pixel171',\n",
              "  'pixel172',\n",
              "  'pixel173',\n",
              "  'pixel174',\n",
              "  'pixel175',\n",
              "  'pixel176',\n",
              "  'pixel177',\n",
              "  'pixel178',\n",
              "  'pixel179',\n",
              "  'pixel180',\n",
              "  'pixel181',\n",
              "  'pixel182',\n",
              "  'pixel183',\n",
              "  'pixel184',\n",
              "  'pixel185',\n",
              "  'pixel186',\n",
              "  'pixel187',\n",
              "  'pixel188',\n",
              "  'pixel189',\n",
              "  'pixel190',\n",
              "  'pixel191',\n",
              "  'pixel192',\n",
              "  'pixel193',\n",
              "  'pixel194',\n",
              "  'pixel195',\n",
              "  'pixel196',\n",
              "  'pixel197',\n",
              "  'pixel198',\n",
              "  'pixel199',\n",
              "  'pixel200',\n",
              "  'pixel201',\n",
              "  'pixel202',\n",
              "  'pixel203',\n",
              "  'pixel204',\n",
              "  'pixel205',\n",
              "  'pixel206',\n",
              "  'pixel207',\n",
              "  'pixel208',\n",
              "  'pixel209',\n",
              "  'pixel210',\n",
              "  'pixel211',\n",
              "  'pixel212',\n",
              "  'pixel213',\n",
              "  'pixel214',\n",
              "  'pixel215',\n",
              "  'pixel216',\n",
              "  'pixel217',\n",
              "  'pixel218',\n",
              "  'pixel219',\n",
              "  'pixel220',\n",
              "  'pixel221',\n",
              "  'pixel222',\n",
              "  'pixel223',\n",
              "  'pixel224',\n",
              "  'pixel225',\n",
              "  'pixel226',\n",
              "  'pixel227',\n",
              "  'pixel228',\n",
              "  'pixel229',\n",
              "  'pixel230',\n",
              "  'pixel231',\n",
              "  'pixel232',\n",
              "  'pixel233',\n",
              "  'pixel234',\n",
              "  'pixel235',\n",
              "  'pixel236',\n",
              "  'pixel237',\n",
              "  'pixel238',\n",
              "  'pixel239',\n",
              "  'pixel240',\n",
              "  'pixel241',\n",
              "  'pixel242',\n",
              "  'pixel243',\n",
              "  'pixel244',\n",
              "  'pixel245',\n",
              "  'pixel246',\n",
              "  'pixel247',\n",
              "  'pixel248',\n",
              "  'pixel249',\n",
              "  'pixel250',\n",
              "  'pixel251',\n",
              "  'pixel252',\n",
              "  'pixel253',\n",
              "  'pixel254',\n",
              "  'pixel255',\n",
              "  'pixel256',\n",
              "  'pixel257',\n",
              "  'pixel258',\n",
              "  'pixel259',\n",
              "  'pixel260',\n",
              "  'pixel261',\n",
              "  'pixel262',\n",
              "  'pixel263',\n",
              "  'pixel264',\n",
              "  'pixel265',\n",
              "  'pixel266',\n",
              "  'pixel267',\n",
              "  'pixel268',\n",
              "  'pixel269',\n",
              "  'pixel270',\n",
              "  'pixel271',\n",
              "  'pixel272',\n",
              "  'pixel273',\n",
              "  'pixel274',\n",
              "  'pixel275',\n",
              "  'pixel276',\n",
              "  'pixel277',\n",
              "  'pixel278',\n",
              "  'pixel279',\n",
              "  'pixel280',\n",
              "  'pixel281',\n",
              "  'pixel282',\n",
              "  'pixel283',\n",
              "  'pixel284',\n",
              "  'pixel285',\n",
              "  'pixel286',\n",
              "  'pixel287',\n",
              "  'pixel288',\n",
              "  'pixel289',\n",
              "  'pixel290',\n",
              "  'pixel291',\n",
              "  'pixel292',\n",
              "  'pixel293',\n",
              "  'pixel294',\n",
              "  'pixel295',\n",
              "  'pixel296',\n",
              "  'pixel297',\n",
              "  'pixel298',\n",
              "  'pixel299',\n",
              "  'pixel300',\n",
              "  'pixel301',\n",
              "  'pixel302',\n",
              "  'pixel303',\n",
              "  'pixel304',\n",
              "  'pixel305',\n",
              "  'pixel306',\n",
              "  'pixel307',\n",
              "  'pixel308',\n",
              "  'pixel309',\n",
              "  'pixel310',\n",
              "  'pixel311',\n",
              "  'pixel312',\n",
              "  'pixel313',\n",
              "  'pixel314',\n",
              "  'pixel315',\n",
              "  'pixel316',\n",
              "  'pixel317',\n",
              "  'pixel318',\n",
              "  'pixel319',\n",
              "  'pixel320',\n",
              "  'pixel321',\n",
              "  'pixel322',\n",
              "  'pixel323',\n",
              "  'pixel324',\n",
              "  'pixel325',\n",
              "  'pixel326',\n",
              "  'pixel327',\n",
              "  'pixel328',\n",
              "  'pixel329',\n",
              "  'pixel330',\n",
              "  'pixel331',\n",
              "  'pixel332',\n",
              "  'pixel333',\n",
              "  'pixel334',\n",
              "  'pixel335',\n",
              "  'pixel336',\n",
              "  'pixel337',\n",
              "  'pixel338',\n",
              "  'pixel339',\n",
              "  'pixel340',\n",
              "  'pixel341',\n",
              "  'pixel342',\n",
              "  'pixel343',\n",
              "  'pixel344',\n",
              "  'pixel345',\n",
              "  'pixel346',\n",
              "  'pixel347',\n",
              "  'pixel348',\n",
              "  'pixel349',\n",
              "  'pixel350',\n",
              "  'pixel351',\n",
              "  'pixel352',\n",
              "  'pixel353',\n",
              "  'pixel354',\n",
              "  'pixel355',\n",
              "  'pixel356',\n",
              "  'pixel357',\n",
              "  'pixel358',\n",
              "  'pixel359',\n",
              "  'pixel360',\n",
              "  'pixel361',\n",
              "  'pixel362',\n",
              "  'pixel363',\n",
              "  'pixel364',\n",
              "  'pixel365',\n",
              "  'pixel366',\n",
              "  'pixel367',\n",
              "  'pixel368',\n",
              "  'pixel369',\n",
              "  'pixel370',\n",
              "  'pixel371',\n",
              "  'pixel372',\n",
              "  'pixel373',\n",
              "  'pixel374',\n",
              "  'pixel375',\n",
              "  'pixel376',\n",
              "  'pixel377',\n",
              "  'pixel378',\n",
              "  'pixel379',\n",
              "  'pixel380',\n",
              "  'pixel381',\n",
              "  'pixel382',\n",
              "  'pixel383',\n",
              "  'pixel384',\n",
              "  'pixel385',\n",
              "  'pixel386',\n",
              "  'pixel387',\n",
              "  'pixel388',\n",
              "  'pixel389',\n",
              "  'pixel390',\n",
              "  'pixel391',\n",
              "  'pixel392',\n",
              "  'pixel393',\n",
              "  'pixel394',\n",
              "  'pixel395',\n",
              "  'pixel396',\n",
              "  'pixel397',\n",
              "  'pixel398',\n",
              "  'pixel399',\n",
              "  'pixel400',\n",
              "  'pixel401',\n",
              "  'pixel402',\n",
              "  'pixel403',\n",
              "  'pixel404',\n",
              "  'pixel405',\n",
              "  'pixel406',\n",
              "  'pixel407',\n",
              "  'pixel408',\n",
              "  'pixel409',\n",
              "  'pixel410',\n",
              "  'pixel411',\n",
              "  'pixel412',\n",
              "  'pixel413',\n",
              "  'pixel414',\n",
              "  'pixel415',\n",
              "  'pixel416',\n",
              "  'pixel417',\n",
              "  'pixel418',\n",
              "  'pixel419',\n",
              "  'pixel420',\n",
              "  'pixel421',\n",
              "  'pixel422',\n",
              "  'pixel423',\n",
              "  'pixel424',\n",
              "  'pixel425',\n",
              "  'pixel426',\n",
              "  'pixel427',\n",
              "  'pixel428',\n",
              "  'pixel429',\n",
              "  'pixel430',\n",
              "  'pixel431',\n",
              "  'pixel432',\n",
              "  'pixel433',\n",
              "  'pixel434',\n",
              "  'pixel435',\n",
              "  'pixel436',\n",
              "  'pixel437',\n",
              "  'pixel438',\n",
              "  'pixel439',\n",
              "  'pixel440',\n",
              "  'pixel441',\n",
              "  'pixel442',\n",
              "  'pixel443',\n",
              "  'pixel444',\n",
              "  'pixel445',\n",
              "  'pixel446',\n",
              "  'pixel447',\n",
              "  'pixel448',\n",
              "  'pixel449',\n",
              "  'pixel450',\n",
              "  'pixel451',\n",
              "  'pixel452',\n",
              "  'pixel453',\n",
              "  'pixel454',\n",
              "  'pixel455',\n",
              "  'pixel456',\n",
              "  'pixel457',\n",
              "  'pixel458',\n",
              "  'pixel459',\n",
              "  'pixel460',\n",
              "  'pixel461',\n",
              "  'pixel462',\n",
              "  'pixel463',\n",
              "  'pixel464',\n",
              "  'pixel465',\n",
              "  'pixel466',\n",
              "  'pixel467',\n",
              "  'pixel468',\n",
              "  'pixel469',\n",
              "  'pixel470',\n",
              "  'pixel471',\n",
              "  'pixel472',\n",
              "  'pixel473',\n",
              "  'pixel474',\n",
              "  'pixel475',\n",
              "  'pixel476',\n",
              "  'pixel477',\n",
              "  'pixel478',\n",
              "  'pixel479',\n",
              "  'pixel480',\n",
              "  'pixel481',\n",
              "  'pixel482',\n",
              "  'pixel483',\n",
              "  'pixel484',\n",
              "  'pixel485',\n",
              "  'pixel486',\n",
              "  'pixel487',\n",
              "  'pixel488',\n",
              "  'pixel489',\n",
              "  'pixel490',\n",
              "  'pixel491',\n",
              "  'pixel492',\n",
              "  'pixel493',\n",
              "  'pixel494',\n",
              "  'pixel495',\n",
              "  'pixel496',\n",
              "  'pixel497',\n",
              "  'pixel498',\n",
              "  'pixel499',\n",
              "  'pixel500',\n",
              "  'pixel501',\n",
              "  'pixel502',\n",
              "  'pixel503',\n",
              "  'pixel504',\n",
              "  'pixel505',\n",
              "  'pixel506',\n",
              "  'pixel507',\n",
              "  'pixel508',\n",
              "  'pixel509',\n",
              "  'pixel510',\n",
              "  'pixel511',\n",
              "  'pixel512',\n",
              "  'pixel513',\n",
              "  'pixel514',\n",
              "  'pixel515',\n",
              "  'pixel516',\n",
              "  'pixel517',\n",
              "  'pixel518',\n",
              "  'pixel519',\n",
              "  'pixel520',\n",
              "  'pixel521',\n",
              "  'pixel522',\n",
              "  'pixel523',\n",
              "  'pixel524',\n",
              "  'pixel525',\n",
              "  'pixel526',\n",
              "  'pixel527',\n",
              "  'pixel528',\n",
              "  'pixel529',\n",
              "  'pixel530',\n",
              "  'pixel531',\n",
              "  'pixel532',\n",
              "  'pixel533',\n",
              "  'pixel534',\n",
              "  'pixel535',\n",
              "  'pixel536',\n",
              "  'pixel537',\n",
              "  'pixel538',\n",
              "  'pixel539',\n",
              "  'pixel540',\n",
              "  'pixel541',\n",
              "  'pixel542',\n",
              "  'pixel543',\n",
              "  'pixel544',\n",
              "  'pixel545',\n",
              "  'pixel546',\n",
              "  'pixel547',\n",
              "  'pixel548',\n",
              "  'pixel549',\n",
              "  'pixel550',\n",
              "  'pixel551',\n",
              "  'pixel552',\n",
              "  'pixel553',\n",
              "  'pixel554',\n",
              "  'pixel555',\n",
              "  'pixel556',\n",
              "  'pixel557',\n",
              "  'pixel558',\n",
              "  'pixel559',\n",
              "  'pixel560',\n",
              "  'pixel561',\n",
              "  'pixel562',\n",
              "  'pixel563',\n",
              "  'pixel564',\n",
              "  'pixel565',\n",
              "  'pixel566',\n",
              "  'pixel567',\n",
              "  'pixel568',\n",
              "  'pixel569',\n",
              "  'pixel570',\n",
              "  'pixel571',\n",
              "  'pixel572',\n",
              "  'pixel573',\n",
              "  'pixel574',\n",
              "  'pixel575',\n",
              "  'pixel576',\n",
              "  'pixel577',\n",
              "  'pixel578',\n",
              "  'pixel579',\n",
              "  'pixel580',\n",
              "  'pixel581',\n",
              "  'pixel582',\n",
              "  'pixel583',\n",
              "  'pixel584',\n",
              "  'pixel585',\n",
              "  'pixel586',\n",
              "  'pixel587',\n",
              "  'pixel588',\n",
              "  'pixel589',\n",
              "  'pixel590',\n",
              "  'pixel591',\n",
              "  'pixel592',\n",
              "  'pixel593',\n",
              "  'pixel594',\n",
              "  'pixel595',\n",
              "  'pixel596',\n",
              "  'pixel597',\n",
              "  'pixel598',\n",
              "  'pixel599',\n",
              "  'pixel600',\n",
              "  'pixel601',\n",
              "  'pixel602',\n",
              "  'pixel603',\n",
              "  'pixel604',\n",
              "  'pixel605',\n",
              "  'pixel606',\n",
              "  'pixel607',\n",
              "  'pixel608',\n",
              "  'pixel609',\n",
              "  'pixel610',\n",
              "  'pixel611',\n",
              "  'pixel612',\n",
              "  'pixel613',\n",
              "  'pixel614',\n",
              "  'pixel615',\n",
              "  'pixel616',\n",
              "  'pixel617',\n",
              "  'pixel618',\n",
              "  'pixel619',\n",
              "  'pixel620',\n",
              "  'pixel621',\n",
              "  'pixel622',\n",
              "  'pixel623',\n",
              "  'pixel624',\n",
              "  'pixel625',\n",
              "  'pixel626',\n",
              "  'pixel627',\n",
              "  'pixel628',\n",
              "  'pixel629',\n",
              "  'pixel630',\n",
              "  'pixel631',\n",
              "  'pixel632',\n",
              "  'pixel633',\n",
              "  'pixel634',\n",
              "  'pixel635',\n",
              "  'pixel636',\n",
              "  'pixel637',\n",
              "  'pixel638',\n",
              "  'pixel639',\n",
              "  'pixel640',\n",
              "  'pixel641',\n",
              "  'pixel642',\n",
              "  'pixel643',\n",
              "  'pixel644',\n",
              "  'pixel645',\n",
              "  'pixel646',\n",
              "  'pixel647',\n",
              "  'pixel648',\n",
              "  'pixel649',\n",
              "  'pixel650',\n",
              "  'pixel651',\n",
              "  'pixel652',\n",
              "  'pixel653',\n",
              "  'pixel654',\n",
              "  'pixel655',\n",
              "  'pixel656',\n",
              "  'pixel657',\n",
              "  'pixel658',\n",
              "  'pixel659',\n",
              "  'pixel660',\n",
              "  'pixel661',\n",
              "  'pixel662',\n",
              "  'pixel663',\n",
              "  'pixel664',\n",
              "  'pixel665',\n",
              "  'pixel666',\n",
              "  'pixel667',\n",
              "  'pixel668',\n",
              "  'pixel669',\n",
              "  'pixel670',\n",
              "  'pixel671',\n",
              "  'pixel672',\n",
              "  'pixel673',\n",
              "  'pixel674',\n",
              "  'pixel675',\n",
              "  'pixel676',\n",
              "  'pixel677',\n",
              "  'pixel678',\n",
              "  'pixel679',\n",
              "  'pixel680',\n",
              "  'pixel681',\n",
              "  'pixel682',\n",
              "  'pixel683',\n",
              "  'pixel684',\n",
              "  'pixel685',\n",
              "  'pixel686',\n",
              "  'pixel687',\n",
              "  'pixel688',\n",
              "  'pixel689',\n",
              "  'pixel690',\n",
              "  'pixel691',\n",
              "  'pixel692',\n",
              "  'pixel693',\n",
              "  'pixel694',\n",
              "  'pixel695',\n",
              "  'pixel696',\n",
              "  'pixel697',\n",
              "  'pixel698',\n",
              "  'pixel699',\n",
              "  'pixel700',\n",
              "  'pixel701',\n",
              "  'pixel702',\n",
              "  'pixel703',\n",
              "  'pixel704',\n",
              "  'pixel705',\n",
              "  'pixel706',\n",
              "  'pixel707',\n",
              "  'pixel708',\n",
              "  'pixel709',\n",
              "  'pixel710',\n",
              "  'pixel711',\n",
              "  'pixel712',\n",
              "  'pixel713',\n",
              "  'pixel714',\n",
              "  'pixel715',\n",
              "  'pixel716',\n",
              "  'pixel717',\n",
              "  'pixel718',\n",
              "  'pixel719',\n",
              "  'pixel720',\n",
              "  'pixel721',\n",
              "  'pixel722',\n",
              "  'pixel723',\n",
              "  'pixel724',\n",
              "  'pixel725',\n",
              "  'pixel726',\n",
              "  'pixel727',\n",
              "  'pixel728',\n",
              "  'pixel729',\n",
              "  'pixel730',\n",
              "  'pixel731',\n",
              "  'pixel732',\n",
              "  'pixel733',\n",
              "  'pixel734',\n",
              "  'pixel735',\n",
              "  'pixel736',\n",
              "  'pixel737',\n",
              "  'pixel738',\n",
              "  'pixel739',\n",
              "  'pixel740',\n",
              "  'pixel741',\n",
              "  'pixel742',\n",
              "  'pixel743',\n",
              "  'pixel744',\n",
              "  'pixel745',\n",
              "  'pixel746',\n",
              "  'pixel747',\n",
              "  'pixel748',\n",
              "  'pixel749',\n",
              "  'pixel750',\n",
              "  'pixel751',\n",
              "  'pixel752',\n",
              "  'pixel753',\n",
              "  'pixel754',\n",
              "  'pixel755',\n",
              "  'pixel756',\n",
              "  'pixel757',\n",
              "  'pixel758',\n",
              "  'pixel759',\n",
              "  'pixel760',\n",
              "  'pixel761',\n",
              "  'pixel762',\n",
              "  'pixel763',\n",
              "  'pixel764',\n",
              "  'pixel765',\n",
              "  'pixel766',\n",
              "  'pixel767',\n",
              "  'pixel768',\n",
              "  'pixel769',\n",
              "  'pixel770',\n",
              "  'pixel771',\n",
              "  'pixel772',\n",
              "  'pixel773',\n",
              "  'pixel774',\n",
              "  'pixel775',\n",
              "  'pixel776',\n",
              "  'pixel777',\n",
              "  'pixel778',\n",
              "  'pixel779',\n",
              "  'pixel780',\n",
              "  'pixel781',\n",
              "  'pixel782',\n",
              "  'pixel783',\n",
              "  'pixel784'],\n",
              " 'frame': None,\n",
              " 'target': array(['5', '0', '4', ..., '4', '5', '6'], dtype=object),\n",
              " 'target_names': ['class'],\n",
              " 'url': 'https://www.openml.org/d/554'}"
            ]
          },
          "metadata": {
            "tags": []
          },
          "execution_count": 4
        }
      ]
    },
    {
      "cell_type": "code",
      "metadata": {
        "colab": {
          "base_uri": "https://localhost:8080/"
        },
        "id": "DCJq4ZvL0HIV",
        "outputId": "6de4cb92-81cf-4443-9429-a41acc96c7ec"
      },
      "source": [
        "import numpy as np\n",
        "X,y=mnist[\"data\"],mnist[\"target\"]\n",
        "y=y.astype(int)\n",
        "X=((X/255.)-.5)*2\n",
        "print(X.shape,y.shape)\n",
        "print(min(y),max(y))\n",
        "print(type(X),type(y))\n",
        "print(np.min(X), np.max(X))"
      ],
      "execution_count": 5,
      "outputs": [
        {
          "output_type": "stream",
          "text": [
            "(70000, 784) (70000,)\n",
            "0 9\n",
            "<class 'numpy.ndarray'> <class 'numpy.ndarray'>\n",
            "-1.0 1.0\n"
          ],
          "name": "stdout"
        }
      ]
    },
    {
      "cell_type": "markdown",
      "metadata": {
        "id": "duasNtFI0HIX"
      },
      "source": [
        "### Splittling the data into train and test"
      ]
    },
    {
      "cell_type": "code",
      "metadata": {
        "colab": {
          "base_uri": "https://localhost:8080/"
        },
        "id": "Xt59cd0u0HIX",
        "outputId": "c239ed56-889f-4f64-fa59-453dfb1aaf9f"
      },
      "source": [
        "X_train, X_test, y_train, y_test = X[:60000], X[60000:], y[:60000], y[60000:]\n",
        "print(X_train.shape,X_test.shape,y_train.shape,y_test.shape)"
      ],
      "execution_count": 6,
      "outputs": [
        {
          "output_type": "stream",
          "text": [
            "(60000, 784) (10000, 784) (60000,) (10000,)\n"
          ],
          "name": "stdout"
        }
      ]
    },
    {
      "cell_type": "markdown",
      "metadata": {
        "id": "c2uMgOD3RZ6a"
      },
      "source": [
        "### Splliting the train data further into train and development/validation"
      ]
    },
    {
      "cell_type": "code",
      "metadata": {
        "colab": {
          "base_uri": "https://localhost:8080/"
        },
        "id": "vUrnq8jh0HIY",
        "outputId": "57c9af98-a103-46a5-ff85-aba25726ba3e"
      },
      "source": [
        "split = StratifiedShuffleSplit(n_splits=1, test_size=0.1, random_state = 42)\n",
        "\n",
        "for train_index, val_index in split.split(X_train,y_train):\n",
        "    X_train_strat = X[train_index,:]\n",
        "    y_train_strat = y[train_index]\n",
        "    \n",
        "    X_dev_strat = X[val_index,:]\n",
        "    y_dev_strat = y[val_index]\n",
        "\n",
        "print(X_train_strat.shape,y_train_strat.shape,X_dev_strat.shape,y_dev_strat.shape)"
      ],
      "execution_count": 7,
      "outputs": [
        {
          "output_type": "stream",
          "text": [
            "(54000, 784) (54000,) (6000, 784) (6000,)\n"
          ],
          "name": "stdout"
        }
      ]
    },
    {
      "cell_type": "code",
      "metadata": {
        "id": "Vx9blRh30HIY"
      },
      "source": [
        "train_images = X_train_strat.reshape(X_train_strat.shape[0], 28, 28) #reshape the images to 54000,28,28 from 54000,784\n",
        "dev_images = X_dev_strat.reshape(X_dev_strat.shape[0], 28, 28)\n",
        "test_images = X_test.reshape(X_test.shape[0], 28, 28)"
      ],
      "execution_count": 8,
      "outputs": []
    },
    {
      "cell_type": "markdown",
      "metadata": {
        "id": "aX9r-If_RoJH"
      },
      "source": [
        "### Converting the data into tensor format for the input to the CNN model"
      ]
    },
    {
      "cell_type": "code",
      "metadata": {
        "id": "NHqNTy_p0HIZ"
      },
      "source": [
        "#train\n",
        "train_images_tensor = torch.tensor(train_images)/255.0\n",
        "train_labels_tensor = torch.tensor(y_train_strat)\n",
        "train_tensor = TensorDataset(train_images_tensor, train_labels_tensor)\n",
        "\n",
        "#dev\n",
        "dev_images_tensor = torch.tensor(dev_images)/255.0\n",
        "dev_labels_tensor = torch.tensor(y_dev_strat)\n",
        "dev_tensor = TensorDataset(dev_images_tensor, dev_labels_tensor)\n",
        "\n",
        "#test\n",
        "test_images_tensor = torch.tensor(test_images)/255.0"
      ],
      "execution_count": 9,
      "outputs": []
    },
    {
      "cell_type": "markdown",
      "metadata": {
        "id": "OyJq5LCER1wD"
      },
      "source": [
        "### Calling Data Loader to save the input tensors "
      ]
    },
    {
      "cell_type": "code",
      "metadata": {
        "id": "7YCzaFR60HIZ"
      },
      "source": [
        "train_loader = DataLoader(train_tensor, batch_size=16, num_workers=2, shuffle=True)\n",
        "dev_loader = DataLoader(dev_tensor, batch_size=16, num_workers=2, shuffle=True)\n",
        "test_loader = DataLoader(test_images_tensor, batch_size=16, num_workers=2, shuffle=False)"
      ],
      "execution_count": 10,
      "outputs": []
    },
    {
      "cell_type": "markdown",
      "metadata": {
        "id": "40hL6_VzR-tN"
      },
      "source": [
        "### Define hyperparameters"
      ]
    },
    {
      "cell_type": "code",
      "metadata": {
        "id": "jb59mDfQ0HIZ"
      },
      "source": [
        "\n",
        "class hyperparam:\n",
        "    lr = 0.05  # learning rate\n",
        "    num_epochs = 50  # Number of epochs\n",
        "    bs = 16  # Mini-batch size +\n",
        "    moment = 0.9 # Momentum SGD "
      ],
      "execution_count": 11,
      "outputs": []
    },
    {
      "cell_type": "markdown",
      "metadata": {
        "id": "TcXDd3WfSWg4"
      },
      "source": [
        "### Creating the CNN Architechture with 3 convolution layers and 3 maxpool layers along with activation functions after each convolution and pooling layer. Then passing the output of the convolution block to the fully connected layers with 2 hidden and one output layer.\n",
        "\n",
        "### **Batch normalization added before each convolution layer**"
      ]
    },
    {
      "cell_type": "code",
      "metadata": {
        "id": "JGbkc3_00HIb"
      },
      "source": [
        "class CNN(nn.Module):\n",
        "    def __init__(self):\n",
        "        super(CNN, self).__init__()\n",
        "        \n",
        "        self.conv_block = nn.Sequential(\n",
        "            nn.Conv2d(1, 32, kernel_size=3, stride=1, padding=1),\n",
        "            nn.BatchNorm2d(32),\n",
        "            nn.ReLU(inplace=True),\n",
        "            nn.Conv2d(32, 64, kernel_size=3, stride=1, padding=1),\n",
        "            nn.BatchNorm2d(64),\n",
        "            nn.ReLU(inplace=True),\n",
        "            nn.MaxPool2d(kernel_size=2, stride=2),\n",
        "            nn.Conv2d(64, 128, kernel_size=3, stride=1, padding=1),\n",
        "            nn.BatchNorm2d(128),\n",
        "            nn.ReLU(inplace=True),\n",
        "            nn.MaxPool2d(kernel_size=2, stride=2) \n",
        "        )\n",
        "        \n",
        "        self.linear_block = nn.Sequential(\n",
        "            #nn.Dropout(p=0.5),\n",
        "            nn.Linear(128*7*7, 128),\n",
        "            nn.BatchNorm1d(128),\n",
        "            nn.ReLU(inplace=True),\n",
        "            #nn.Dropout(0.5),\n",
        "            nn.Linear(128, 64),\n",
        "            nn.BatchNorm1d(64),\n",
        "            nn.ReLU(inplace=True),\n",
        "            #nn.Dropout(0.5),\n",
        "            nn.Linear(64, 10)\n",
        "        )\n",
        "        \n",
        "    def forward(self, x):\n",
        "        x = self.conv_block(x)\n",
        "        x = x.view(x.size(0), -1)\n",
        "        x = self.linear_block(x)\n",
        "        \n",
        "        return x"
      ],
      "execution_count": 12,
      "outputs": []
    },
    {
      "cell_type": "markdown",
      "metadata": {
        "id": "onM9X0QaWXMD"
      },
      "source": [
        "### Glorat Intialization using xavier normal function in torch"
      ]
    },
    {
      "cell_type": "code",
      "metadata": {
        "id": "hHm2YTuoRKuQ"
      },
      "source": [
        "def init_weights(m):\n",
        "    if type(m) == nn.Linear:\n",
        "        torch.nn.init.xavier_normal_(m.weight)\n",
        "        m.bias.data.fill_(0.01)"
      ],
      "execution_count": 13,
      "outputs": []
    },
    {
      "cell_type": "markdown",
      "metadata": {
        "id": "h9xCuzg6dg6r"
      },
      "source": [
        "### Call the CNN model and define loss function"
      ]
    },
    {
      "cell_type": "code",
      "metadata": {
        "colab": {
          "base_uri": "https://localhost:8080/"
        },
        "id": "TfRZ2t9K0HIb",
        "outputId": "97920db3-7909-460b-b2f8-148b3e6323bb"
      },
      "source": [
        "cnn_model = CNN()\n",
        "cnn_model.apply(init_weights) # glorat initialization \n",
        "cnn_model.parameters()"
      ],
      "execution_count": 14,
      "outputs": [
        {
          "output_type": "execute_result",
          "data": {
            "text/plain": [
              "<generator object Module.parameters at 0x7f80a9a6a3d0>"
            ]
          },
          "metadata": {
            "tags": []
          },
          "execution_count": 14
        }
      ]
    },
    {
      "cell_type": "markdown",
      "metadata": {
        "id": "Z5SeMaWt4Yp4"
      },
      "source": [
        "### Initializing three things in the next cell:\n",
        "### 1) Optimizer as Stochastic Gradient Descent with learning rate of 0.05 and momentum of 0.9\n",
        "### 2) Learning Rate scheduler to adjust the learning rate by 10% every 10 epochs\n",
        "### 3) Cross Entropy Loss function since its a classification problem"
      ]
    },
    {
      "cell_type": "code",
      "metadata": {
        "colab": {
          "base_uri": "https://localhost:8080/"
        },
        "id": "8AVvlUfS0HIb",
        "outputId": "e2757e51-d51c-4e92-e701-be4e7cc1b9e4"
      },
      "source": [
        "optimizer = torch.optim.SGD(cnn_model.parameters(), lr=hyperparam.lr, momentum=hyperparam.moment)\n",
        "scheduler = StepLR(optimizer, step_size=10, gamma=0.1)\n",
        "criterion = nn.CrossEntropyLoss()\n",
        "if torch.cuda.is_available():\n",
        "    print('Avaialble')\n",
        "    cnn_model = cnn_model.cuda()\n",
        "    criterion = criterion.cuda()"
      ],
      "execution_count": 15,
      "outputs": [
        {
          "output_type": "stream",
          "text": [
            "Avaialble\n"
          ],
          "name": "stdout"
        }
      ]
    },
    {
      "cell_type": "markdown",
      "metadata": {
        "id": "OvJkJ5Z-UJPT"
      },
      "source": [
        "### Training the model and validating side by side to check the results\n",
        "\n",
        "### Printing the accuracy and loss of train and validation set"
      ]
    },
    {
      "cell_type": "code",
      "metadata": {
        "colab": {
          "base_uri": "https://localhost:8080/",
          "height": 1000
        },
        "id": "6Cld6P-_0HIc",
        "outputId": "efc23653-8dfa-4d67-a8b1-b189d8ebcf64"
      },
      "source": [
        "#Train the CNN\n",
        "tr_avgLoss_list = []\n",
        "tr_accuracy_list =[]\n",
        "dev_avgLoss_list = []\n",
        "dev_accuracy_list = []\n",
        "\n",
        "#loop over epochs\n",
        "for epoch in range(hyperparam.num_epochs):\n",
        "    tr_num_correct = 0\n",
        "    tr_num_samples = 0\n",
        "    tr_total_loss = 0.0\n",
        "    dev_num_correct = 0\n",
        "    dev_num_samples = 0\n",
        "    dev_total_loss = 0.0\n",
        "    \n",
        "    #Training\n",
        "    cnn_model.train(True) \n",
        "    scheduler.step()  #to decrease the lr by 10% every 10 epochs because as you move towards the minima the steps size needs to decrease so it doesnt jump over the minima\n",
        "    with torch.set_grad_enabled(True):\n",
        "        for local_batch, local_labels in train_loader:\n",
        "            local_batch=local_batch.unsqueeze(1)\n",
        "            \n",
        "            if torch.cuda.is_available():\n",
        "              local_batch = local_batch.cuda()\n",
        "              local_labels = local_labels.cuda()\n",
        "            \n",
        "            optimizer.zero_grad()\n",
        "            \n",
        "            \n",
        "            local_batch = local_batch.float()\n",
        "            local_labels = local_labels.float()\n",
        "            #local_batch, local_labels = Variable(local_batch), Variable(local_labels)\n",
        "            \n",
        "            #Model computations\n",
        "            out1 = cnn_model(local_batch)\n",
        "            \n",
        "            #Cross Entropy loss calculation\n",
        "            ploss = criterion(out1, local_labels.long())\n",
        "            tr_total_loss += ploss*hyperparam.bs\n",
        "            \n",
        "            #Backpropogation\n",
        "            ploss.backward() #gradient calculation\n",
        "            optimizer.step() #weight update\n",
        "           \n",
        "            \n",
        "            sel_class = torch.argmax(out1, dim=1) #chooses the maximum value of the softmax layer\n",
        "            \n",
        "            tr_num_correct += sel_class.eq(local_labels).sum().item()\n",
        "            tr_num_samples += hyperparam.bs\n",
        "        \n",
        "        tr_avgLoss = tr_total_loss/len(train_loader.dataset)\n",
        "        tr_avgLoss_list.append(tr_avgLoss)\n",
        "        \n",
        "        tr_accuracy = tr_num_correct*100/tr_num_samples \n",
        "        tr_accuracy_list.append(tr_accuracy)\n",
        "\n",
        "    #validation \n",
        "    with torch.set_grad_enabled(False):\n",
        "      cnn_model.eval()\n",
        "\n",
        "      for local_batch,local_labels in dev_loader:\n",
        "        local_batch=local_batch.unsqueeze(1)\n",
        "\n",
        "        local_batch=local_batch.float()\n",
        "        local_labels=local_labels.float()\n",
        "        #local_batch,local_labels=Variable(local_batch),Variable(local_labels)\n",
        "        \n",
        "        if torch.cuda.is_available():\n",
        "            local_batch = local_batch.cuda()\n",
        "            local_labels = local_labels.cuda()\n",
        "        #Model computations2\n",
        "        out1=cnn_model(local_batch)\n",
        "\n",
        "        #CrossEntropy loss calculation\n",
        "        pLoss=criterion(out1,local_labels.long())\n",
        "        dev_total_loss +=ploss*hyperparam.bs\n",
        "        sel_class=torch.argmax(out1,dim=1)\n",
        "\n",
        "        dev_num_correct+=sel_class.eq(local_labels).sum().item()\n",
        "\n",
        "        #print(correction)\n",
        "        dev_num_samples+=hyperparam.bs\n",
        "\n",
        "      dev_avgLoss=dev_total_loss/len(dev_loader.dataset)\n",
        "      dev_avgLoss_list.append(dev_avgLoss)\n",
        "\n",
        "      dev_accuracy=dev_num_correct*100/dev_num_samples\n",
        "      dev_accuracy_list.append(dev_accuracy)\n",
        "    print(\"accuracy\",tr_accuracy,dev_accuracy)\n",
        "\n",
        "plt.plot(np.arange(0,hyperparam.num_epochs,1),tr_accuracy_list)\n",
        "plt.xlabel(\"epochs\")\n",
        "plt.ylabel(\"train_accuracy\")\n",
        "plt.show()\n",
        "\n",
        "plt.plot(np.arange(0,hyperparam.num_epochs,1),dev_accuracy_list)\n",
        "plt.xlabel(\"epochs\")\n",
        "plt.ylabel(\"validation_accuracy\")\n",
        "plt.show()\n",
        "\n",
        "plt.plot(np.arange(0,hyperparam.num_epochs,1),tr_avgLoss_list)\n",
        "plt.xlabel(\"epochs\")\n",
        "plt.ylabel(\"train_errors\")\n",
        "plt.show()\n",
        "\n",
        "plt.plot(np.arange(0,hyperparam.num_epochs,1),dev_avgLoss_list)\n",
        "plt.xlabel(\"epochs\")\n",
        "plt.ylabel(\"validation_errors\")\n",
        "plt.show()"
      ],
      "execution_count": 16,
      "outputs": [
        {
          "output_type": "stream",
          "text": [
            "/usr/local/lib/python3.7/dist-packages/torch/optim/lr_scheduler.py:134: UserWarning: Detected call of `lr_scheduler.step()` before `optimizer.step()`. In PyTorch 1.1.0 and later, you should call them in the opposite order: `optimizer.step()` before `lr_scheduler.step()`.  Failure to do this will result in PyTorch skipping the first value of the learning rate schedule. See more details at https://pytorch.org/docs/stable/optim.html#how-to-adjust-learning-rate\n",
            "  \"https://pytorch.org/docs/stable/optim.html#how-to-adjust-learning-rate\", UserWarning)\n"
          ],
          "name": "stderr"
        },
        {
          "output_type": "stream",
          "text": [
            "accuracy 95.74444444444444 98.7\n",
            "accuracy 98.18333333333334 98.61666666666666\n",
            "accuracy 98.69814814814815 98.96666666666667\n",
            "accuracy 98.96111111111111 98.88333333333334\n",
            "accuracy 99.06296296296296 99.1\n",
            "accuracy 99.20555555555555 99.26666666666667\n",
            "accuracy 99.32592592592593 98.88333333333334\n",
            "accuracy 99.36111111111111 98.9\n",
            "accuracy 99.50740740740741 99.1\n",
            "accuracy 99.76481481481481 99.33333333333333\n",
            "accuracy 99.79444444444445 99.36666666666666\n",
            "accuracy 99.84814814814816 99.38333333333334\n",
            "accuracy 99.87407407407407 99.35\n",
            "accuracy 99.86481481481482 99.38333333333334\n",
            "accuracy 99.86296296296297 99.35\n",
            "accuracy 99.9 99.35\n",
            "accuracy 99.89259259259259 99.36666666666666\n",
            "accuracy 99.91481481481482 99.36666666666666\n",
            "accuracy 99.8962962962963 99.35\n",
            "accuracy 99.90925925925926 99.35\n",
            "accuracy 99.91481481481482 99.35\n",
            "accuracy 99.92037037037036 99.36666666666666\n",
            "accuracy 99.89444444444445 99.4\n",
            "accuracy 99.92962962962963 99.35\n",
            "accuracy 99.93333333333334 99.31666666666666\n",
            "accuracy 99.91851851851852 99.35\n",
            "accuracy 99.9 99.36666666666666\n",
            "accuracy 99.9037037037037 99.36666666666666\n",
            "accuracy 99.91481481481482 99.36666666666666\n",
            "accuracy 99.93703703703704 99.38333333333334\n",
            "accuracy 99.9037037037037 99.35\n",
            "accuracy 99.92962962962963 99.41666666666667\n",
            "accuracy 99.93148148148148 99.36666666666666\n",
            "accuracy 99.93148148148148 99.31666666666666\n",
            "accuracy 99.91666666666667 99.3\n",
            "accuracy 99.92407407407407 99.4\n",
            "accuracy 99.91111111111111 99.33333333333333\n",
            "accuracy 99.92222222222222 99.36666666666666\n",
            "accuracy 99.91666666666667 99.4\n",
            "accuracy 99.91296296296296 99.4\n",
            "accuracy 99.93703703703704 99.35\n",
            "accuracy 99.92407407407407 99.36666666666666\n",
            "accuracy 99.94444444444444 99.36666666666666\n",
            "accuracy 99.93703703703704 99.38333333333334\n",
            "accuracy 99.92592592592592 99.35\n",
            "accuracy 99.92037037037036 99.31666666666666\n",
            "accuracy 99.92592592592592 99.41666666666667\n",
            "accuracy 99.92592592592592 99.36666666666666\n",
            "accuracy 99.92222222222222 99.35\n",
            "accuracy 99.92592592592592 99.38333333333334\n"
          ],
          "name": "stdout"
        },
        {
          "output_type": "display_data",
          "data": {
            "image/png": "[encoded data removed]",
            "text/plain": [
              "<Figure size 432x288 with 1 Axes>"
            ]
          },
          "metadata": {
            "tags": [],
            "needs_background": "light"
          }
        },
        {
          "output_type": "display_data",
          "data": {
            "image/png": "[encoded data removed]",
            "text/plain": [
              "<Figure size 432x288 with 1 Axes>"
            ]
          },
          "metadata": {
            "tags": [],
            "needs_background": "light"
          }
        },
        {
          "output_type": "display_data",
          "data": {
            "image/png": "[encoded data removed]",
            "text/plain": [
              "<Figure size 432x288 with 1 Axes>"
            ]
          },
          "metadata": {
            "tags": [],
            "needs_background": "light"
          }
        },
        {
          "output_type": "display_data",
          "data": {
            "image/png": "[encoded data removed]",
            "text/plain": [
              "<Figure size 432x288 with 1 Axes>"
            ]
          },
          "metadata": {
            "tags": [],
            "needs_background": "light"
          }
        }
      ]
    },
    {
      "cell_type": "markdown",
      "metadata": {
        "id": "Xa-VX4CwcPqf"
      },
      "source": [
        "### From the above diagram we can say that the model reasonably fits the validation data set as the curves of training and validation are similar expect for the variations in the valiation set which is acceptable. "
      ]
    },
    {
      "cell_type": "code",
      "metadata": {
        "id": "zlf7SrHtSjBb"
      },
      "source": [
        "def make_predictions(data_loader):\n",
        "    cnn_model.eval()\n",
        "    test_preds = torch.LongTensor()\n",
        "    \n",
        "    for i, data in enumerate(data_loader):\n",
        "        data = data.unsqueeze(1) #adds a dimension of the length 1\n",
        "        \n",
        "        if torch.cuda.is_available():\n",
        "            data = data.cuda()\n",
        "            \n",
        "        output = cnn_model(data.float()) #convert to float here as well\n",
        "        \n",
        "        preds = output.cpu().data.max(1, keepdim=True)[1]\n",
        "        test_preds = torch.cat((test_preds, preds), dim=0)\n",
        "        \n",
        "    return test_preds"
      ],
      "execution_count": 17,
      "outputs": []
    },
    {
      "cell_type": "code",
      "metadata": {
        "id": "KpJ7T9-GSkE2",
        "colab": {
          "base_uri": "https://localhost:8080/"
        },
        "outputId": "66c8b82f-24e0-4603-c76e-2e3cf281af4d"
      },
      "source": [
        "test_set_preds = make_predictions(test_loader)\n",
        "test_set_preds"
      ],
      "execution_count": 18,
      "outputs": [
        {
          "output_type": "execute_result",
          "data": {
            "text/plain": [
              "tensor([[7],\n",
              "        [2],\n",
              "        [1],\n",
              "        ...,\n",
              "        [4],\n",
              "        [5],\n",
              "        [6]])"
            ]
          },
          "metadata": {
            "tags": []
          },
          "execution_count": 18
        }
      ]
    },
    {
      "cell_type": "code",
      "metadata": {
        "colab": {
          "base_uri": "https://localhost:8080/",
          "height": 204
        },
        "id": "tAlHgp4PS_-J",
        "outputId": "218ebab3-c749-40dc-e2d2-92a0fe215245"
      },
      "source": [
        "submission_df=pd.DataFrame()\n",
        "submission_df[\"label\"]=test_set_preds.numpy().squeeze()\n",
        "submission_df.head()"
      ],
      "execution_count": 19,
      "outputs": [
        {
          "output_type": "execute_result",
          "data": {
            "text/html": [
              "<div>\n",
              "<style scoped>\n",
              "    .dataframe tbody tr th:only-of-type {\n",
              "        vertical-align: middle;\n",
              "    }\n",
              "\n",
              "    .dataframe tbody tr th {\n",
              "        vertical-align: top;\n",
              "    }\n",
              "\n",
              "    .dataframe thead th {\n",
              "        text-align: right;\n",
              "    }\n",
              "</style>\n",
              "<table border=\"1\" class=\"dataframe\">\n",
              "  <thead>\n",
              "    <tr style=\"text-align: right;\">\n",
              "      <th></th>\n",
              "      <th>label</th>\n",
              "    </tr>\n",
              "  </thead>\n",
              "  <tbody>\n",
              "    <tr>\n",
              "      <th>0</th>\n",
              "      <td>7</td>\n",
              "    </tr>\n",
              "    <tr>\n",
              "      <th>1</th>\n",
              "      <td>2</td>\n",
              "    </tr>\n",
              "    <tr>\n",
              "      <th>2</th>\n",
              "      <td>1</td>\n",
              "    </tr>\n",
              "    <tr>\n",
              "      <th>3</th>\n",
              "      <td>0</td>\n",
              "    </tr>\n",
              "    <tr>\n",
              "      <th>4</th>\n",
              "      <td>4</td>\n",
              "    </tr>\n",
              "  </tbody>\n",
              "</table>\n",
              "</div>"
            ],
            "text/plain": [
              "   label\n",
              "0      7\n",
              "1      2\n",
              "2      1\n",
              "3      0\n",
              "4      4"
            ]
          },
          "metadata": {
            "tags": []
          },
          "execution_count": 19
        }
      ]
    },
    {
      "cell_type": "markdown",
      "metadata": {
        "id": "YhEo5wmdTNNQ"
      },
      "source": [
        "### Confusion Matrix of testing set\n",
        "### Accuracy of the testing set"
      ]
    },
    {
      "cell_type": "code",
      "metadata": {
        "colab": {
          "base_uri": "https://localhost:8080/"
        },
        "id": "LYPLJrH5TFmS",
        "outputId": "7a10d1fd-e9e1-4390-f84c-a2f25f4887bb"
      },
      "source": [
        "from sklearn.metrics import confusion_matrix\n",
        "\n",
        "y_true = mnist[\"target\"][60000:].astype(int)\n",
        "y_pred = np.array(submission_df[\"label\"])\n",
        "cf = confusion_matrix(y_true, y_pred)\n",
        "acc = accuracy_score(y_true,y_pred)\n",
        "print(\"Accuracy of the test set is:\",acc*100,\"%\")\n",
        "print(\"Confusion matrix for the test set: \\n\",cf)"
      ],
      "execution_count": 20,
      "outputs": [
        {
          "output_type": "stream",
          "text": [
            "Accuracy of the test set is: 99.44 %\n",
            "Confusion matrix for the test set: \n",
            " [[ 978    1    0    0    0    0    0    1    0    0]\n",
            " [   0 1135    0    0    0    0    0    0    0    0]\n",
            " [   1    0 1027    0    0    0    0    4    0    0]\n",
            " [   0    0    1 1006    0    2    0    0    1    0]\n",
            " [   0    0    0    0  978    0    0    0    0    4]\n",
            " [   0    0    0    7    0  883    1    0    0    1]\n",
            " [   2    1    0    0    3    1  949    0    2    0]\n",
            " [   0    4    3    0    0    0    0 1020    0    1]\n",
            " [   0    0    1    0    0    0    0    0  972    1]\n",
            " [   0    0    1    0    5    1    0    3    3  996]]\n"
          ],
          "name": "stdout"
        }
      ]
    },
    {
      "cell_type": "markdown",
      "metadata": {
        "id": "1rpFda2-gSt9"
      },
      "source": [
        "#### Thus, the accuracy of the baseline system is almost 99 which suggests that the model is performing well. The confusion matrix also gives good results as the count around the diagonal is high which is ideal.\n",
        "\n",
        "#### Using the batchnormalization we are getting very good accuracy for train, test and dev set"
      ]
    }
  ]
}