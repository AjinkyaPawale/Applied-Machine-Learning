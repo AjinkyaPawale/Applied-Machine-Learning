{
 "cells": [
  {
   "cell_type": "markdown",
   "metadata": {
    "id": "zfci83MLGy4d"
   },
   "source": [
    "#### Question - 1\n",
    "\n",
    "Implement a two-layer perceptron with the backpropagation algorithm to solve the parity problem.\n",
    "You must implement the forward and backpropagation paths entirely on your own,\n",
    "including an implementation of a perceptron and the activation function. The desired\n",
    "output for the parity problem is 1 if an input pattern (which contains 4-binary bits) contains an odd\n",
    "number of 1's, and 0 otherwise. Follow the algorithm introduced in class. Use a network where the\n",
    "input has 4 binary elements, 4 hidden units for the first layer, and one output unit for the second layer. The learning procedure is stopped when an absolute error (difference) of 0.05 is reached for\n",
    "every input pattern. Other implementation details are:\n",
    "Initialize all weights and biases to random numbers between -1 and 1.\n",
    "\u000f Use a logistic sigmoid as the activation function for all units.\n",
    "\u000f Randomize the order of samples for each epoch, using stochastic gradient descent to update\n",
    "the weights.\n",
    "After programming is done, do the following:\n",
    "1. Vary the value of n from 0.05 to 0.5 using an increment of 0.05, and report the number of\n",
    "epochs for each choice of n. Also generate learning curve plots for each case. Discuss how the\n",
    "value of n influences convergence.\n",
    "2. Include a momentum term in the weight update with alpha = 0.9 and report its effect on the\n",
    "speed of training for each value of n."
   ]
  },
  {
   "cell_type": "code",
   "execution_count": null,
   "metadata": {
    "id": "HBdd2weCiOnK"
   },
   "outputs": [],
   "source": [
    "import numpy as np\n",
    "from copy import deepcopy\n",
    "import seaborn as sb\n",
    "import matplotlib.pyplot as plt"
   ]
  },
  {
   "cell_type": "markdown",
   "metadata": {
    "id": "gccRkY4_IN4B"
   },
   "source": [
    "Function to get the binary code for each digits i.e 0 to 16"
   ]
  },
  {
   "cell_type": "code",
   "execution_count": 40,
   "metadata": {
    "id": "FRq8jE2gi8o6"
   },
   "outputs": [],
   "source": [
    "def integer_to_binary(num):\n",
    "    return np.unpackbits(np.arange(num, num+1, dtype='>i%d' %(1)).view(np.uint8))[-4:]"
   ]
  },
  {
   "cell_type": "markdown",
   "metadata": {
    "id": "zhvLYireIrXN"
   },
   "source": [
    "Function for train data and actual output data"
   ]
  },
  {
   "cell_type": "code",
   "execution_count": 42,
   "metadata": {
    "id": "pl_pK6OZjATP"
   },
   "outputs": [],
   "source": [
    "def get_train_data():\n",
    "    X = np.array([[1] + list(integer_to_binary(i)) for i in range(0,16)]).T\n",
    "    D = np.array([bin(i).count(\"1\")%2!=0 for i in range(0,16)]).reshape(1,16).astype(int)\n",
    "    return X,D"
   ]
  },
  {
   "cell_type": "code",
   "execution_count": 131,
   "metadata": {
    "id": "q9rSvZL4jCpo"
   },
   "outputs": [],
   "source": [
    "def getweights():\n",
    "    return [np.random.uniform(-1, 1, (5, 4))] + [np.random.uniform(-1, 1, (5, 1))]\n"
   ]
  },
  {
   "cell_type": "markdown",
   "metadata": {
    "id": "KjTvMLMaIkC1"
   },
   "source": [
    "Function for logistic sigmoid\n"
   ]
  },
  {
   "cell_type": "code",
   "execution_count": 130,
   "metadata": {
    "id": "0p_DSSpNjE21"
   },
   "outputs": [],
   "source": [
    "def logistic_sigmoid(z):\n",
    "    return 1/(1 + np.exp(-z))"
   ]
  },
  {
   "cell_type": "markdown",
   "metadata": {
    "id": "Le_Hk4A9JDPW"
   },
   "source": [
    "Forward Propagation Function:\n"
   ]
  },
  {
   "cell_type": "code",
   "execution_count": 132,
   "metadata": {
    "id": "QIYlJb04jHWZ"
   },
   "outputs": [],
   "source": [
    "def forward_prop(x,W_layers):\n",
    "    output = []\n",
    "    output.append(logistic_sigmoid(np.dot(W_layers[0].T,x)))\n",
    "    output.append(logistic_sigmoid(np.dot(W_layers[1].T,np.insert(output[0],0,1,axis=0))))\n",
    "    return np.array(output, dtype='object')"
   ]
  },
  {
   "cell_type": "markdown",
   "metadata": {
    "id": "Ry5oofQaJHqT"
   },
   "source": [
    "##Backward Propagation function:\n",
    "\n",
    "Weights are used to calculate gradient\n",
    "\n",
    "Weight updated via delta rule(gradient descent)\n",
    "\n",
    "Gradient descent is used to compute weight of 2nd hidden layer\n",
    "\n",
    "It then backpropagates to find 1st hidden layer's weight\n",
    "\n",
    "The hidden layers' weights are updated in the end"
   ]
  },
  {
   "cell_type": "code",
   "execution_count": 133,
   "metadata": {
    "id": "JOPlyfNFjJDG"
   },
   "outputs": [],
   "source": [
    "def back_prop(x,Y,d_k,W,eta,delta_w,alpha):\n",
    "    y_k = Y[1]\n",
    "\n",
    "    delta_k = y_k*(1-y_k)*(d_k-y_k)\n",
    "    delta_w[1] = eta*delta_k.T*np.insert(Y[0],0,1,axis=0)+(alpha*delta_w[1])\n",
    "\n",
    "    delta_j = Y[0]*(1-Y[0])*W[1][1:,:]*delta_k\n",
    "    delta_w[0] = eta*delta_j.T*x+(alpha*delta_w[0])\n",
    "\n",
    "    W[0] += delta_w[0]\n",
    "    W[1] += delta_w[1]\n"
   ]
  },
  {
   "cell_type": "code",
   "execution_count": null,
   "metadata": {
    "id": "JU5LVOYzJPu3"
   },
   "outputs": [],
   "source": []
  },
  {
   "cell_type": "markdown",
   "metadata": {
    "id": "sdpEdXaRJOxr"
   },
   "source": [
    "Implementation of network perceptron"
   ]
  },
  {
   "cell_type": "code",
   "execution_count": 135,
   "metadata": {
    "id": "wIUem54-jLAN"
   },
   "outputs": [],
   "source": [
    "def network_perceptron(X,D,W,eta,alpha):\n",
    "    epoch = 0\n",
    "    delta_w = [np.zeros((5, 4))] + [np.zeros((5, 1))]\n",
    "    error = []\n",
    "    \n",
    "    while True:\n",
    "        isError = True\n",
    "        er=0\n",
    "        tot=0\n",
    "        Stoch_x=np.random.permutation(X)\n",
    "        for i in range(0,16):\n",
    "            \n",
    "            x = X[:,i].reshape(5,1)\n",
    "            Y = forward_prop(x,W)\n",
    "            back_prop(x, Y, np.reshape(D[:, i], (1, 1)), W, eta, delta_w, alpha)\n",
    "            er = np.abs(np.squeeze(D[:,i]-Y[1]))\n",
    "            \n",
    "            tot+=er\n",
    "            error.append(tot)\n",
    "            if er <= 0.05:\n",
    "                isError = False\n",
    "        if epoch % 1000 == 0:\n",
    "            print('Epoch: ', epoch,\"Error :\",er)\n",
    "\n",
    "        epoch += 1\n",
    "        if not isError:\n",
    "            break\n",
    "  \n",
    "    plt.plot(error)\n",
    "    plt.ylabel('Loss ')\n",
    "    plt.show()\n",
    "    return epoch"
   ]
  },
  {
   "cell_type": "markdown",
   "metadata": {
    "id": "44cKirVkJcNy"
   },
   "source": [
    "Learning rates from 0.05 to 0.5"
   ]
  },
  {
   "cell_type": "code",
   "execution_count": 136,
   "metadata": {
    "colab": {
     "base_uri": "https://localhost:8080/"
    },
    "id": "UUKEo3mvmqG_",
    "outputId": "b0c58e96-ba1d-48fa-bd30-9b7e7898443b"
   },
   "outputs": [
    {
     "data": {
      "text/plain": [
       "[0.05, 0.1, 0.15, 0.2, 0.25, 0.3, 0.35, 0.4, 0.45, 0.5]"
      ]
     },
     "execution_count": 136,
     "metadata": {
      "tags": []
     },
     "output_type": "execute_result"
    }
   ],
   "source": [
    "def rate():\n",
    "    rates = []\n",
    "    x = 0\n",
    "    while x <= .45:\n",
    "        x += .05\n",
    "        rates.append(round(x,2))\n",
    "    return rates\n",
    "\n",
    "LR = rate()\n",
    "LR"
   ]
  },
  {
   "cell_type": "markdown",
   "metadata": {
    "id": "-SfDYEPqJjNQ"
   },
   "source": [
    "Function for outputs without momentum:\n"
   ]
  },
  {
   "cell_type": "code",
   "execution_count": 137,
   "metadata": {
    "id": "fVYNAdR0mqHE"
   },
   "outputs": [],
   "source": [
    "input,output=get_train_data()\n",
    "weights=getweights()\n",
    "\n",
    "def Output_WITHOUT_momentum():\n",
    "    for i in LR:\n",
    "        print(\"eta : \", i, \", momentum :\", 0, \" epoch : \", network_perceptron(input, output, deepcopy(weights), i, 0))\n",
    "    \n",
    "    "
   ]
  },
  {
   "cell_type": "markdown",
   "metadata": {
    "id": "42jf8qkCJo4Y"
   },
   "source": [
    "Function for output with added momentum"
   ]
  },
  {
   "cell_type": "code",
   "execution_count": 138,
   "metadata": {
    "id": "RHRVi789mqHF"
   },
   "outputs": [],
   "source": [
    "def Output_WITH_momentum():\n",
    "    alpha=0.9;\n",
    "    for i in LR:\n",
    "        print(\"eta : \", i, \", momentum :\", 0.9, \" epoch : \", network_perceptron(input, output, deepcopy(weights), i, alpha))"
   ]
  },
  {
   "cell_type": "code",
   "execution_count": 139,
   "metadata": {
    "colab": {
     "base_uri": "https://localhost:8080/",
     "height": 1000
    },
    "id": "XhvCxQI-5hHg",
    "outputId": "e65b55b3-a5b8-4dcd-95c4-669e94e5237e"
   },
   "outputs": [
    {
     "name": "stdout",
     "output_type": "stream",
     "text": [
      "Epoch:  0 Error : 0.6644988530525484\n",
      "Epoch:  1000 Error : 0.49970308197477653\n",
      "Epoch:  2000 Error : 0.49779637208438104\n",
      "Epoch:  3000 Error : 0.4976839238129332\n",
      "Epoch:  4000 Error : 0.49790733022365596\n",
      "Epoch:  5000 Error : 0.49431470589754894\n",
      "Epoch:  6000 Error : 0.8484127020534763\n"
     ]
    },
    {
     "data": {
      "image/png": "[encoded data removed]",
      "text/plain": [
       "<Figure size 432x288 with 1 Axes>"
      ]
     },
     "metadata": {
      "needs_background": "light",
      "tags": []
     },
     "output_type": "display_data"
    },
    {
     "name": "stdout",
     "output_type": "stream",
     "text": [
      "eta :  0.05 , momentum : 0.9  epoch :  6162\n",
      "Epoch:  0 Error : 0.5958972125631796\n",
      "Epoch:  1000 Error : 0.49895342424672773\n",
      "Epoch:  2000 Error : 0.5000226492160423\n",
      "Epoch:  3000 Error : 0.49983643220435614\n",
      "Epoch:  4000 Error : 0.4975230691388597\n"
     ]
    },
    {
     "data": {
      "image/png": "[encoded data removed]",
      "text/plain": [
       "<Figure size 432x288 with 1 Axes>"
      ]
     },
     "metadata": {
      "needs_background": "light",
      "tags": []
     },
     "output_type": "display_data"
    },
    {
     "name": "stdout",
     "output_type": "stream",
     "text": [
      "eta :  0.1 , momentum : 0.9  epoch :  4826\n",
      "Epoch:  0 Error : 0.5389751396362981\n",
      "Epoch:  1000 Error : 0.50021873860948\n",
      "Epoch:  2000 Error : 0.500935852121587\n",
      "Epoch:  3000 Error : 0.35658157234589893\n"
     ]
    },
    {
     "data": {
      "image/png": "[encoded data removed]",
      "text/plain": [
       "<Figure size 432x288 with 1 Axes>"
      ]
     },
     "metadata": {
      "needs_background": "light",
      "tags": []
     },
     "output_type": "display_data"
    },
    {
     "name": "stdout",
     "output_type": "stream",
     "text": [
      "eta :  0.15 , momentum : 0.9  epoch :  3241\n",
      "Epoch:  0 Error : 0.4953093716458033\n",
      "Epoch:  1000 Error : 0.5007168165432392\n",
      "Epoch:  2000 Error : 0.3589829967586847\n"
     ]
    },
    {
     "data": {
      "image/png": "[encoded data removed]",
      "text/plain": [
       "<Figure size 432x288 with 1 Axes>"
      ]
     },
     "metadata": {
      "needs_background": "light",
      "tags": []
     },
     "output_type": "display_data"
    },
    {
     "name": "stdout",
     "output_type": "stream",
     "text": [
      "eta :  0.2 , momentum : 0.9  epoch :  2049\n",
      "Epoch:  0 Error : 0.4638226221532058\n",
      "Epoch:  1000 Error : 0.501207615550347\n"
     ]
    },
    {
     "data": {
      "image/png": "[encoded data removed]",
      "text/plain": [
       "<Figure size 432x288 with 1 Axes>"
      ]
     },
     "metadata": {
      "needs_background": "light",
      "tags": []
     },
     "output_type": "display_data"
    },
    {
     "name": "stdout",
     "output_type": "stream",
     "text": [
      "eta :  0.25 , momentum : 0.9  epoch :  1494\n",
      "Epoch:  0 Error : 0.44253769031512125\n",
      "Epoch:  1000 Error : 0.3514213998330025\n"
     ]
    },
    {
     "data": {
      "image/png": "[encoded data removed]",
      "text/plain": [
       "<Figure size 432x288 with 1 Axes>"
      ]
     },
     "metadata": {
      "needs_background": "light",
      "tags": []
     },
     "output_type": "display_data"
    },
    {
     "name": "stdout",
     "output_type": "stream",
     "text": [
      "eta :  0.3 , momentum : 0.9  epoch :  1167\n",
      "Epoch:  0 Error : 0.4294817405269954\n"
     ]
    },
    {
     "data": {
      "image/png": "[encoded data removed]",
      "text/plain": [
       "<Figure size 432x288 with 1 Axes>"
      ]
     },
     "metadata": {
      "needs_background": "light",
      "tags": []
     },
     "output_type": "display_data"
    },
    {
     "name": "stdout",
     "output_type": "stream",
     "text": [
      "eta :  0.35 , momentum : 0.9  epoch :  954\n",
      "Epoch:  0 Error : 0.42298402622481757\n"
     ]
    },
    {
     "data": {
      "image/png": "[encoded data removed]",
      "text/plain": [
       "<Figure size 432x288 with 1 Axes>"
      ]
     },
     "metadata": {
      "needs_background": "light",
      "tags": []
     },
     "output_type": "display_data"
    },
    {
     "name": "stdout",
     "output_type": "stream",
     "text": [
      "eta :  0.4 , momentum : 0.9  epoch :  804\n",
      "Epoch:  0 Error : 0.42170489939410455\n"
     ]
    },
    {
     "data": {
      "image/png": "[encoded data removed]",
      "text/plain": [
       "<Figure size 432x288 with 1 Axes>"
      ]
     },
     "metadata": {
      "needs_background": "light",
      "tags": []
     },
     "output_type": "display_data"
    },
    {
     "name": "stdout",
     "output_type": "stream",
     "text": [
      "eta :  0.45 , momentum : 0.9  epoch :  693\n",
      "Epoch:  0 Error : 0.4245801425539682\n"
     ]
    },
    {
     "data": {
      "image/png": "[encoded data removed]",
      "text/plain": [
       "<Figure size 432x288 with 1 Axes>"
      ]
     },
     "metadata": {
      "needs_background": "light",
      "tags": []
     },
     "output_type": "display_data"
    },
    {
     "name": "stdout",
     "output_type": "stream",
     "text": [
      "eta :  0.5 , momentum : 0.9  epoch :  608\n"
     ]
    }
   ],
   "source": [
    "Output_WITH_momentum()"
   ]
  },
  {
   "cell_type": "code",
   "execution_count": 140,
   "metadata": {
    "colab": {
     "base_uri": "https://localhost:8080/",
     "height": 1000
    },
    "id": "ziywvayC5tfD",
    "outputId": "74558cb0-5435-4f84-a5dc-4817ed94c105"
   },
   "outputs": [
    {
     "name": "stdout",
     "output_type": "stream",
     "text": [
      "Epoch:  0 Error : 0.7269019263556481\n",
      "Epoch:  1000 Error : 0.5116044838543474\n",
      "Epoch:  2000 Error : 0.5065890746384453\n",
      "Epoch:  3000 Error : 0.5049485075769441\n",
      "Epoch:  4000 Error : 0.5041821072094498\n",
      "Epoch:  5000 Error : 0.5036847612088579\n",
      "Epoch:  6000 Error : 0.5032854003705757\n",
      "Epoch:  7000 Error : 0.5029244979295846\n",
      "Epoch:  8000 Error : 0.502575292484995\n",
      "Epoch:  9000 Error : 0.502223737381337\n",
      "Epoch:  10000 Error : 0.5018637483142525\n",
      "Epoch:  11000 Error : 0.5014959425193688\n",
      "Epoch:  12000 Error : 0.5011264652784951\n",
      "Epoch:  13000 Error : 0.5007652092053335\n",
      "Epoch:  14000 Error : 0.5004236533700958\n",
      "Epoch:  15000 Error : 0.5001127785398763\n",
      "Epoch:  16000 Error : 0.4998414519398389\n",
      "Epoch:  17000 Error : 0.499615493676886\n",
      "Epoch:  18000 Error : 0.49943743595789125\n",
      "Epoch:  19000 Error : 0.4993068324413862\n",
      "Epoch:  20000 Error : 0.4992209010599548\n",
      "Epoch:  21000 Error : 0.4991752855325675\n",
      "Epoch:  22000 Error : 0.49916477145247756\n",
      "Epoch:  23000 Error : 0.4991838607262337\n",
      "Epoch:  24000 Error : 0.4992271697944113\n",
      "Epoch:  25000 Error : 0.4992896607615401\n",
      "Epoch:  26000 Error : 0.4993667381989006\n",
      "Epoch:  27000 Error : 0.4994542514863175\n",
      "Epoch:  28000 Error : 0.4995484387162711\n",
      "Epoch:  29000 Error : 0.49964583870716206\n",
      "Epoch:  30000 Error : 0.4997431864669945\n",
      "Epoch:  31000 Error : 0.4998372967383034\n",
      "Epoch:  32000 Error : 0.49992493075935335\n",
      "Epoch:  33000 Error : 0.5000026325937087\n",
      "Epoch:  34000 Error : 0.5000665117327364\n",
      "Epoch:  35000 Error : 0.500111935314723\n",
      "Epoch:  36000 Error : 0.5001330712941943\n",
      "Epoch:  37000 Error : 0.5001221841946153\n",
      "Epoch:  38000 Error : 0.5000685099703146\n",
      "Epoch:  39000 Error : 0.49995638931951825\n",
      "Epoch:  40000 Error : 0.4997620408279104\n",
      "Epoch:  41000 Error : 0.49944773707138024\n",
      "Epoch:  42000 Error : 0.4989508790911253\n",
      "Epoch:  43000 Error : 0.4981633163127949\n",
      "Epoch:  44000 Error : 0.4968978801482075\n",
      "Epoch:  45000 Error : 0.4949145511905024\n",
      "Epoch:  46000 Error : 0.4932482706295844\n",
      "Epoch:  47000 Error : 0.5150437549526733\n",
      "Epoch:  48000 Error : 0.6731208509670842\n",
      "Epoch:  49000 Error : 0.7940048545672845\n",
      "Epoch:  50000 Error : 0.8305096586268392\n",
      "Epoch:  51000 Error : 0.8427898082583049\n",
      "Epoch:  52000 Error : 0.8444834897200222\n",
      "Epoch:  53000 Error : 0.8420288052489575\n",
      "Epoch:  54000 Error : 0.838532695140195\n"
     ]
    },
    {
     "data": {
      "image/png": "[encoded data removed]",
      "text/plain": [
       "<Figure size 432x288 with 1 Axes>"
      ]
     },
     "metadata": {
      "needs_background": "light",
      "tags": []
     },
     "output_type": "display_data"
    },
    {
     "name": "stdout",
     "output_type": "stream",
     "text": [
      "eta :  0.05 , momentum : 0  epoch :  54220\n",
      "Epoch:  0 Error : 0.7157754440480374\n",
      "Epoch:  1000 Error : 0.5105166564354213\n",
      "Epoch:  2000 Error : 0.5068915533299854\n",
      "Epoch:  3000 Error : 0.5045749542100888\n",
      "Epoch:  4000 Error : 0.5027707970923252\n",
      "Epoch:  5000 Error : 0.5018442215254182\n",
      "Epoch:  6000 Error : 0.5016355390726683\n",
      "Epoch:  7000 Error : 0.5017733191644657\n",
      "Epoch:  8000 Error : 0.5020209409752528\n",
      "Epoch:  9000 Error : 0.5022767126085116\n",
      "Epoch:  10000 Error : 0.5025052941560961\n",
      "Epoch:  11000 Error : 0.5026969382791788\n",
      "Epoch:  12000 Error : 0.5028506600763917\n",
      "Epoch:  13000 Error : 0.5029680771277281\n",
      "Epoch:  14000 Error : 0.5030511338317082\n",
      "Epoch:  15000 Error : 0.5031011185928923\n",
      "Epoch:  16000 Error : 0.5031180389377492\n",
      "Epoch:  17000 Error : 0.5030999561590073\n",
      "Epoch:  18000 Error : 0.5030419903323528\n",
      "Epoch:  19000 Error : 0.5029345901562962\n",
      "Epoch:  20000 Error : 0.5027602669802161\n",
      "Epoch:  21000 Error : 0.5024869693463117\n",
      "Epoch:  22000 Error : 0.5020534776897378\n",
      "Epoch:  23000 Error : 0.5013335994664809\n",
      "Epoch:  24000 Error : 0.5000349495805616\n",
      "Epoch:  25000 Error : 0.49735155075200693\n",
      "Epoch:  26000 Error : 0.49050127033026214\n",
      "Epoch:  27000 Error : 0.48452255077835515\n",
      "Epoch:  28000 Error : 0.7653839333645497\n",
      "Epoch:  29000 Error : 0.8595398764630845\n"
     ]
    },
    {
     "data": {
      "image/png": "[encoded data removed]",
      "text/plain": [
       "<Figure size 432x288 with 1 Axes>"
      ]
     },
     "metadata": {
      "needs_background": "light",
      "tags": []
     },
     "output_type": "display_data"
    },
    {
     "name": "stdout",
     "output_type": "stream",
     "text": [
      "eta :  0.1 , momentum : 0  epoch :  29853\n",
      "Epoch:  0 Error : 0.705519725943532\n",
      "Epoch:  1000 Error : 0.5104079633830848\n",
      "Epoch:  2000 Error : 0.5044236162049058\n",
      "Epoch:  3000 Error : 0.5034671877764927\n",
      "Epoch:  4000 Error : 0.5039236699921927\n",
      "Epoch:  5000 Error : 0.5043277630958458\n",
      "Epoch:  6000 Error : 0.5045886506924592\n",
      "Epoch:  7000 Error : 0.504754570624514\n",
      "Epoch:  8000 Error : 0.5048587576249314\n",
      "Epoch:  9000 Error : 0.504921457625323\n",
      "Epoch:  10000 Error : 0.5049564963412159\n",
      "Epoch:  11000 Error : 0.5049740044627111\n",
      "Epoch:  12000 Error : 0.5049815183634098\n",
      "Epoch:  13000 Error : 0.5049845816380026\n",
      "Epoch:  14000 Error : 0.5049871853287881\n",
      "Epoch:  15000 Error : 0.5049921237363053\n",
      "Epoch:  16000 Error : 0.5050012800034114\n",
      "Epoch:  17000 Error : 0.5050158476825756\n",
      "Epoch:  18000 Error : 0.5050364962123254\n",
      "Epoch:  19000 Error : 0.5050634888301151\n",
      "Epoch:  20000 Error : 0.5050967596745912\n",
      "Epoch:  21000 Error : 0.5051359531292177\n",
      "Epoch:  22000 Error : 0.5051804228163328\n",
      "Epoch:  23000 Error : 0.5052291788686873\n",
      "Epoch:  24000 Error : 0.5052807569263973\n",
      "Epoch:  25000 Error : 0.505332953249608\n",
      "Epoch:  26000 Error : 0.5053823102196009\n",
      "Epoch:  27000 Error : 0.5054231045325278\n",
      "Epoch:  28000 Error : 0.5054452864201421\n",
      "Epoch:  29000 Error : 0.5054300914401347\n",
      "Epoch:  30000 Error : 0.50534027470096\n",
      "Epoch:  31000 Error : 0.50509762746996\n",
      "Epoch:  32000 Error : 0.5045293680632844\n",
      "Epoch:  33000 Error : 0.5031836665015466\n",
      "Epoch:  34000 Error : 0.49418286080503615\n",
      "Epoch:  35000 Error : 0.3864799454092834\n",
      "Epoch:  36000 Error : 0.40529712238346005\n"
     ]
    },
    {
     "data": {
      "image/png": "[encoded data removed]",
      "text/plain": [
       "<Figure size 432x288 with 1 Axes>"
      ]
     },
     "metadata": {
      "needs_background": "light",
      "tags": []
     },
     "output_type": "display_data"
    },
    {
     "name": "stdout",
     "output_type": "stream",
     "text": [
      "eta :  0.15 , momentum : 0  epoch :  36377\n",
      "Epoch:  0 Error : 0.6962059674154959\n",
      "Epoch:  1000 Error : 0.5077411726003835\n",
      "Epoch:  2000 Error : 0.5052667879574244\n",
      "Epoch:  3000 Error : 0.5059878566547342\n",
      "Epoch:  4000 Error : 0.5063191076574038\n",
      "Epoch:  5000 Error : 0.5064874085650279\n",
      "Epoch:  6000 Error : 0.5065923044947989\n",
      "Epoch:  7000 Error : 0.506673225569183\n",
      "Epoch:  8000 Error : 0.5067522813904076\n",
      "Epoch:  9000 Error : 0.5068436891531932\n",
      "Epoch:  10000 Error : 0.5069577011069469\n",
      "Epoch:  11000 Error : 0.5071032470924258\n",
      "Epoch:  12000 Error : 0.5072873776295057\n",
      "Epoch:  13000 Error : 0.5074988771802614\n",
      "Epoch:  14000 Error : 0.5076296701135238\n",
      "Epoch:  15000 Error : 0.5074470869287075\n",
      "Epoch:  16000 Error : 0.5064049974276973\n",
      "Epoch:  17000 Error : 0.41034456015718535\n",
      "Epoch:  18000 Error : 0.36779247369619417\n",
      "Epoch:  19000 Error : 0.371385833083259\n"
     ]
    },
    {
     "data": {
      "image/png": "[encoded data removed]",
      "text/plain": [
       "<Figure size 432x288 with 1 Axes>"
      ]
     },
     "metadata": {
      "needs_background": "light",
      "tags": []
     },
     "output_type": "display_data"
    },
    {
     "name": "stdout",
     "output_type": "stream",
     "text": [
      "eta :  0.2 , momentum : 0  epoch :  19705\n",
      "Epoch:  0 Error : 0.6878743983096905\n",
      "Epoch:  1000 Error : 0.5067913372923958\n",
      "Epoch:  2000 Error : 0.5075928438775668\n",
      "Epoch:  3000 Error : 0.5080040152199938\n",
      "Epoch:  4000 Error : 0.5081927334087158\n",
      "Epoch:  5000 Error : 0.5083442934539305\n",
      "Epoch:  6000 Error : 0.5085100992433054\n",
      "Epoch:  7000 Error : 0.5087201602208672\n",
      "Epoch:  8000 Error : 0.5089906756647063\n",
      "Epoch:  9000 Error : 0.5092460150110455\n",
      "Epoch:  10000 Error : 0.5091670120075094\n",
      "Epoch:  11000 Error : 0.5019194172166286\n",
      "Epoch:  12000 Error : 0.36917580361230273\n",
      "Epoch:  13000 Error : 0.3724248066396452\n"
     ]
    },
    {
     "data": {
      "image/png": "[encoded data removed]",
      "text/plain": [
       "<Figure size 432x288 with 1 Axes>"
      ]
     },
     "metadata": {
      "needs_background": "light",
      "tags": []
     },
     "output_type": "display_data"
    },
    {
     "name": "stdout",
     "output_type": "stream",
     "text": [
      "eta :  0.25 , momentum : 0  epoch :  13785\n",
      "Epoch:  0 Error : 0.6805375155615769\n",
      "Epoch:  1000 Error : 0.5085195142648066\n",
      "Epoch:  2000 Error : 0.5095413233706788\n",
      "Epoch:  3000 Error : 0.5098256466669119\n",
      "Epoch:  4000 Error : 0.510068350352345\n",
      "Epoch:  5000 Error : 0.5103649545514986\n",
      "Epoch:  6000 Error : 0.5107467273046188\n",
      "Epoch:  7000 Error : 0.5109834789949037\n",
      "Epoch:  8000 Error : 0.5111660827372034\n",
      "Epoch:  9000 Error : 0.37284766426840393\n",
      "Epoch:  10000 Error : 0.3746961756279821\n"
     ]
    },
    {
     "data": {
      "image/png": "[encoded data removed]",
      "text/plain": [
       "<Figure size 432x288 with 1 Axes>"
      ]
     },
     "metadata": {
      "needs_background": "light",
      "tags": []
     },
     "output_type": "display_data"
    },
    {
     "name": "stdout",
     "output_type": "stream",
     "text": [
      "eta :  0.3 , momentum : 0  epoch :  10616\n",
      "Epoch:  0 Error : 0.6741844687734427\n",
      "Epoch:  1000 Error : 0.5106353930391536\n",
      "Epoch:  2000 Error : 0.511344750756885\n",
      "Epoch:  3000 Error : 0.5116912019448686\n",
      "Epoch:  4000 Error : 0.512113568363926\n",
      "Epoch:  5000 Error : 0.5126187503290334\n",
      "Epoch:  6000 Error : 0.5130525113638328\n",
      "Epoch:  7000 Error : 0.4027308471432643\n",
      "Epoch:  8000 Error : 0.376335693925684\n"
     ]
    },
    {
     "data": {
      "image/png": "[encoded data removed]",
      "text/plain": [
       "<Figure size 432x288 with 1 Axes>"
      ]
     },
     "metadata": {
      "needs_background": "light",
      "tags": []
     },
     "output_type": "display_data"
    },
    {
     "name": "stdout",
     "output_type": "stream",
     "text": [
      "eta :  0.35 , momentum : 0  epoch :  8614\n",
      "Epoch:  0 Error : 0.6687858850280126\n",
      "Epoch:  1000 Error : 0.5125744991143327\n",
      "Epoch:  2000 Error : 0.5131572072574436\n",
      "Epoch:  3000 Error : 0.5136733327827688\n",
      "Epoch:  4000 Error : 0.5143158214692412\n",
      "Epoch:  5000 Error : 0.5152968611686288\n",
      "Epoch:  6000 Error : 0.3744836334398012\n",
      "Epoch:  7000 Error : 0.3801536948600616\n"
     ]
    },
    {
     "data": {
      "image/png": "[encoded data removed]",
      "text/plain": [
       "<Figure size 432x288 with 1 Axes>"
      ]
     },
     "metadata": {
      "needs_background": "light",
      "tags": []
     },
     "output_type": "display_data"
    },
    {
     "name": "stdout",
     "output_type": "stream",
     "text": [
      "eta :  0.4 , momentum : 0  epoch :  7231\n",
      "Epoch:  0 Error : 0.6642985864444482\n",
      "Epoch:  1000 Error : 0.5143920182528422\n",
      "Epoch:  2000 Error : 0.5150280727644908\n",
      "Epoch:  3000 Error : 0.515779800963367\n",
      "Epoch:  4000 Error : 0.5164744129017537\n",
      "Epoch:  5000 Error : 0.3822883499022848\n",
      "Epoch:  6000 Error : 0.38195134059671454\n"
     ]
    },
    {
     "data": {
      "image/png": "[encoded data removed]",
      "text/plain": [
       "<Figure size 432x288 with 1 Axes>"
      ]
     },
     "metadata": {
      "needs_background": "light",
      "tags": []
     },
     "output_type": "display_data"
    },
    {
     "name": "stdout",
     "output_type": "stream",
     "text": [
      "eta :  0.45 , momentum : 0  epoch :  6218\n",
      "Epoch:  0 Error : 0.660669845491894\n",
      "Epoch:  1000 Error : 0.5161735311039662\n",
      "Epoch:  2000 Error : 0.516970640273792\n",
      "Epoch:  3000 Error : 0.5178990055816071\n",
      "Epoch:  4000 Error : 0.4979474364553099\n",
      "Epoch:  5000 Error : 0.3824774143997887\n"
     ]
    },
    {
     "data": {
      "image/png": "[encoded data removed]",
      "text/plain": [
       "<Figure size 432x288 with 1 Axes>"
      ]
     },
     "metadata": {
      "needs_background": "light",
      "tags": []
     },
     "output_type": "display_data"
    },
    {
     "name": "stdout",
     "output_type": "stream",
     "text": [
      "eta :  0.5 , momentum : 0  epoch :  5430\n"
     ]
    }
   ],
   "source": [
    "Output_WITHOUT_momentum()"
   ]
  },
  {
   "cell_type": "code",
   "execution_count": 36,
   "metadata": {
    "id": "9POF3uRlMYAR",
    "scrolled": true
   },
   "outputs": [],
   "source": []
  },
  {
   "cell_type": "code",
   "execution_count": 36,
   "metadata": {
    "id": "jLZkZkmgGy4q"
   },
   "outputs": [],
   "source": []
  },
  {
   "cell_type": "markdown",
   "metadata": {
    "id": "mKS8rQNwKICM"
   },
   "source": [
    "Observation 1 :\n",
    "\n",
    "From the output  The time taken is quite high which indicates slower training speed. This means that the model is taking a long time to converge.\n",
    "The initial observation that can be made is value of 'eta' increases, the number of epochs decreases. "
   ]
  },
  {
   "cell_type": "markdown",
   "metadata": {
    "id": "7RFbWrawKR5D"
   },
   "source": [
    "Observation 2:\n",
    "\n",
    " the alpha value when set to 0.9 with eta in same range 0.05 - 0.5, the number of epochs decreases substantially. from the output \n",
    " \n",
    "This shows substantial increase in the training speed for momentum : 0.9. Thus, the neural network converges much faster"
   ]
  },
  {
   "cell_type": "markdown",
   "metadata": {
    "id": "ayo_dQnBGy4q"
   },
   "source": [
    "Observation 3:\n",
    "    If the learning rates are varied sometimes the error rate may not reach the expected value and jump over it causing repeated osculations which can reduced by implementing the gradient descent which help to attain a minimum."
   ]
  },
  {
   "cell_type": "code",
   "execution_count": 36,
   "metadata": {
    "id": "LITIy8SSGy4r"
   },
   "outputs": [],
   "source": []
  },
  {
   "cell_type": "code",
   "execution_count": 36,
   "metadata": {
    "id": "LG-7M1AzGy4r"
   },
   "outputs": [],
   "source": []
  },
  {
   "cell_type": "code",
   "execution_count": 36,
   "metadata": {
    "id": "rZdSoQg-Gy4s"
   },
   "outputs": [],
   "source": []
  },
  {
   "cell_type": "code",
   "execution_count": 36,
   "metadata": {
    "id": "l3ErxhBvGy4s"
   },
   "outputs": [],
   "source": []
  },
  {
   "cell_type": "code",
   "execution_count": 36,
   "metadata": {
    "id": "txnYYQj1Gy4t"
   },
   "outputs": [],
   "source": []
  },
  {
   "cell_type": "code",
   "execution_count": 36,
   "metadata": {
    "id": "R0FuX-lpmqHF"
   },
   "outputs": [],
   "source": []
  }
 ],
 "metadata": {
  "accelerator": "GPU",
  "colab": {
   "collapsed_sections": [],
   "name": "hw3 _original.ipynb",
   "provenance": []
  },
  "kernelspec": {
   "display_name": "Python 3",
   "language": "python",
   "name": "python3"
  },
  "language_info": {
   "codemirror_mode": {
    "name": "ipython",
    "version": 3
   },
   "file_extension": ".py",
   "mimetype": "text/x-python",
   "name": "python",
   "nbconvert_exporter": "python",
   "pygments_lexer": "ipython3",
   "version": "3.8.5"
  }
 },
 "nbformat": 4,
 "nbformat_minor": 1
}
