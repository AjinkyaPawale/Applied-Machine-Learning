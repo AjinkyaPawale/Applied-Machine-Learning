{
  "nbformat": 4,
  "nbformat_minor": 0,
  "metadata": {
    "kernelspec": {
      "display_name": "Python 3",
      "language": "python",
      "name": "python3"
    },
    "language_info": {
      "codemirror_mode": {
        "name": "ipython",
        "version": 3
      },
      "file_extension": ".py",
      "mimetype": "text/x-python",
      "name": "python",
      "nbconvert_exporter": "python",
      "pygments_lexer": "ipython3",
      "version": "3.8.5"
    },
    "colab": {
      "name": "HW4_Part2.ipynb",
      "provenance": []
    },
    "accelerator": "GPU"
  },
  "cells": [
    {
      "cell_type": "code",
      "metadata": {
        "id": "FOoeRV4_2Pq0"
      },
      "source": [
        "from sklearn.datasets import fetch_openml\n",
        "import numpy as np\n",
        "import pandas as pd\n",
        "import matplotlib as mpl\n",
        "import matplotlib.pyplot as plt\n",
        "from sklearn.model_selection import StratifiedShuffleSplit\n",
        "from sklearn.model_selection import train_test_split\n",
        "import collections\n",
        "import random\n",
        "from scipy.io import savemat\n",
        "import os \n",
        "from os import path\n",
        "from sklearn.preprocessing import normalize\n",
        "from sklearn.metrics import confusion_matrix\n",
        "import time, datetime"
      ],
      "execution_count": 1,
      "outputs": []
    },
    {
      "cell_type": "code",
      "metadata": {
        "colab": {
          "base_uri": "https://localhost:8080/"
        },
        "id": "_z9u2JiQ2Pq2",
        "outputId": "198807bd-9650-42bc-e2d7-975c85f8cc36"
      },
      "source": [
        "mnist = fetch_openml('mnist_784',version=1)\n",
        "mnist.keys()"
      ],
      "execution_count": 2,
      "outputs": [
        {
          "output_type": "execute_result",
          "data": {
            "text/plain": [
              "dict_keys(['data', 'target', 'frame', 'feature_names', 'target_names', 'DESCR', 'details', 'categories', 'url'])"
            ]
          },
          "metadata": {
            "tags": []
          },
          "execution_count": 2
        }
      ]
    },
    {
      "cell_type": "code",
      "metadata": {
        "colab": {
          "base_uri": "https://localhost:8080/"
        },
        "id": "yU28P2Aj2Pq3",
        "outputId": "01be0217-aa9a-429b-fb6f-f51712a1bb55"
      },
      "source": [
        "mnist"
      ],
      "execution_count": 3,
      "outputs": [
        {
          "output_type": "execute_result",
          "data": {
            "text/plain": [
              "{'DESCR': \"The MNIST database of handwritten digits with 784 features. It can be split in a training set of the first 60,000 examples, and a test set of 10,000 examples  \\n\\nIt is a subset of a larger set available from NIST. The digits have been size-normalized and centered in a fixed-size image. It is a good database for people who want to try learning techniques and pattern recognition methods on real-world data while spending minimal efforts on preprocessing and formatting. The original black and white (bilevel) images from NIST were size normalized to fit in a 20x20 pixel box while preserving their aspect ratio. The resulting images contain grey levels as a result of the anti-aliasing technique used by the normalization algorithm. the images were centered in a 28x28 image by computing the center of mass of the pixels, and translating the image so as to position this point at the center of the 28x28 field.  \\n\\nWith some classification methods (particularly template-based methods, such as SVM and K-nearest neighbors), the error rate improves when the digits are centered by bounding box rather than center of mass. If you do this kind of pre-processing, you should report it in your publications. The MNIST database was constructed from NIST's NIST originally designated SD-3 as their training set and SD-1 as their test set. However, SD-3 is much cleaner and easier to recognize than SD-1. The reason for this can be found on the fact that SD-3 was collected among Census Bureau employees, while SD-1 was collected among high-school students. Drawing sensible conclusions from learning experiments requires that the result be independent of the choice of training set and test among the complete set of samples. Therefore it was necessary to build a new database by mixing NIST's datasets.  \\n\\nThe MNIST training set is composed of 30,000 patterns from SD-3 and 30,000 patterns from SD-1. Our test set was composed of 5,000 patterns from SD-3 and 5,000 patterns from SD-1. The 60,000 pattern training set contained examples from approximately 250 writers. We made sure that the sets of writers of the training set and test set were disjoint. SD-1 contains 58,527 digit images written by 500 different writers. In contrast to SD-3, where blocks of data from each writer appeared in sequence, the data in SD-1 is scrambled. Writer identities for SD-1 is available and we used this information to unscramble the writers. We then split SD-1 in two: characters written by the first 250 writers went into our new training set. The remaining 250 writers were placed in our test set. Thus we had two sets with nearly 30,000 examples each. The new training set was completed with enough examples from SD-3, starting at pattern # 0, to make a full set of 60,000 training patterns. Similarly, the new test set was completed with SD-3 examples starting at pattern # 35,000 to make a full set with 60,000 test patterns. Only a subset of 10,000 test images (5,000 from SD-1 and 5,000 from SD-3) is available on this site. The full 60,000 sample training set is available.\\n\\nDownloaded from openml.org.\",\n",
              " 'categories': {},\n",
              " 'data': array([[0., 0., 0., ..., 0., 0., 0.],\n",
              "        [0., 0., 0., ..., 0., 0., 0.],\n",
              "        [0., 0., 0., ..., 0., 0., 0.],\n",
              "        ...,\n",
              "        [0., 0., 0., ..., 0., 0., 0.],\n",
              "        [0., 0., 0., ..., 0., 0., 0.],\n",
              "        [0., 0., 0., ..., 0., 0., 0.]]),\n",
              " 'details': {'creator': ['Yann LeCun',\n",
              "   'Corinna Cortes',\n",
              "   'Christopher J.C. Burges'],\n",
              "  'default_target_attribute': 'class',\n",
              "  'file_id': '52667',\n",
              "  'format': 'ARFF',\n",
              "  'id': '554',\n",
              "  'language': 'English',\n",
              "  'licence': 'Public',\n",
              "  'md5_checksum': '0298d579eb1b86163de7723944c7e495',\n",
              "  'name': 'mnist_784',\n",
              "  'processing_date': '2020-11-20 20:12:09',\n",
              "  'status': 'active',\n",
              "  'tag': ['AzurePilot',\n",
              "   'OpenML-CC18',\n",
              "   'OpenML100',\n",
              "   'study_1',\n",
              "   'study_123',\n",
              "   'study_41',\n",
              "   'study_99',\n",
              "   'vision'],\n",
              "  'upload_date': '2014-09-29T03:28:38',\n",
              "  'url': 'https://www.openml.org/data/v1/download/52667/mnist_784.arff',\n",
              "  'version': '1',\n",
              "  'visibility': 'public'},\n",
              " 'feature_names': ['pixel1',\n",
              "  'pixel2',\n",
              "  'pixel3',\n",
              "  'pixel4',\n",
              "  'pixel5',\n",
              "  'pixel6',\n",
              "  'pixel7',\n",
              "  'pixel8',\n",
              "  'pixel9',\n",
              "  'pixel10',\n",
              "  'pixel11',\n",
              "  'pixel12',\n",
              "  'pixel13',\n",
              "  'pixel14',\n",
              "  'pixel15',\n",
              "  'pixel16',\n",
              "  'pixel17',\n",
              "  'pixel18',\n",
              "  'pixel19',\n",
              "  'pixel20',\n",
              "  'pixel21',\n",
              "  'pixel22',\n",
              "  'pixel23',\n",
              "  'pixel24',\n",
              "  'pixel25',\n",
              "  'pixel26',\n",
              "  'pixel27',\n",
              "  'pixel28',\n",
              "  'pixel29',\n",
              "  'pixel30',\n",
              "  'pixel31',\n",
              "  'pixel32',\n",
              "  'pixel33',\n",
              "  'pixel34',\n",
              "  'pixel35',\n",
              "  'pixel36',\n",
              "  'pixel37',\n",
              "  'pixel38',\n",
              "  'pixel39',\n",
              "  'pixel40',\n",
              "  'pixel41',\n",
              "  'pixel42',\n",
              "  'pixel43',\n",
              "  'pixel44',\n",
              "  'pixel45',\n",
              "  'pixel46',\n",
              "  'pixel47',\n",
              "  'pixel48',\n",
              "  'pixel49',\n",
              "  'pixel50',\n",
              "  'pixel51',\n",
              "  'pixel52',\n",
              "  'pixel53',\n",
              "  'pixel54',\n",
              "  'pixel55',\n",
              "  'pixel56',\n",
              "  'pixel57',\n",
              "  'pixel58',\n",
              "  'pixel59',\n",
              "  'pixel60',\n",
              "  'pixel61',\n",
              "  'pixel62',\n",
              "  'pixel63',\n",
              "  'pixel64',\n",
              "  'pixel65',\n",
              "  'pixel66',\n",
              "  'pixel67',\n",
              "  'pixel68',\n",
              "  'pixel69',\n",
              "  'pixel70',\n",
              "  'pixel71',\n",
              "  'pixel72',\n",
              "  'pixel73',\n",
              "  'pixel74',\n",
              "  'pixel75',\n",
              "  'pixel76',\n",
              "  'pixel77',\n",
              "  'pixel78',\n",
              "  'pixel79',\n",
              "  'pixel80',\n",
              "  'pixel81',\n",
              "  'pixel82',\n",
              "  'pixel83',\n",
              "  'pixel84',\n",
              "  'pixel85',\n",
              "  'pixel86',\n",
              "  'pixel87',\n",
              "  'pixel88',\n",
              "  'pixel89',\n",
              "  'pixel90',\n",
              "  'pixel91',\n",
              "  'pixel92',\n",
              "  'pixel93',\n",
              "  'pixel94',\n",
              "  'pixel95',\n",
              "  'pixel96',\n",
              "  'pixel97',\n",
              "  'pixel98',\n",
              "  'pixel99',\n",
              "  'pixel100',\n",
              "  'pixel101',\n",
              "  'pixel102',\n",
              "  'pixel103',\n",
              "  'pixel104',\n",
              "  'pixel105',\n",
              "  'pixel106',\n",
              "  'pixel107',\n",
              "  'pixel108',\n",
              "  'pixel109',\n",
              "  'pixel110',\n",
              "  'pixel111',\n",
              "  'pixel112',\n",
              "  'pixel113',\n",
              "  'pixel114',\n",
              "  'pixel115',\n",
              "  'pixel116',\n",
              "  'pixel117',\n",
              "  'pixel118',\n",
              "  'pixel119',\n",
              "  'pixel120',\n",
              "  'pixel121',\n",
              "  'pixel122',\n",
              "  'pixel123',\n",
              "  'pixel124',\n",
              "  'pixel125',\n",
              "  'pixel126',\n",
              "  'pixel127',\n",
              "  'pixel128',\n",
              "  'pixel129',\n",
              "  'pixel130',\n",
              "  'pixel131',\n",
              "  'pixel132',\n",
              "  'pixel133',\n",
              "  'pixel134',\n",
              "  'pixel135',\n",
              "  'pixel136',\n",
              "  'pixel137',\n",
              "  'pixel138',\n",
              "  'pixel139',\n",
              "  'pixel140',\n",
              "  'pixel141',\n",
              "  'pixel142',\n",
              "  'pixel143',\n",
              "  'pixel144',\n",
              "  'pixel145',\n",
              "  'pixel146',\n",
              "  'pixel147',\n",
              "  'pixel148',\n",
              "  'pixel149',\n",
              "  'pixel150',\n",
              "  'pixel151',\n",
              "  'pixel152',\n",
              "  'pixel153',\n",
              "  'pixel154',\n",
              "  'pixel155',\n",
              "  'pixel156',\n",
              "  'pixel157',\n",
              "  'pixel158',\n",
              "  'pixel159',\n",
              "  'pixel160',\n",
              "  'pixel161',\n",
              "  'pixel162',\n",
              "  'pixel163',\n",
              "  'pixel164',\n",
              "  'pixel165',\n",
              "  'pixel166',\n",
              "  'pixel167',\n",
              "  'pixel168',\n",
              "  'pixel169',\n",
              "  'pixel170',\n",
              "  'pixel171',\n",
              "  'pixel172',\n",
              "  'pixel173',\n",
              "  'pixel174',\n",
              "  'pixel175',\n",
              "  'pixel176',\n",
              "  'pixel177',\n",
              "  'pixel178',\n",
              "  'pixel179',\n",
              "  'pixel180',\n",
              "  'pixel181',\n",
              "  'pixel182',\n",
              "  'pixel183',\n",
              "  'pixel184',\n",
              "  'pixel185',\n",
              "  'pixel186',\n",
              "  'pixel187',\n",
              "  'pixel188',\n",
              "  'pixel189',\n",
              "  'pixel190',\n",
              "  'pixel191',\n",
              "  'pixel192',\n",
              "  'pixel193',\n",
              "  'pixel194',\n",
              "  'pixel195',\n",
              "  'pixel196',\n",
              "  'pixel197',\n",
              "  'pixel198',\n",
              "  'pixel199',\n",
              "  'pixel200',\n",
              "  'pixel201',\n",
              "  'pixel202',\n",
              "  'pixel203',\n",
              "  'pixel204',\n",
              "  'pixel205',\n",
              "  'pixel206',\n",
              "  'pixel207',\n",
              "  'pixel208',\n",
              "  'pixel209',\n",
              "  'pixel210',\n",
              "  'pixel211',\n",
              "  'pixel212',\n",
              "  'pixel213',\n",
              "  'pixel214',\n",
              "  'pixel215',\n",
              "  'pixel216',\n",
              "  'pixel217',\n",
              "  'pixel218',\n",
              "  'pixel219',\n",
              "  'pixel220',\n",
              "  'pixel221',\n",
              "  'pixel222',\n",
              "  'pixel223',\n",
              "  'pixel224',\n",
              "  'pixel225',\n",
              "  'pixel226',\n",
              "  'pixel227',\n",
              "  'pixel228',\n",
              "  'pixel229',\n",
              "  'pixel230',\n",
              "  'pixel231',\n",
              "  'pixel232',\n",
              "  'pixel233',\n",
              "  'pixel234',\n",
              "  'pixel235',\n",
              "  'pixel236',\n",
              "  'pixel237',\n",
              "  'pixel238',\n",
              "  'pixel239',\n",
              "  'pixel240',\n",
              "  'pixel241',\n",
              "  'pixel242',\n",
              "  'pixel243',\n",
              "  'pixel244',\n",
              "  'pixel245',\n",
              "  'pixel246',\n",
              "  'pixel247',\n",
              "  'pixel248',\n",
              "  'pixel249',\n",
              "  'pixel250',\n",
              "  'pixel251',\n",
              "  'pixel252',\n",
              "  'pixel253',\n",
              "  'pixel254',\n",
              "  'pixel255',\n",
              "  'pixel256',\n",
              "  'pixel257',\n",
              "  'pixel258',\n",
              "  'pixel259',\n",
              "  'pixel260',\n",
              "  'pixel261',\n",
              "  'pixel262',\n",
              "  'pixel263',\n",
              "  'pixel264',\n",
              "  'pixel265',\n",
              "  'pixel266',\n",
              "  'pixel267',\n",
              "  'pixel268',\n",
              "  'pixel269',\n",
              "  'pixel270',\n",
              "  'pixel271',\n",
              "  'pixel272',\n",
              "  'pixel273',\n",
              "  'pixel274',\n",
              "  'pixel275',\n",
              "  'pixel276',\n",
              "  'pixel277',\n",
              "  'pixel278',\n",
              "  'pixel279',\n",
              "  'pixel280',\n",
              "  'pixel281',\n",
              "  'pixel282',\n",
              "  'pixel283',\n",
              "  'pixel284',\n",
              "  'pixel285',\n",
              "  'pixel286',\n",
              "  'pixel287',\n",
              "  'pixel288',\n",
              "  'pixel289',\n",
              "  'pixel290',\n",
              "  'pixel291',\n",
              "  'pixel292',\n",
              "  'pixel293',\n",
              "  'pixel294',\n",
              "  'pixel295',\n",
              "  'pixel296',\n",
              "  'pixel297',\n",
              "  'pixel298',\n",
              "  'pixel299',\n",
              "  'pixel300',\n",
              "  'pixel301',\n",
              "  'pixel302',\n",
              "  'pixel303',\n",
              "  'pixel304',\n",
              "  'pixel305',\n",
              "  'pixel306',\n",
              "  'pixel307',\n",
              "  'pixel308',\n",
              "  'pixel309',\n",
              "  'pixel310',\n",
              "  'pixel311',\n",
              "  'pixel312',\n",
              "  'pixel313',\n",
              "  'pixel314',\n",
              "  'pixel315',\n",
              "  'pixel316',\n",
              "  'pixel317',\n",
              "  'pixel318',\n",
              "  'pixel319',\n",
              "  'pixel320',\n",
              "  'pixel321',\n",
              "  'pixel322',\n",
              "  'pixel323',\n",
              "  'pixel324',\n",
              "  'pixel325',\n",
              "  'pixel326',\n",
              "  'pixel327',\n",
              "  'pixel328',\n",
              "  'pixel329',\n",
              "  'pixel330',\n",
              "  'pixel331',\n",
              "  'pixel332',\n",
              "  'pixel333',\n",
              "  'pixel334',\n",
              "  'pixel335',\n",
              "  'pixel336',\n",
              "  'pixel337',\n",
              "  'pixel338',\n",
              "  'pixel339',\n",
              "  'pixel340',\n",
              "  'pixel341',\n",
              "  'pixel342',\n",
              "  'pixel343',\n",
              "  'pixel344',\n",
              "  'pixel345',\n",
              "  'pixel346',\n",
              "  'pixel347',\n",
              "  'pixel348',\n",
              "  'pixel349',\n",
              "  'pixel350',\n",
              "  'pixel351',\n",
              "  'pixel352',\n",
              "  'pixel353',\n",
              "  'pixel354',\n",
              "  'pixel355',\n",
              "  'pixel356',\n",
              "  'pixel357',\n",
              "  'pixel358',\n",
              "  'pixel359',\n",
              "  'pixel360',\n",
              "  'pixel361',\n",
              "  'pixel362',\n",
              "  'pixel363',\n",
              "  'pixel364',\n",
              "  'pixel365',\n",
              "  'pixel366',\n",
              "  'pixel367',\n",
              "  'pixel368',\n",
              "  'pixel369',\n",
              "  'pixel370',\n",
              "  'pixel371',\n",
              "  'pixel372',\n",
              "  'pixel373',\n",
              "  'pixel374',\n",
              "  'pixel375',\n",
              "  'pixel376',\n",
              "  'pixel377',\n",
              "  'pixel378',\n",
              "  'pixel379',\n",
              "  'pixel380',\n",
              "  'pixel381',\n",
              "  'pixel382',\n",
              "  'pixel383',\n",
              "  'pixel384',\n",
              "  'pixel385',\n",
              "  'pixel386',\n",
              "  'pixel387',\n",
              "  'pixel388',\n",
              "  'pixel389',\n",
              "  'pixel390',\n",
              "  'pixel391',\n",
              "  'pixel392',\n",
              "  'pixel393',\n",
              "  'pixel394',\n",
              "  'pixel395',\n",
              "  'pixel396',\n",
              "  'pixel397',\n",
              "  'pixel398',\n",
              "  'pixel399',\n",
              "  'pixel400',\n",
              "  'pixel401',\n",
              "  'pixel402',\n",
              "  'pixel403',\n",
              "  'pixel404',\n",
              "  'pixel405',\n",
              "  'pixel406',\n",
              "  'pixel407',\n",
              "  'pixel408',\n",
              "  'pixel409',\n",
              "  'pixel410',\n",
              "  'pixel411',\n",
              "  'pixel412',\n",
              "  'pixel413',\n",
              "  'pixel414',\n",
              "  'pixel415',\n",
              "  'pixel416',\n",
              "  'pixel417',\n",
              "  'pixel418',\n",
              "  'pixel419',\n",
              "  'pixel420',\n",
              "  'pixel421',\n",
              "  'pixel422',\n",
              "  'pixel423',\n",
              "  'pixel424',\n",
              "  'pixel425',\n",
              "  'pixel426',\n",
              "  'pixel427',\n",
              "  'pixel428',\n",
              "  'pixel429',\n",
              "  'pixel430',\n",
              "  'pixel431',\n",
              "  'pixel432',\n",
              "  'pixel433',\n",
              "  'pixel434',\n",
              "  'pixel435',\n",
              "  'pixel436',\n",
              "  'pixel437',\n",
              "  'pixel438',\n",
              "  'pixel439',\n",
              "  'pixel440',\n",
              "  'pixel441',\n",
              "  'pixel442',\n",
              "  'pixel443',\n",
              "  'pixel444',\n",
              "  'pixel445',\n",
              "  'pixel446',\n",
              "  'pixel447',\n",
              "  'pixel448',\n",
              "  'pixel449',\n",
              "  'pixel450',\n",
              "  'pixel451',\n",
              "  'pixel452',\n",
              "  'pixel453',\n",
              "  'pixel454',\n",
              "  'pixel455',\n",
              "  'pixel456',\n",
              "  'pixel457',\n",
              "  'pixel458',\n",
              "  'pixel459',\n",
              "  'pixel460',\n",
              "  'pixel461',\n",
              "  'pixel462',\n",
              "  'pixel463',\n",
              "  'pixel464',\n",
              "  'pixel465',\n",
              "  'pixel466',\n",
              "  'pixel467',\n",
              "  'pixel468',\n",
              "  'pixel469',\n",
              "  'pixel470',\n",
              "  'pixel471',\n",
              "  'pixel472',\n",
              "  'pixel473',\n",
              "  'pixel474',\n",
              "  'pixel475',\n",
              "  'pixel476',\n",
              "  'pixel477',\n",
              "  'pixel478',\n",
              "  'pixel479',\n",
              "  'pixel480',\n",
              "  'pixel481',\n",
              "  'pixel482',\n",
              "  'pixel483',\n",
              "  'pixel484',\n",
              "  'pixel485',\n",
              "  'pixel486',\n",
              "  'pixel487',\n",
              "  'pixel488',\n",
              "  'pixel489',\n",
              "  'pixel490',\n",
              "  'pixel491',\n",
              "  'pixel492',\n",
              "  'pixel493',\n",
              "  'pixel494',\n",
              "  'pixel495',\n",
              "  'pixel496',\n",
              "  'pixel497',\n",
              "  'pixel498',\n",
              "  'pixel499',\n",
              "  'pixel500',\n",
              "  'pixel501',\n",
              "  'pixel502',\n",
              "  'pixel503',\n",
              "  'pixel504',\n",
              "  'pixel505',\n",
              "  'pixel506',\n",
              "  'pixel507',\n",
              "  'pixel508',\n",
              "  'pixel509',\n",
              "  'pixel510',\n",
              "  'pixel511',\n",
              "  'pixel512',\n",
              "  'pixel513',\n",
              "  'pixel514',\n",
              "  'pixel515',\n",
              "  'pixel516',\n",
              "  'pixel517',\n",
              "  'pixel518',\n",
              "  'pixel519',\n",
              "  'pixel520',\n",
              "  'pixel521',\n",
              "  'pixel522',\n",
              "  'pixel523',\n",
              "  'pixel524',\n",
              "  'pixel525',\n",
              "  'pixel526',\n",
              "  'pixel527',\n",
              "  'pixel528',\n",
              "  'pixel529',\n",
              "  'pixel530',\n",
              "  'pixel531',\n",
              "  'pixel532',\n",
              "  'pixel533',\n",
              "  'pixel534',\n",
              "  'pixel535',\n",
              "  'pixel536',\n",
              "  'pixel537',\n",
              "  'pixel538',\n",
              "  'pixel539',\n",
              "  'pixel540',\n",
              "  'pixel541',\n",
              "  'pixel542',\n",
              "  'pixel543',\n",
              "  'pixel544',\n",
              "  'pixel545',\n",
              "  'pixel546',\n",
              "  'pixel547',\n",
              "  'pixel548',\n",
              "  'pixel549',\n",
              "  'pixel550',\n",
              "  'pixel551',\n",
              "  'pixel552',\n",
              "  'pixel553',\n",
              "  'pixel554',\n",
              "  'pixel555',\n",
              "  'pixel556',\n",
              "  'pixel557',\n",
              "  'pixel558',\n",
              "  'pixel559',\n",
              "  'pixel560',\n",
              "  'pixel561',\n",
              "  'pixel562',\n",
              "  'pixel563',\n",
              "  'pixel564',\n",
              "  'pixel565',\n",
              "  'pixel566',\n",
              "  'pixel567',\n",
              "  'pixel568',\n",
              "  'pixel569',\n",
              "  'pixel570',\n",
              "  'pixel571',\n",
              "  'pixel572',\n",
              "  'pixel573',\n",
              "  'pixel574',\n",
              "  'pixel575',\n",
              "  'pixel576',\n",
              "  'pixel577',\n",
              "  'pixel578',\n",
              "  'pixel579',\n",
              "  'pixel580',\n",
              "  'pixel581',\n",
              "  'pixel582',\n",
              "  'pixel583',\n",
              "  'pixel584',\n",
              "  'pixel585',\n",
              "  'pixel586',\n",
              "  'pixel587',\n",
              "  'pixel588',\n",
              "  'pixel589',\n",
              "  'pixel590',\n",
              "  'pixel591',\n",
              "  'pixel592',\n",
              "  'pixel593',\n",
              "  'pixel594',\n",
              "  'pixel595',\n",
              "  'pixel596',\n",
              "  'pixel597',\n",
              "  'pixel598',\n",
              "  'pixel599',\n",
              "  'pixel600',\n",
              "  'pixel601',\n",
              "  'pixel602',\n",
              "  'pixel603',\n",
              "  'pixel604',\n",
              "  'pixel605',\n",
              "  'pixel606',\n",
              "  'pixel607',\n",
              "  'pixel608',\n",
              "  'pixel609',\n",
              "  'pixel610',\n",
              "  'pixel611',\n",
              "  'pixel612',\n",
              "  'pixel613',\n",
              "  'pixel614',\n",
              "  'pixel615',\n",
              "  'pixel616',\n",
              "  'pixel617',\n",
              "  'pixel618',\n",
              "  'pixel619',\n",
              "  'pixel620',\n",
              "  'pixel621',\n",
              "  'pixel622',\n",
              "  'pixel623',\n",
              "  'pixel624',\n",
              "  'pixel625',\n",
              "  'pixel626',\n",
              "  'pixel627',\n",
              "  'pixel628',\n",
              "  'pixel629',\n",
              "  'pixel630',\n",
              "  'pixel631',\n",
              "  'pixel632',\n",
              "  'pixel633',\n",
              "  'pixel634',\n",
              "  'pixel635',\n",
              "  'pixel636',\n",
              "  'pixel637',\n",
              "  'pixel638',\n",
              "  'pixel639',\n",
              "  'pixel640',\n",
              "  'pixel641',\n",
              "  'pixel642',\n",
              "  'pixel643',\n",
              "  'pixel644',\n",
              "  'pixel645',\n",
              "  'pixel646',\n",
              "  'pixel647',\n",
              "  'pixel648',\n",
              "  'pixel649',\n",
              "  'pixel650',\n",
              "  'pixel651',\n",
              "  'pixel652',\n",
              "  'pixel653',\n",
              "  'pixel654',\n",
              "  'pixel655',\n",
              "  'pixel656',\n",
              "  'pixel657',\n",
              "  'pixel658',\n",
              "  'pixel659',\n",
              "  'pixel660',\n",
              "  'pixel661',\n",
              "  'pixel662',\n",
              "  'pixel663',\n",
              "  'pixel664',\n",
              "  'pixel665',\n",
              "  'pixel666',\n",
              "  'pixel667',\n",
              "  'pixel668',\n",
              "  'pixel669',\n",
              "  'pixel670',\n",
              "  'pixel671',\n",
              "  'pixel672',\n",
              "  'pixel673',\n",
              "  'pixel674',\n",
              "  'pixel675',\n",
              "  'pixel676',\n",
              "  'pixel677',\n",
              "  'pixel678',\n",
              "  'pixel679',\n",
              "  'pixel680',\n",
              "  'pixel681',\n",
              "  'pixel682',\n",
              "  'pixel683',\n",
              "  'pixel684',\n",
              "  'pixel685',\n",
              "  'pixel686',\n",
              "  'pixel687',\n",
              "  'pixel688',\n",
              "  'pixel689',\n",
              "  'pixel690',\n",
              "  'pixel691',\n",
              "  'pixel692',\n",
              "  'pixel693',\n",
              "  'pixel694',\n",
              "  'pixel695',\n",
              "  'pixel696',\n",
              "  'pixel697',\n",
              "  'pixel698',\n",
              "  'pixel699',\n",
              "  'pixel700',\n",
              "  'pixel701',\n",
              "  'pixel702',\n",
              "  'pixel703',\n",
              "  'pixel704',\n",
              "  'pixel705',\n",
              "  'pixel706',\n",
              "  'pixel707',\n",
              "  'pixel708',\n",
              "  'pixel709',\n",
              "  'pixel710',\n",
              "  'pixel711',\n",
              "  'pixel712',\n",
              "  'pixel713',\n",
              "  'pixel714',\n",
              "  'pixel715',\n",
              "  'pixel716',\n",
              "  'pixel717',\n",
              "  'pixel718',\n",
              "  'pixel719',\n",
              "  'pixel720',\n",
              "  'pixel721',\n",
              "  'pixel722',\n",
              "  'pixel723',\n",
              "  'pixel724',\n",
              "  'pixel725',\n",
              "  'pixel726',\n",
              "  'pixel727',\n",
              "  'pixel728',\n",
              "  'pixel729',\n",
              "  'pixel730',\n",
              "  'pixel731',\n",
              "  'pixel732',\n",
              "  'pixel733',\n",
              "  'pixel734',\n",
              "  'pixel735',\n",
              "  'pixel736',\n",
              "  'pixel737',\n",
              "  'pixel738',\n",
              "  'pixel739',\n",
              "  'pixel740',\n",
              "  'pixel741',\n",
              "  'pixel742',\n",
              "  'pixel743',\n",
              "  'pixel744',\n",
              "  'pixel745',\n",
              "  'pixel746',\n",
              "  'pixel747',\n",
              "  'pixel748',\n",
              "  'pixel749',\n",
              "  'pixel750',\n",
              "  'pixel751',\n",
              "  'pixel752',\n",
              "  'pixel753',\n",
              "  'pixel754',\n",
              "  'pixel755',\n",
              "  'pixel756',\n",
              "  'pixel757',\n",
              "  'pixel758',\n",
              "  'pixel759',\n",
              "  'pixel760',\n",
              "  'pixel761',\n",
              "  'pixel762',\n",
              "  'pixel763',\n",
              "  'pixel764',\n",
              "  'pixel765',\n",
              "  'pixel766',\n",
              "  'pixel767',\n",
              "  'pixel768',\n",
              "  'pixel769',\n",
              "  'pixel770',\n",
              "  'pixel771',\n",
              "  'pixel772',\n",
              "  'pixel773',\n",
              "  'pixel774',\n",
              "  'pixel775',\n",
              "  'pixel776',\n",
              "  'pixel777',\n",
              "  'pixel778',\n",
              "  'pixel779',\n",
              "  'pixel780',\n",
              "  'pixel781',\n",
              "  'pixel782',\n",
              "  'pixel783',\n",
              "  'pixel784'],\n",
              " 'frame': None,\n",
              " 'target': array(['5', '0', '4', ..., '4', '5', '6'], dtype=object),\n",
              " 'target_names': ['class'],\n",
              " 'url': 'https://www.openml.org/d/554'}"
            ]
          },
          "metadata": {
            "tags": []
          },
          "execution_count": 3
        }
      ]
    },
    {
      "cell_type": "code",
      "metadata": {
        "colab": {
          "base_uri": "https://localhost:8080/"
        },
        "id": "-8g4Woha2Pq4",
        "outputId": "c8f26cb0-14cf-4557-c8f1-8d0c5b276cc9"
      },
      "source": [
        "import numpy as np\n",
        "X,y=mnist[\"data\"],mnist[\"target\"]\n",
        "y=y.astype(int)\n",
        "print(X.shape,y.shape)\n",
        "print(min(y),max(y))\n",
        "print(type(X),type(y))\n",
        "print(np.min(X), np.max(X))"
      ],
      "execution_count": 4,
      "outputs": [
        {
          "output_type": "stream",
          "text": [
            "(70000, 784) (70000,)\n",
            "0 9\n",
            "<class 'numpy.ndarray'> <class 'numpy.ndarray'>\n",
            "0.0 255.0\n"
          ],
          "name": "stdout"
        }
      ]
    },
    {
      "cell_type": "code",
      "metadata": {
        "colab": {
          "base_uri": "https://localhost:8080/"
        },
        "id": "WroxhCn82Pq4",
        "outputId": "7764fc1e-0456-4982-8dae-734bd0f851b6"
      },
      "source": [
        "X_train, X_test, y_train, y_test = X[:60000], X[60000:], y[:60000], y[60000:]\n",
        "print(X_train.shape,X_test.shape,y_train.shape,y_test.shape)"
      ],
      "execution_count": 5,
      "outputs": [
        {
          "output_type": "stream",
          "text": [
            "(60000, 784) (10000, 784) (60000,) (10000,)\n"
          ],
          "name": "stdout"
        }
      ]
    },
    {
      "cell_type": "code",
      "metadata": {
        "id": "AdzWlsQ82Pq5"
      },
      "source": [
        "from sklearn.ensemble import RandomForestClassifier\n",
        "rnd_clf = RandomForestClassifier(n_estimators=100, max_depth=None)"
      ],
      "execution_count": 6,
      "outputs": []
    },
    {
      "cell_type": "code",
      "metadata": {
        "id": "qoy2toPL2Pq5"
      },
      "source": [
        "start = datetime.datetime.now()\n",
        "rnd_clf.fit(X_train, y_train)\n",
        "y_pred_rf = rnd_clf.predict(X_test)\n",
        "end = datetime.datetime.now()\n",
        "diff = (end - start)"
      ],
      "execution_count": 7,
      "outputs": []
    },
    {
      "cell_type": "markdown",
      "metadata": {
        "id": "6E-FaMrC2Pq6"
      },
      "source": [
        "### Time taken by Random Forest model"
      ]
    },
    {
      "cell_type": "code",
      "metadata": {
        "colab": {
          "base_uri": "https://localhost:8080/"
        },
        "id": "Z5ZqVghh2Pq6",
        "outputId": "2c161d01-ea58-44d8-c5d6-8cdb0c5e254d"
      },
      "source": [
        "diff"
      ],
      "execution_count": 8,
      "outputs": [
        {
          "output_type": "execute_result",
          "data": {
            "text/plain": [
              "datetime.timedelta(seconds=44, microseconds=659552)"
            ]
          },
          "metadata": {
            "tags": []
          },
          "execution_count": 8
        }
      ]
    },
    {
      "cell_type": "code",
      "metadata": {
        "colab": {
          "base_uri": "https://localhost:8080/"
        },
        "id": "rGHK7TIi2Pq7",
        "outputId": "6ecd6f18-8c9a-4e26-bc22-65f123391674"
      },
      "source": [
        "len(y_pred_rf)"
      ],
      "execution_count": 9,
      "outputs": [
        {
          "output_type": "execute_result",
          "data": {
            "text/plain": [
              "10000"
            ]
          },
          "metadata": {
            "tags": []
          },
          "execution_count": 9
        }
      ]
    },
    {
      "cell_type": "code",
      "metadata": {
        "id": "SSVzjPJm2Pq8"
      },
      "source": [
        "from sklearn.metrics import confusion_matrix\n",
        "matrix = confusion_matrix(y_test, y_pred_rf)\n",
        "accuracy_class = matrix.diagonal()/matrix.sum(axis=1)"
      ],
      "execution_count": 10,
      "outputs": []
    },
    {
      "cell_type": "markdown",
      "metadata": {
        "id": "XvhHXLE02Pq8"
      },
      "source": [
        "### Confusion Matrix for Random Forest "
      ]
    },
    {
      "cell_type": "code",
      "metadata": {
        "scrolled": true,
        "colab": {
          "base_uri": "https://localhost:8080/"
        },
        "id": "uubSm4m02Pq8",
        "outputId": "368b6a2b-defa-44e5-853f-3087987f9bf3"
      },
      "source": [
        "matrix"
      ],
      "execution_count": 11,
      "outputs": [
        {
          "output_type": "execute_result",
          "data": {
            "text/plain": [
              "array([[ 969,    0,    1,    0,    0,    3,    3,    1,    3,    0],\n",
              "       [   0, 1120,    3,    3,    1,    2,    3,    0,    2,    1],\n",
              "       [   5,    0,  999,    6,    4,    0,    4,    8,    6,    0],\n",
              "       [   0,    0,    8,  970,    0,   10,    0,    9,    9,    4],\n",
              "       [   1,    0,    0,    0,  958,    0,    6,    1,    4,   12],\n",
              "       [   3,    0,    0,   11,    3,  862,    5,    1,    5,    2],\n",
              "       [   7,    3,    0,    0,    4,    3,  939,    0,    2,    0],\n",
              "       [   1,    4,   21,    2,    1,    0,    0,  989,    3,    7],\n",
              "       [   4,    0,    7,   11,    6,    7,    3,    3,  925,    8],\n",
              "       [   5,    6,    2,   10,   11,    3,    2,    4,    6,  960]])"
            ]
          },
          "metadata": {
            "tags": []
          },
          "execution_count": 11
        }
      ]
    },
    {
      "cell_type": "code",
      "metadata": {
        "colab": {
          "base_uri": "https://localhost:8080/"
        },
        "id": "CsswM7Sv2Pq9",
        "outputId": "dfbb93fd-db9d-4205-cdd3-92a00d01e628"
      },
      "source": [
        "accuracy_class"
      ],
      "execution_count": 12,
      "outputs": [
        {
          "output_type": "execute_result",
          "data": {
            "text/plain": [
              "array([0.98877551, 0.98678414, 0.96802326, 0.96039604, 0.97556008,\n",
              "       0.96636771, 0.98016701, 0.96206226, 0.94969199, 0.95143707])"
            ]
          },
          "metadata": {
            "tags": []
          },
          "execution_count": 12
        }
      ]
    },
    {
      "cell_type": "markdown",
      "metadata": {
        "id": "AuvhT-ke2Pq9"
      },
      "source": [
        "### Accuracy of Random Forest aross all the classes"
      ]
    },
    {
      "cell_type": "code",
      "metadata": {
        "colab": {
          "base_uri": "https://localhost:8080/"
        },
        "id": "N9YiCrdN2Pq9",
        "outputId": "c652df04-b21d-4787-c6df-99d7943b1365"
      },
      "source": [
        "j=0\n",
        "for i in accuracy_class:\n",
        "    print(\"Accuracy for the number \",j,\" is \",round(i*100,2),\"%\")\n",
        "    j+=1"
      ],
      "execution_count": 13,
      "outputs": [
        {
          "output_type": "stream",
          "text": [
            "Accuracy for the number  0  is  98.88 %\n",
            "Accuracy for the number  1  is  98.68 %\n",
            "Accuracy for the number  2  is  96.8 %\n",
            "Accuracy for the number  3  is  96.04 %\n",
            "Accuracy for the number  4  is  97.56 %\n",
            "Accuracy for the number  5  is  96.64 %\n",
            "Accuracy for the number  6  is  98.02 %\n",
            "Accuracy for the number  7  is  96.21 %\n",
            "Accuracy for the number  8  is  94.97 %\n",
            "Accuracy for the number  9  is  95.14 %\n"
          ],
          "name": "stdout"
        }
      ]
    },
    {
      "cell_type": "markdown",
      "metadata": {
        "id": "fKcXE2VU2Pq-"
      },
      "source": [
        "### Accuracy of Random Forest overall"
      ]
    },
    {
      "cell_type": "code",
      "metadata": {
        "scrolled": true,
        "colab": {
          "base_uri": "https://localhost:8080/"
        },
        "id": "yVDS7SvC2Pq-",
        "outputId": "0e1e1394-a3b8-4f1e-8e58-df1e9e725e73"
      },
      "source": [
        "accuracy_class.sum()/len(accuracy_class)*100"
      ],
      "execution_count": 14,
      "outputs": [
        {
          "output_type": "execute_result",
          "data": {
            "text/plain": [
              "96.89265070673983"
            ]
          },
          "metadata": {
            "tags": []
          },
          "execution_count": 14
        }
      ]
    },
    {
      "cell_type": "markdown",
      "metadata": {
        "id": "PhJHFL092Pq_"
      },
      "source": [
        "## PCA for dimensionality reduction"
      ]
    },
    {
      "cell_type": "markdown",
      "metadata": {
        "id": "x0fG0y6i2Pq_"
      },
      "source": [
        "## variance_ratio = 0.95"
      ]
    },
    {
      "cell_type": "code",
      "metadata": {
        "colab": {
          "base_uri": "https://localhost:8080/"
        },
        "id": "lxwWYD_O2PrA",
        "outputId": "a34600e1-14c2-49c8-b578-e317a4ac94c0"
      },
      "source": [
        "X_train, X_test, y_train, y_test = X[:60000], X[60000:], y[:60000], y[60000:]\n",
        "print(X_train.shape,X_test.shape,y_train.shape,y_test.shape)"
      ],
      "execution_count": 15,
      "outputs": [
        {
          "output_type": "stream",
          "text": [
            "(60000, 784) (10000, 784) (60000,) (10000,)\n"
          ],
          "name": "stdout"
        }
      ]
    },
    {
      "cell_type": "code",
      "metadata": {
        "id": "NvVYBg9E2PrA"
      },
      "source": [
        "from sklearn.decomposition import PCA\n",
        "\n",
        "pca = PCA(n_components=0.95, svd_solver='full')\n",
        "X_train = pca.fit_transform(X_train)\n",
        "X_test = pca.transform(X_test)"
      ],
      "execution_count": 16,
      "outputs": []
    },
    {
      "cell_type": "code",
      "metadata": {
        "scrolled": true,
        "colab": {
          "base_uri": "https://localhost:8080/"
        },
        "id": "jQ5r0fjv2PrA",
        "outputId": "313015ea-d8b4-4b3d-cfe2-04d8609ae5d7"
      },
      "source": [
        "pca.explained_variance_ratio_ "
      ],
      "execution_count": 17,
      "outputs": [
        {
          "output_type": "execute_result",
          "data": {
            "text/plain": [
              "array([0.09704664, 0.07095924, 0.06169089, 0.05389419, 0.04868797,\n",
              "       0.04312231, 0.0327193 , 0.02883895, 0.02762029, 0.02357001,\n",
              "       0.0210919 , 0.02022991, 0.01715818, 0.01692111, 0.01578641,\n",
              "       0.01482953, 0.01324561, 0.01276897, 0.01187263, 0.01152684,\n",
              "       0.01066166, 0.01006713, 0.00953573, 0.00912544, 0.00883405,\n",
              "       0.00839319, 0.00812579, 0.00786366, 0.00744733, 0.00690859,\n",
              "       0.00658094, 0.00648148, 0.00602615, 0.00586582, 0.00570021,\n",
              "       0.00543628, 0.00505786, 0.00487859, 0.00481429, 0.00472266,\n",
              "       0.00456747, 0.00444836, 0.00418501, 0.00398215, 0.00384975,\n",
              "       0.00375103, 0.00362009, 0.00351591, 0.00340058, 0.00321874,\n",
              "       0.00319017, 0.00312805, 0.00295983, 0.00288955, 0.0028413 ,\n",
              "       0.00271436, 0.00269521, 0.00258473, 0.00253771, 0.00244781,\n",
              "       0.00240506, 0.00239263, 0.00230408, 0.00221532, 0.00213721,\n",
              "       0.00207225, 0.00203043, 0.00196783, 0.00192853, 0.00188632,\n",
              "       0.00186977, 0.00181083, 0.00177562, 0.00174898, 0.00165758,\n",
              "       0.00163894, 0.00161462, 0.00155116, 0.00147613, 0.00143176,\n",
              "       0.00142094, 0.00141153, 0.00140174, 0.00135736, 0.00133847,\n",
              "       0.00132396, 0.00130157, 0.00125873, 0.00122828, 0.00121584,\n",
              "       0.00117034, 0.00114874, 0.00113244, 0.00110886, 0.00109002,\n",
              "       0.00106923, 0.00104196, 0.00104007, 0.00101256, 0.00100527,\n",
              "       0.00098402, 0.00094969, 0.00094134, 0.00091617, 0.00090785,\n",
              "       0.00089687, 0.00086539, 0.00085517, 0.00084562, 0.0008225 ,\n",
              "       0.00079158, 0.00078594, 0.00078461, 0.00076883, 0.00076402,\n",
              "       0.00075309, 0.00073678, 0.00072713, 0.00071965, 0.00070682,\n",
              "       0.00069542, 0.00069216, 0.0006833 , 0.00067406, 0.00066688,\n",
              "       0.00064527, 0.00063559, 0.00063165, 0.00062293, 0.00060529,\n",
              "       0.00060359, 0.00059448, 0.00058831, 0.00058652, 0.00058134,\n",
              "       0.00057683, 0.00056537, 0.00055476, 0.00053517, 0.00052593,\n",
              "       0.00052509, 0.00051026, 0.00050297, 0.00050108, 0.00049871,\n",
              "       0.00049107, 0.00048554, 0.00048285, 0.00047401, 0.00046835,\n",
              "       0.0004666 , 0.00046333, 0.00045929, 0.00045038])"
            ]
          },
          "metadata": {
            "tags": []
          },
          "execution_count": 17
        }
      ]
    },
    {
      "cell_type": "code",
      "metadata": {
        "id": "q5yGfv7d2PrB"
      },
      "source": [
        "start = datetime.datetime.now()\n",
        "rnd_clf.fit(X_train, y_train)\n",
        "y_pred_rf = rnd_clf.predict(X_test)\n",
        "end = datetime.datetime.now()\n",
        "diff = (end - start)"
      ],
      "execution_count": 18,
      "outputs": []
    },
    {
      "cell_type": "markdown",
      "metadata": {
        "id": "69Y7Y2BJ2PrB"
      },
      "source": [
        "### Time taken by Random Forest model with PCA (variance_ratio=0.95)"
      ]
    },
    {
      "cell_type": "code",
      "metadata": {
        "colab": {
          "base_uri": "https://localhost:8080/"
        },
        "id": "oWaBu3O72PrB",
        "outputId": "52ba729b-c279-49fd-a5b7-ab5561afb08a"
      },
      "source": [
        "diff"
      ],
      "execution_count": 19,
      "outputs": [
        {
          "output_type": "execute_result",
          "data": {
            "text/plain": [
              "datetime.timedelta(seconds=105, microseconds=458442)"
            ]
          },
          "metadata": {
            "tags": []
          },
          "execution_count": 19
        }
      ]
    },
    {
      "cell_type": "code",
      "metadata": {
        "id": "CaZy167t2PrB"
      },
      "source": [
        "from sklearn.metrics import confusion_matrix\n",
        "matrix = confusion_matrix(y_test, y_pred_rf)\n",
        "accuracy_class = matrix.diagonal()/matrix.sum(axis=1)"
      ],
      "execution_count": 20,
      "outputs": []
    },
    {
      "cell_type": "markdown",
      "metadata": {
        "id": "sIFtCFsB2PrC"
      },
      "source": [
        "### Confusion Matrix for Random Forest with PCA (variance_ratio=0.95) "
      ]
    },
    {
      "cell_type": "code",
      "metadata": {
        "scrolled": false,
        "colab": {
          "base_uri": "https://localhost:8080/"
        },
        "id": "KnY7F9kJ2PrC",
        "outputId": "1d870cde-ffcb-4db4-d350-c265cb37cd5d"
      },
      "source": [
        "matrix"
      ],
      "execution_count": 21,
      "outputs": [
        {
          "output_type": "execute_result",
          "data": {
            "text/plain": [
              "array([[ 963,    0,    3,    0,    0,    4,    6,    1,    3,    0],\n",
              "       [   0, 1118,    6,    4,    0,    2,    3,    0,    2,    0],\n",
              "       [   9,    0,  963,   14,    6,    2,    3,   11,   23,    1],\n",
              "       [   4,    0,    9,  953,    0,   15,    3,    9,   12,    5],\n",
              "       [   2,    1,    6,    0,  937,    3,    6,    3,    3,   21],\n",
              "       [   5,    1,    4,   21,    6,  836,    8,    1,    6,    4],\n",
              "       [   9,    3,    2,    1,    2,    2,  939,    0,    0,    0],\n",
              "       [   1,    6,   19,    1,    6,    2,    1,  966,    4,   22],\n",
              "       [   8,    0,   11,   19,    9,   17,    5,    6,  891,    8],\n",
              "       [   7,    6,    1,   14,   23,    6,    0,   15,    4,  933]])"
            ]
          },
          "metadata": {
            "tags": []
          },
          "execution_count": 21
        }
      ]
    },
    {
      "cell_type": "code",
      "metadata": {
        "scrolled": true,
        "colab": {
          "base_uri": "https://localhost:8080/"
        },
        "id": "fcIsheIg2PrC",
        "outputId": "c3710473-b790-4bc2-d08c-b9c8f662a5ba"
      },
      "source": [
        "accuracy_class"
      ],
      "execution_count": 22,
      "outputs": [
        {
          "output_type": "execute_result",
          "data": {
            "text/plain": [
              "array([0.98265306, 0.98502203, 0.93313953, 0.94356436, 0.95417515,\n",
              "       0.93721973, 0.98016701, 0.93968872, 0.91478439, 0.9246779 ])"
            ]
          },
          "metadata": {
            "tags": []
          },
          "execution_count": 22
        }
      ]
    },
    {
      "cell_type": "markdown",
      "metadata": {
        "id": "BV9ikeZo2PrC"
      },
      "source": [
        "### Accuracy of Random Forest aross all the classes with PCA (variance_ratio=0.95) "
      ]
    },
    {
      "cell_type": "code",
      "metadata": {
        "scrolled": true,
        "colab": {
          "base_uri": "https://localhost:8080/"
        },
        "id": "x1mr5m-G2PrD",
        "outputId": "737b243c-7232-4cc8-87d5-27a42240c18b"
      },
      "source": [
        "j=0\n",
        "for i in accuracy_class:\n",
        "    print(\"Accuracy for the number \",j,\" is \",round(i*100,2),\"%\")\n",
        "    j+=1"
      ],
      "execution_count": 23,
      "outputs": [
        {
          "output_type": "stream",
          "text": [
            "Accuracy for the number  0  is  98.27 %\n",
            "Accuracy for the number  1  is  98.5 %\n",
            "Accuracy for the number  2  is  93.31 %\n",
            "Accuracy for the number  3  is  94.36 %\n",
            "Accuracy for the number  4  is  95.42 %\n",
            "Accuracy for the number  5  is  93.72 %\n",
            "Accuracy for the number  6  is  98.02 %\n",
            "Accuracy for the number  7  is  93.97 %\n",
            "Accuracy for the number  8  is  91.48 %\n",
            "Accuracy for the number  9  is  92.47 %\n"
          ],
          "name": "stdout"
        }
      ]
    },
    {
      "cell_type": "markdown",
      "metadata": {
        "id": "QBrtfUTO2PrD"
      },
      "source": [
        "### Accuracy of Random Forest overall with PCA (variance_ratio=0.95) "
      ]
    },
    {
      "cell_type": "code",
      "metadata": {
        "scrolled": true,
        "colab": {
          "base_uri": "https://localhost:8080/"
        },
        "id": "g8HUlttA2PrE",
        "outputId": "9eb95ab8-8b4d-4677-9569-c72aa6a30bae"
      },
      "source": [
        "accuracy_class.sum()/len(accuracy_class)*100"
      ],
      "execution_count": 24,
      "outputs": [
        {
          "output_type": "execute_result",
          "data": {
            "text/plain": [
              "94.95091886394178"
            ]
          },
          "metadata": {
            "tags": []
          },
          "execution_count": 24
        }
      ]
    },
    {
      "cell_type": "markdown",
      "metadata": {
        "id": "s0tV-xew2PrE"
      },
      "source": [
        "## variance_ratio = 0.90"
      ]
    },
    {
      "cell_type": "code",
      "metadata": {
        "colab": {
          "base_uri": "https://localhost:8080/"
        },
        "id": "byocZkbi2PrF",
        "outputId": "94715cdf-7b9d-49d2-d831-62e09cdf85f1"
      },
      "source": [
        "X_train, X_test, y_train, y_test = X[:60000], X[60000:], y[:60000], y[60000:]\n",
        "print(X_train.shape,X_test.shape,y_train.shape,y_test.shape)"
      ],
      "execution_count": 25,
      "outputs": [
        {
          "output_type": "stream",
          "text": [
            "(60000, 784) (10000, 784) (60000,) (10000,)\n"
          ],
          "name": "stdout"
        }
      ]
    },
    {
      "cell_type": "code",
      "metadata": {
        "id": "eLEvqQO32PrG"
      },
      "source": [
        "pca = PCA(n_components=0.90, svd_solver='full')\n",
        "X_train = pca.fit_transform(X_train)\n",
        "X_test = pca.transform(X_test)"
      ],
      "execution_count": 26,
      "outputs": []
    },
    {
      "cell_type": "code",
      "metadata": {
        "colab": {
          "base_uri": "https://localhost:8080/"
        },
        "id": "R-B8iECc2PrK",
        "outputId": "10148ca5-239e-4939-ccaa-8688aa7d58db"
      },
      "source": [
        "pca.explained_variance_ratio_ "
      ],
      "execution_count": 27,
      "outputs": [
        {
          "output_type": "execute_result",
          "data": {
            "text/plain": [
              "array([0.09704664, 0.07095924, 0.06169089, 0.05389419, 0.04868797,\n",
              "       0.04312231, 0.0327193 , 0.02883895, 0.02762029, 0.02357001,\n",
              "       0.0210919 , 0.02022991, 0.01715818, 0.01692111, 0.01578641,\n",
              "       0.01482953, 0.01324561, 0.01276897, 0.01187263, 0.01152684,\n",
              "       0.01066166, 0.01006713, 0.00953573, 0.00912544, 0.00883405,\n",
              "       0.00839319, 0.00812579, 0.00786366, 0.00744733, 0.00690859,\n",
              "       0.00658094, 0.00648148, 0.00602615, 0.00586582, 0.00570021,\n",
              "       0.00543628, 0.00505786, 0.00487859, 0.00481429, 0.00472266,\n",
              "       0.00456747, 0.00444836, 0.00418501, 0.00398215, 0.00384975,\n",
              "       0.00375103, 0.00362009, 0.00351591, 0.00340058, 0.00321874,\n",
              "       0.00319017, 0.00312805, 0.00295983, 0.00288955, 0.0028413 ,\n",
              "       0.00271436, 0.00269521, 0.00258473, 0.00253771, 0.00244781,\n",
              "       0.00240506, 0.00239263, 0.00230408, 0.00221532, 0.00213721,\n",
              "       0.00207225, 0.00203043, 0.00196783, 0.00192853, 0.00188632,\n",
              "       0.00186977, 0.00181083, 0.00177562, 0.00174898, 0.00165758,\n",
              "       0.00163894, 0.00161462, 0.00155116, 0.00147613, 0.00143176,\n",
              "       0.00142094, 0.00141153, 0.00140174, 0.00135736, 0.00133847,\n",
              "       0.00132396, 0.00130157])"
            ]
          },
          "metadata": {
            "tags": []
          },
          "execution_count": 27
        }
      ]
    },
    {
      "cell_type": "code",
      "metadata": {
        "id": "41F6aONs2PrL"
      },
      "source": [
        "start = datetime.datetime.now()\n",
        "rnd_clf.fit(X_train, y_train)\n",
        "y_pred_rf = rnd_clf.predict(X_test)\n",
        "end = datetime.datetime.now()\n",
        "diff = (end - start)"
      ],
      "execution_count": 28,
      "outputs": []
    },
    {
      "cell_type": "markdown",
      "metadata": {
        "id": "q3qVC-N02PrM"
      },
      "source": [
        "### Time taken by Random Forest model with PCA (variance_ratio=0.90)"
      ]
    },
    {
      "cell_type": "code",
      "metadata": {
        "colab": {
          "base_uri": "https://localhost:8080/"
        },
        "id": "YX5BYtWC2PrN",
        "outputId": "4975155a-9d31-46f5-868e-cbbea3e9dc73"
      },
      "source": [
        "diff"
      ],
      "execution_count": 29,
      "outputs": [
        {
          "output_type": "execute_result",
          "data": {
            "text/plain": [
              "datetime.timedelta(seconds=79, microseconds=822364)"
            ]
          },
          "metadata": {
            "tags": []
          },
          "execution_count": 29
        }
      ]
    },
    {
      "cell_type": "code",
      "metadata": {
        "id": "pvXOxsJ52PrN"
      },
      "source": [
        "from sklearn.metrics import confusion_matrix\n",
        "matrix = confusion_matrix(y_test, y_pred_rf)\n",
        "accuracy_class = matrix.diagonal()/matrix.sum(axis=1)"
      ],
      "execution_count": 30,
      "outputs": []
    },
    {
      "cell_type": "markdown",
      "metadata": {
        "id": "QauhnrnK2PrN"
      },
      "source": [
        "### Confusion Matrix for Random Forest with PCA (variance_ratio=0.90) "
      ]
    },
    {
      "cell_type": "code",
      "metadata": {
        "colab": {
          "base_uri": "https://localhost:8080/"
        },
        "id": "qD4mBXiB2PrO",
        "outputId": "b9c7a932-6294-455b-9bc4-1506fdc2fe47"
      },
      "source": [
        "matrix"
      ],
      "execution_count": 31,
      "outputs": [
        {
          "output_type": "execute_result",
          "data": {
            "text/plain": [
              "array([[ 963,    0,    3,    0,    0,    3,    7,    2,    2,    0],\n",
              "       [   0, 1121,    2,    5,    0,    1,    3,    0,    3,    0],\n",
              "       [  12,    0,  975,   13,    4,    0,    2,    9,   16,    1],\n",
              "       [   2,    0,    7,  956,    1,   11,    2,    9,   17,    5],\n",
              "       [   1,    0,    5,    1,  941,    2,    9,    2,    4,   17],\n",
              "       [   5,    1,    3,   18,    5,  842,    7,    1,    3,    7],\n",
              "       [   7,    2,    2,    0,    3,    7,  934,    0,    2,    1],\n",
              "       [   1,    6,   16,    2,    8,    0,    1,  973,    2,   19],\n",
              "       [   4,    0,    9,   20,    9,   16,    3,    8,  897,    8],\n",
              "       [   7,    6,    3,   13,   21,    6,    0,    8,    6,  939]])"
            ]
          },
          "metadata": {
            "tags": []
          },
          "execution_count": 31
        }
      ]
    },
    {
      "cell_type": "code",
      "metadata": {
        "colab": {
          "base_uri": "https://localhost:8080/"
        },
        "id": "S8S3osns2PrO",
        "outputId": "865f1a31-5291-4b09-8b58-35b366e369ab"
      },
      "source": [
        "accuracy_class"
      ],
      "execution_count": 32,
      "outputs": [
        {
          "output_type": "execute_result",
          "data": {
            "text/plain": [
              "array([0.98265306, 0.9876652 , 0.94476744, 0.94653465, 0.95824847,\n",
              "       0.94394619, 0.97494781, 0.94649805, 0.92094456, 0.93062438])"
            ]
          },
          "metadata": {
            "tags": []
          },
          "execution_count": 32
        }
      ]
    },
    {
      "cell_type": "markdown",
      "metadata": {
        "id": "ypVHOC1y2PrO"
      },
      "source": [
        "### Accuracy of Random Forest aross all the classes with PCA (variance_ratio=0.90) "
      ]
    },
    {
      "cell_type": "code",
      "metadata": {
        "colab": {
          "base_uri": "https://localhost:8080/"
        },
        "id": "OP9SeQ5p2PrO",
        "outputId": "3a756bca-57c6-4dc3-baa2-b174ab580dff"
      },
      "source": [
        "j=0\n",
        "for i in accuracy_class:\n",
        "    print(\"Accuracy for the number \",j,\" is \",round(i*100,2),\"%\")\n",
        "    j+=1"
      ],
      "execution_count": 33,
      "outputs": [
        {
          "output_type": "stream",
          "text": [
            "Accuracy for the number  0  is  98.27 %\n",
            "Accuracy for the number  1  is  98.77 %\n",
            "Accuracy for the number  2  is  94.48 %\n",
            "Accuracy for the number  3  is  94.65 %\n",
            "Accuracy for the number  4  is  95.82 %\n",
            "Accuracy for the number  5  is  94.39 %\n",
            "Accuracy for the number  6  is  97.49 %\n",
            "Accuracy for the number  7  is  94.65 %\n",
            "Accuracy for the number  8  is  92.09 %\n",
            "Accuracy for the number  9  is  93.06 %\n"
          ],
          "name": "stdout"
        }
      ]
    },
    {
      "cell_type": "markdown",
      "metadata": {
        "id": "9XvyIQPJ2PrQ"
      },
      "source": [
        "### Accuracy of Random Forest overall with PCA (variance_ratio=0.90) "
      ]
    },
    {
      "cell_type": "code",
      "metadata": {
        "colab": {
          "base_uri": "https://localhost:8080/"
        },
        "id": "ha3caWL_2PrQ",
        "outputId": "6a365d15-0ce4-4197-d2c4-3a9b6149f7e4"
      },
      "source": [
        "accuracy_class.sum()/len(accuracy_class)*100"
      ],
      "execution_count": 34,
      "outputs": [
        {
          "output_type": "execute_result",
          "data": {
            "text/plain": [
              "95.36829817138376"
            ]
          },
          "metadata": {
            "tags": []
          },
          "execution_count": 34
        }
      ]
    },
    {
      "cell_type": "markdown",
      "metadata": {
        "id": "UA4FNjKR2PrQ"
      },
      "source": [
        "## variance_ratio = 0.85"
      ]
    },
    {
      "cell_type": "code",
      "metadata": {
        "colab": {
          "base_uri": "https://localhost:8080/"
        },
        "id": "B8XY46Ve2PrQ",
        "outputId": "3807554a-40af-44c3-fd5a-50a5e21797df"
      },
      "source": [
        "X_train, X_test, y_train, y_test = X[:60000], X[60000:], y[:60000], y[60000:]\n",
        "print(X_train.shape,X_test.shape,y_train.shape,y_test.shape)"
      ],
      "execution_count": 35,
      "outputs": [
        {
          "output_type": "stream",
          "text": [
            "(60000, 784) (10000, 784) (60000,) (10000,)\n"
          ],
          "name": "stdout"
        }
      ]
    },
    {
      "cell_type": "code",
      "metadata": {
        "id": "sJvJFYm02PrQ"
      },
      "source": [
        "pca = PCA(n_components=0.85, svd_solver='full')\n",
        "X_train = pca.fit_transform(X_train)\n",
        "X_test = pca.transform(X_test)"
      ],
      "execution_count": 36,
      "outputs": []
    },
    {
      "cell_type": "code",
      "metadata": {
        "colab": {
          "base_uri": "https://localhost:8080/"
        },
        "id": "5-KvLdKS2PrQ",
        "outputId": "5e35d0c6-6869-48aa-e720-6d2c51a02d05"
      },
      "source": [
        "pca.explained_variance_ratio_ "
      ],
      "execution_count": 37,
      "outputs": [
        {
          "output_type": "execute_result",
          "data": {
            "text/plain": [
              "array([0.09704664, 0.07095924, 0.06169089, 0.05389419, 0.04868797,\n",
              "       0.04312231, 0.0327193 , 0.02883895, 0.02762029, 0.02357001,\n",
              "       0.0210919 , 0.02022991, 0.01715818, 0.01692111, 0.01578641,\n",
              "       0.01482953, 0.01324561, 0.01276897, 0.01187263, 0.01152684,\n",
              "       0.01066166, 0.01006713, 0.00953573, 0.00912544, 0.00883405,\n",
              "       0.00839319, 0.00812579, 0.00786366, 0.00744733, 0.00690859,\n",
              "       0.00658094, 0.00648148, 0.00602615, 0.00586582, 0.00570021,\n",
              "       0.00543628, 0.00505786, 0.00487859, 0.00481429, 0.00472266,\n",
              "       0.00456747, 0.00444836, 0.00418501, 0.00398215, 0.00384975,\n",
              "       0.00375103, 0.00362009, 0.00351591, 0.00340058, 0.00321874,\n",
              "       0.00319017, 0.00312805, 0.00295983, 0.00288955, 0.0028413 ,\n",
              "       0.00271436, 0.00269521, 0.00258473, 0.00253771])"
            ]
          },
          "metadata": {
            "tags": []
          },
          "execution_count": 37
        }
      ]
    },
    {
      "cell_type": "code",
      "metadata": {
        "id": "RoMFpB_o2PrR"
      },
      "source": [
        "start = datetime.datetime.now()\n",
        "rnd_clf.fit(X_train, y_train)\n",
        "y_pred_rf = rnd_clf.predict(X_test)\n",
        "end = datetime.datetime.now()\n",
        "diff = (end - start)"
      ],
      "execution_count": 38,
      "outputs": []
    },
    {
      "cell_type": "markdown",
      "metadata": {
        "id": "IXNUeatW2PrR"
      },
      "source": [
        "### Time taken by Random Forest model with PCA (variance_ratio=0.85)"
      ]
    },
    {
      "cell_type": "code",
      "metadata": {
        "colab": {
          "base_uri": "https://localhost:8080/"
        },
        "id": "UOjI2l-Y2PrR",
        "outputId": "9bbc78ea-7ca0-4caf-83e8-394bf947406a"
      },
      "source": [
        "diff"
      ],
      "execution_count": 39,
      "outputs": [
        {
          "output_type": "execute_result",
          "data": {
            "text/plain": [
              "datetime.timedelta(seconds=60, microseconds=827781)"
            ]
          },
          "metadata": {
            "tags": []
          },
          "execution_count": 39
        }
      ]
    },
    {
      "cell_type": "code",
      "metadata": {
        "id": "2PSk0uSu2PrR"
      },
      "source": [
        "from sklearn.metrics import confusion_matrix\n",
        "matrix = confusion_matrix(y_test, y_pred_rf)\n",
        "accuracy_class = matrix.diagonal()/matrix.sum(axis=1)"
      ],
      "execution_count": 40,
      "outputs": []
    },
    {
      "cell_type": "markdown",
      "metadata": {
        "id": "z8zRptSu2PrS"
      },
      "source": [
        "### Confusion Matrix for Random Forest with PCA (variance_ratio=0.85) "
      ]
    },
    {
      "cell_type": "code",
      "metadata": {
        "colab": {
          "base_uri": "https://localhost:8080/"
        },
        "id": "QZNC1t6l2PrS",
        "outputId": "a0d870bb-c803-46d0-dad7-0be0e64d930c"
      },
      "source": [
        "matrix"
      ],
      "execution_count": 41,
      "outputs": [
        {
          "output_type": "execute_result",
          "data": {
            "text/plain": [
              "array([[ 967,    0,    2,    0,    0,    3,    6,    1,    1,    0],\n",
              "       [   0, 1120,    2,    5,    0,    0,    4,    0,    3,    1],\n",
              "       [   9,    0,  975,   10,    6,    0,    2,    9,   19,    2],\n",
              "       [   2,    0,    6,  956,    1,   14,    2,    7,   17,    5],\n",
              "       [   1,    0,    7,    0,  946,    1,    8,    1,    3,   15],\n",
              "       [   3,    1,    1,   17,    4,  843,   12,    1,    6,    4],\n",
              "       [  10,    3,    1,    0,    2,    2,  938,    0,    2,    0],\n",
              "       [   1,    4,   19,    1,    6,    2,    0,  972,    3,   20],\n",
              "       [   6,    0,    8,   18,   12,   17,    4,    4,  898,    7],\n",
              "       [   3,    6,    4,   12,   20,    6,    0,    8,    9,  941]])"
            ]
          },
          "metadata": {
            "tags": []
          },
          "execution_count": 41
        }
      ]
    },
    {
      "cell_type": "code",
      "metadata": {
        "colab": {
          "base_uri": "https://localhost:8080/"
        },
        "id": "6EKyB79l2PrS",
        "outputId": "6ae486bf-5b6a-44f1-c2b8-4f64ae40d14b"
      },
      "source": [
        "accuracy_class"
      ],
      "execution_count": 42,
      "outputs": [
        {
          "output_type": "execute_result",
          "data": {
            "text/plain": [
              "array([0.98673469, 0.98678414, 0.94476744, 0.94653465, 0.96334012,\n",
              "       0.94506726, 0.97912317, 0.94552529, 0.92197125, 0.93260654])"
            ]
          },
          "metadata": {
            "tags": []
          },
          "execution_count": 42
        }
      ]
    },
    {
      "cell_type": "markdown",
      "metadata": {
        "id": "2Izd_Fyu2PrS"
      },
      "source": [
        "### Accuracy of Random Forest aross all the classes with PCA (variance_ratio=0.85) "
      ]
    },
    {
      "cell_type": "code",
      "metadata": {
        "colab": {
          "base_uri": "https://localhost:8080/"
        },
        "id": "14vo63Cd2PrS",
        "outputId": "bec66872-9801-4ca9-c076-1bb0912edb0a"
      },
      "source": [
        "j=0\n",
        "for i in accuracy_class:\n",
        "    print(\"Accuracy for the number \",j,\" is \",round(i*100,2),\"%\")\n",
        "    j+=1"
      ],
      "execution_count": 43,
      "outputs": [
        {
          "output_type": "stream",
          "text": [
            "Accuracy for the number  0  is  98.67 %\n",
            "Accuracy for the number  1  is  98.68 %\n",
            "Accuracy for the number  2  is  94.48 %\n",
            "Accuracy for the number  3  is  94.65 %\n",
            "Accuracy for the number  4  is  96.33 %\n",
            "Accuracy for the number  5  is  94.51 %\n",
            "Accuracy for the number  6  is  97.91 %\n",
            "Accuracy for the number  7  is  94.55 %\n",
            "Accuracy for the number  8  is  92.2 %\n",
            "Accuracy for the number  9  is  93.26 %\n"
          ],
          "name": "stdout"
        }
      ]
    },
    {
      "cell_type": "markdown",
      "metadata": {
        "id": "06U7MsKl2PrS"
      },
      "source": [
        "### Accuracy of Random Forest overall with PCA (variance_ratio=0.85) "
      ]
    },
    {
      "cell_type": "code",
      "metadata": {
        "colab": {
          "base_uri": "https://localhost:8080/"
        },
        "id": "HlBrt48a2PrS",
        "outputId": "fddc6a1a-e830-4e8c-baf3-224e5a5d4a82"
      },
      "source": [
        "accuracy_class.sum()/len(accuracy_class)*100"
      ],
      "execution_count": 45,
      "outputs": [
        {
          "output_type": "execute_result",
          "data": {
            "text/plain": [
              "95.52454575749132"
            ]
          },
          "metadata": {
            "tags": []
          },
          "execution_count": 45
        }
      ]
    },
    {
      "cell_type": "markdown",
      "metadata": {
        "id": "YOm7LbNt55St"
      },
      "source": [
        "### Discussion: \n",
        "### 1) The time taken for the normal random forest model is 44 secs and the accuracy is 96.89 %. \n",
        "### 2) The time taken after dimension reduction using PCA (variance_ratio=0.95) is 105 secs and the accuracy is 94.95%. \n",
        "### 3) The time taken after dimension reduction using PCA (variance_ratio=0.90) is 79 secs and the accuracy is 95.36%. \n",
        "### 4) The time taken after dimension reduction using PCA (variance_ratio=0.85) is 60 secs and the accuracy is 95.52%. \n",
        "\n",
        "### Thus, the time taken by normal model is the least, followed by PCA with var_ratio=0.85 < var_ratio=90 < var_ratio=0.95"
      ]
    }
  ]
}